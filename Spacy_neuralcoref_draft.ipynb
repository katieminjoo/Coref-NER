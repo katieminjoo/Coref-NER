{
 "cells": [
  {
   "cell_type": "markdown",
   "metadata": {},
   "source": [
    "## Coreference Resolution & NER\n",
    "* Spacy(En_core_web_md)NeuralCoref\n",
    "* NeuralCoref"
   ]
  },
  {
   "cell_type": "code",
   "execution_count": null,
   "metadata": {},
   "outputs": [],
   "source": [
    "# https://stackoverflow.com/questions/62781349/how-to-use-neuralcoref-in-spacy\n",
    "# BE CAREFUL\n",
    "# Set your environment with\n",
    "# Python = 3.7\n",
    "# spacy = 2.1.0\n",
    "# neuralcoref\n",
    "# mine(NLP)"
   ]
  },
  {
   "cell_type": "code",
   "execution_count": 2,
   "metadata": {},
   "outputs": [
    {
     "name": "stdout",
     "output_type": "stream",
     "text": [
      "Collecting en_core_web_md==2.1.0\n",
      "  Downloading https://github.com/explosion/spacy-models/releases/download/en_core_web_md-2.1.0/en_core_web_md-2.1.0.tar.gz (95.4 MB)\n",
      "\u001b[2K     \u001b[90m━━━━━━━━━━━━━━━━━━━━━━━━━━━━━━━━━━━━━━━━\u001b[0m \u001b[32m95.4/95.4 MB\u001b[0m \u001b[31m54.8 MB/s\u001b[0m eta \u001b[36m0:00:00\u001b[0m00:01\u001b[0m00:01\u001b[0m\n",
      "\u001b[?25h  Preparing metadata (setup.py) ... \u001b[?25ldone\n",
      "\u001b[?25h\u001b[38;5;2m✔ Download and installation successful\u001b[0m\n",
      "You can now load the model via spacy.load('en_core_web_md')\n"
     ]
    }
   ],
   "source": [
    "!python -m spacy download en_core_web_md"
   ]
  },
  {
   "cell_type": "code",
   "execution_count": 1,
   "metadata": {},
   "outputs": [],
   "source": [
    "import spacy\n",
    "import neuralcoref\n",
    "from spacy import displacy"
   ]
  },
  {
   "cell_type": "code",
   "execution_count": 32,
   "metadata": {},
   "outputs": [],
   "source": [
    "import pandas as pd"
   ]
  },
  {
   "cell_type": "code",
   "execution_count": 49,
   "metadata": {},
   "outputs": [],
   "source": [
    "data = pd.read_excel('./data/3415_All_STORIES_Updated_ver02.xlsx', index_col = None, header = 0)"
   ]
  },
  {
   "cell_type": "code",
   "execution_count": 50,
   "metadata": {},
   "outputs": [],
   "source": [
    "# Function to extract story content after the names\n",
    "def extract_story(text):\n",
    "    # Step 1: Split the text by line breaks\n",
    "    lines = text.strip().split('\\n')\n",
    "\n",
    "    # Step 2: Detect the start of the story (the first longer segment, which should be a complete sentence)\n",
    "    story_started = False\n",
    "    story_lines = []\n",
    "    \n",
    "    for line in lines:\n",
    "        # If the line contains more than a few words (let's say more than 3), assume it's the start of the story\n",
    "        if len(line.split()) > 3:\n",
    "            story_started = True\n",
    "        # Once we detect the start of the story, append the rest of the lines\n",
    "        if story_started:\n",
    "            story_lines.append(line)\n",
    "    \n",
    "    # Step 3: Combine the story lines into a single string and return the result\n",
    "    return ' '.join(story_lines).strip()"
   ]
  },
  {
   "cell_type": "code",
   "execution_count": 51,
   "metadata": {},
   "outputs": [],
   "source": [
    "data['STORY TEXT'] = data['STORY TEXT'].apply(extract_story)"
   ]
  },
  {
   "cell_type": "code",
   "execution_count": 44,
   "metadata": {},
   "outputs": [],
   "source": [
    "samples = data[:10]"
   ]
  },
  {
   "cell_type": "code",
   "execution_count": 2,
   "metadata": {},
   "outputs": [
    {
     "data": {
      "text/plain": [
       "<spacy.lang.en.English at 0x7fd770acfd90>"
      ]
     },
     "execution_count": 2,
     "metadata": {},
     "output_type": "execute_result"
    }
   ],
   "source": [
    "# Load SpaCy's English model\n",
    "nlp = spacy.load('en_core_web_md')\n",
    "\n",
    "# Add neuralcoref to SpaCy's pipeline\n",
    "neuralcoref.add_to_pipe(nlp)"
   ]
  },
  {
   "cell_type": "code",
   "execution_count": 3,
   "metadata": {},
   "outputs": [],
   "source": [
    "text3 = 'Pikulski, Jan Wacław In 1943, based on information provided by informants, the Warsaw police arrested Dr. Stanisława Rubillowicz, a doctor who had been hiding using “Aryan” papers. Polish friends managed to free her from the hands of the Gestapo after testifying that she was a legitimate Polish woman arrested by mistake. After her release, it was clear to her and those who freed her that she had to get out of Warsaw as quickly as possible. Her Polish friends summoned Jan Pikulski, a relative, to the city. He owned a farm in the village of Albinow, in the Opatow county, in the Kielce district. He took Dr. Rubillowicz into his home, ostensibly to help him with the farm chores, and Rubillowicz also cared for his paralyzed father. Pikulski also hid Irena Adwentowicz, Dr. Rubillowicz’s mother, Franciszka Szwarc, her grandmother, Stefania Dziewiecka and the wife of a Jewish doctor from a nearby town. The five Jewish women hid in Pikulski’s home for almost two years and he bore all the expenses of keeping them. Despite the rural idyll surrounding his home, there were those in the area who suspected that the five women were Jewish, but this did not deter Pikulski from continuing to hide them in his home. One morning, Germans surrounded the house. The women were arrested and taken to the nearest police station. Pikulski kept his wits about him and with the help of underground activists managed to arrange their release. Thanks to Pikulski’s kindness and courage, all five women survived until their liberation. After the war, Rubillowicz immigrated to Israel and the other survivors remained in Poland. On July 29, 1968, Yad Vashem recognized Jan Wacław Pikulski as Righteous Among the Nations. '"
   ]
  },
  {
   "cell_type": "code",
   "execution_count": null,
   "metadata": {},
   "outputs": [],
   "source": [
    "# Input text for coreference resolution\n",
    "text = \"John asked Mary to go out. She said she was busy. John was disappointed but understood.\""
   ]
  },
  {
   "cell_type": "code",
   "execution_count": 5,
   "metadata": {},
   "outputs": [],
   "source": [
    "text2 = \"Rihanna is basically master of the fashion universe right now, so we're naturally going to pay attention to what trends she is and isn't wearing whenever she steps out of the door (or black SUV). She's having quite the epic week, first presenting her Savage x Fenty lingerie runway show then hosting her annual Diamond Ball charity event last night. Rihanna was decked out in Givenchy for the big event, but upon arrival at the venue, she wore a T-shirt, diamonds (naturally), and a scarf, leather pants, and heels in fall's biggest color trend: pistachio green.\""
   ]
  },
  {
   "cell_type": "code",
   "execution_count": 11,
   "metadata": {},
   "outputs": [],
   "source": [
    "text3 = \"When Sebastian Thrun started working on self-driving cars at Google in 2007, few people outside of the company took him seriously.\""
   ]
  },
  {
   "cell_type": "code",
   "execution_count": 42,
   "metadata": {},
   "outputs": [],
   "source": [
    "tqdm.pandas()"
   ]
  },
  {
   "cell_type": "code",
   "execution_count": 52,
   "metadata": {},
   "outputs": [
    {
     "name": "stderr",
     "output_type": "stream",
     "text": [
      "100%|██████████| 10/10 [00:10<00:00,  1.02s/it]\n",
      "/Users/minjoo/opt/anaconda3/envs/nlp/lib/python3.7/site-packages/ipykernel_launcher.py:1: SettingWithCopyWarning: \n",
      "A value is trying to be set on a copy of a slice from a DataFrame.\n",
      "Try using .loc[row_indexer,col_indexer] = value instead\n",
      "\n",
      "See the caveats in the documentation: https://pandas.pydata.org/pandas-docs/stable/user_guide/indexing.html#returning-a-view-versus-a-copy\n",
      "  \"\"\"Entry point for launching an IPython kernel.\n"
     ]
    }
   ],
   "source": [
    "samples['Resolved_Story'] = samples['STORY TEXT'].progress_apply(lambda row : nlp(row)._.coref_resolved)"
   ]
  },
  {
   "cell_type": "code",
   "execution_count": 48,
   "metadata": {},
   "outputs": [
    {
     "data": {
      "text/plain": [
       "'Wörl, Ludwig Ludwig Wörl (1906-1967) spent 11 years of Ludwig Ludwig Wörl (1906-1967) life as a political prisoner in Nazi concentration camps. Ludwig Ludwig Wörl (1906-1967) was first arrested by the Gestapo in 1934, and sent to Dachau for distributing a pamphlet in which the citizens of Munich were informed about the horrors of the camp. After spending some nine months in a dark detention cell, Ludwig Ludwig Wörl (1906-1967) was first transferred to the camp’s joinery and later, as a trained medical orderly, assigned to the camp’s sick-bay. In 1942, Ludwig Ludwig Wörl (1906-1967) was sent to Auschwitz together with 17 other male nurses to deal with an outbreak of typhus, which threatened not only the prisoners but also the German camp personnel. Appointed as the Lagerälteste (the camp elder) of the hospital barracks, Wörl, against the express orders of the SS, employed Jewish doctors, thus saving Jewish doctors from certain death. Ludwig Ludwig Wörl (1906-1967) also put Ludwig Ludwig Wörl (1906-1967) at risk in order to obtain at least a minimum of the required medicines and medical instruments for the treatment of the sick. Ludwig Ludwig Wörl (1906-1967) would forge selection lists in order to save Jewish patients from death by gassing. As a result of consistently countermanding the orders of the SS doctors aimed at decimating the number of the sick, Wörl was dismissed from Wörl post and incarcerated once again in an isolated detention cell. After a while Wörl was released and, by virtue of Wörl German descent and seniority, put in charge of Güntergrube, a forced-labor camp near Auschwitz. Here, again, Wörl made Wörl beneficial influence felt, protecting the 600 Jewish prisoners from maltreatment by sadistic German Kapos and seeing to it that the 600 Jewish prisoners get the 600 Jewish prisoners due share of food and clothing. Even prisoners with tuberculosis were able to survive because Wörl exempted Even prisoners with tuberculosis from hard work and protected Even prisoners with tuberculosis by various subterfuges from the inspection of the SS doctors. At the time of the evacuation of Auschwitz, Wörl helped prisoners escape from the infamous death marches. After the war Wörl, who became chairman of the Organization of Former Auschwitz Prisoners in Germany, dedicated Wörl life to perpetuating the memory of the Nazi crimes and bringing the Nazi crimes perpetrators to justice. In 1963, Wörl took the stand as one of the key witnesses in the Auschwitz trial in Frankfurt am Main. On March 19, 1963, Yad Vashem recognized Ludwig Wörl as Righteous Among the Nations. '"
      ]
     },
     "execution_count": 48,
     "metadata": {},
     "output_type": "execute_result"
    }
   ],
   "source": [
    "samples['Resolved_Story'][0]"
   ]
  },
  {
   "cell_type": "markdown",
   "metadata": {},
   "source": [
    "### Coreference Resolution"
   ]
  },
  {
   "cell_type": "code",
   "execution_count": 5,
   "metadata": {},
   "outputs": [
    {
     "name": "stdout",
     "output_type": "stream",
     "text": [
      "Pikulski, Jan Wacław\n",
      "0\n",
      "4\n",
      "her\n",
      "39\n",
      "40\n",
      "she\n",
      "49\n",
      "50\n",
      "her\n",
      "60\n",
      "61\n",
      "her\n",
      "67\n",
      "68\n",
      "her\n",
      "72\n",
      "73\n",
      "she\n",
      "74\n",
      "75\n",
      "Her\n",
      "86\n",
      "87\n",
      "Warsaw\n",
      "15\n",
      "16\n",
      "Warsaw\n",
      "80\n",
      "81\n",
      "He\n",
      "100\n",
      "101\n",
      "He\n",
      "120\n",
      "121\n",
      "he\n",
      "191\n",
      "192\n",
      "his\n",
      "205\n",
      "206\n",
      "Dr. Rubillowicz\n",
      "122\n",
      "124\n",
      "his\n",
      "125\n",
      "126\n",
      "him\n",
      "131\n",
      "132\n",
      "Rubillowicz\n",
      "138\n",
      "139\n",
      "his\n",
      "142\n",
      "143\n",
      "Pikulski\n",
      "146\n",
      "147\n",
      "her\n",
      "160\n",
      "161\n",
      "Pikulski\n",
      "183\n",
      "184\n",
      "Pikulski\n",
      "228\n",
      "229\n",
      "his\n",
      "235\n",
      "236\n",
      "Pikulski\n",
      "258\n",
      "259\n",
      "his\n",
      "260\n",
      "261\n",
      "him\n",
      "263\n",
      "264\n",
      "The five Jewish women\n",
      "177\n",
      "181\n",
      "them\n",
      "198\n",
      "199\n",
      "Pikulski’s\n",
      "183\n",
      "185\n",
      "Pikulski’s\n",
      "279\n",
      "281\n",
      "his home\n",
      "205\n",
      "207\n",
      "his home\n",
      "235\n",
      "237\n",
      "those in the area who suspected that the five women were Jewish\n",
      "210\n",
      "222\n",
      "them\n",
      "233\n",
      "234\n",
      "the five women\n",
      "217\n",
      "220\n",
      "The women\n",
      "246\n",
      "248\n",
      "all five women\n",
      "285\n",
      "288\n",
      "their\n",
      "290\n",
      "291\n",
      "underground activists\n",
      "269\n",
      "271\n",
      "their\n",
      "274\n",
      "275\n"
     ]
    }
   ],
   "source": [
    "for cluster in doc._.coref_clusters:\n",
    "    for reference in cluster:\n",
    "    #each of these is a Span object in Spacy\n",
    "        print(reference)\n",
    "        #starting index of this reference in the text\n",
    "        print(reference.start) \n",
    "        #ending index of this reference in the text\n",
    "        print(reference.end)"
   ]
  },
  {
   "cell_type": "code",
   "execution_count": 6,
   "metadata": {},
   "outputs": [
    {
     "name": "stdout",
     "output_type": "stream",
     "text": [
      "Coreference cluster: Pikulski, Jan Wacław: [Pikulski, Jan Wacław, her, she, her, her, her, she, Her]\n",
      "Coreference cluster: Warsaw: [Warsaw, Warsaw]\n",
      "Coreference cluster: He: [He, He, he, his]\n",
      "Coreference cluster: Dr. Rubillowicz: [Dr. Rubillowicz, his, him, Rubillowicz, his]\n",
      "Coreference cluster: Pikulski: [Pikulski, her, Pikulski, Pikulski, his, Pikulski, his, him]\n",
      "Coreference cluster: The five Jewish women: [The five Jewish women, them]\n",
      "Coreference cluster: Pikulski’s: [Pikulski’s, Pikulski’s]\n",
      "Coreference cluster: his home: [his home, his home]\n",
      "Coreference cluster: those in the area who suspected that the five women were Jewish: [those in the area who suspected that the five women were Jewish, them]\n",
      "Coreference cluster: the five women: [the five women, The women, all five women, their]\n",
      "Coreference cluster: underground activists: [underground activists, their]\n"
     ]
    }
   ],
   "source": [
    "# Print coreference clusters\n",
    "if doc._.has_coref:\n",
    "    for cluster in doc._.coref_clusters:\n",
    "        print(f\"Coreference cluster: {cluster}\")"
   ]
  },
  {
   "cell_type": "code",
   "execution_count": 7,
   "metadata": {},
   "outputs": [
    {
     "name": "stdout",
     "output_type": "stream",
     "text": [
      "Resolved document:\n",
      "Pikulski, Jan Wacław In 1943, based on information provided by informants, the Warsaw police arrested Dr. Stanisława Rubillowicz, a doctor who had been hiding using “Aryan” papers. Polish friends managed to free Pikulski, Jan Wacław from the hands of the Gestapo after testifying that Pikulski, Jan Wacław was a legitimate Polish woman arrested by mistake. After Pikulski, Jan Wacław release, it was clear to Pikulski, Jan Wacław and those who freed Pikulski, Jan Wacław that Pikulski, Jan Wacław had to get out of Warsaw as quickly as possible. Pikulski, Jan Wacław Polish friends summoned Jan Pikulski, a relative, to the city. He owned a farm in the village of Albinow, in the Opatow county, in the Kielce district. He took Dr. Rubillowicz into Dr. Rubillowicz home, ostensibly to help Dr. Rubillowicz with the farm chores, and Dr. Rubillowicz also cared for Dr. Rubillowicz paralyzed father. Pikulski also hid Irena Adwentowicz, Dr. Rubillowicz’s mother, Franciszka Szwarc, Pikulski grandmother, Stefania Dziewiecka and the wife of a Jewish doctor from a nearby town. The five Jewish women hid in Pikulski’s home for almost two years and He bore all the expenses of keeping The five Jewish women. Despite the rural idyll surrounding He home, there were those in the area who suspected that the five women were Jewish, but this did not deter Pikulski from continuing to hide those in the area who suspected that the five women were Jewish in his home. One morning, Germans surrounded the house. the five women were arrested and taken to the nearest police station. Pikulski kept Pikulski wits about Pikulski and with the help of underground activists managed to arrange underground activists release. Thanks to Pikulski’s kindness and courage, the five women survived until the five women liberation. After the war, Rubillowicz immigrated to Israel and the other survivors remained in Poland. On July 29, 1968, Yad Vashem recognized Jan Wacław Pikulski as Righteous Among the Nations. \n"
     ]
    }
   ],
   "source": [
    "# Print the resolved text\n",
    "resolved_doc = doc._.coref_resolved\n",
    "print(\"Resolved document:\")\n",
    "print(resolved_doc)"
   ]
  },
  {
   "cell_type": "markdown",
   "metadata": {},
   "source": [
    "### NER"
   ]
  },
  {
   "cell_type": "code",
   "execution_count": 18,
   "metadata": {},
   "outputs": [
    {
     "name": "stdout",
     "output_type": "stream",
     "text": [
      "Sebastian Thrun(PERSON)\n",
      "Google(ORG)\n",
      "2007(DATE)\n"
     ]
    }
   ],
   "source": [
    "for entity in doc.ents : \n",
    "    print(f\"{entity.text}({entity.label_})\")"
   ]
  },
  {
   "cell_type": "code",
   "execution_count": 20,
   "metadata": {},
   "outputs": [
    {
     "data": {
      "text/html": [
       "<div class=\"entities\" style=\"line-height: 2.5; direction: ltr\">When \n",
       "<mark class=\"entity\" style=\"background: #aa9cfc; padding: 0.45em 0.6em; margin: 0 0.25em; line-height: 1; border-radius: 0.35em; box-decoration-break: clone; -webkit-box-decoration-break: clone\">\n",
       "    Sebastian Thrun\n",
       "    <span style=\"font-size: 0.8em; font-weight: bold; line-height: 1; border-radius: 0.35em; text-transform: uppercase; vertical-align: middle; margin-left: 0.5rem\">PERSON</span>\n",
       "</mark>\n",
       " started working on self-driving cars at \n",
       "<mark class=\"entity\" style=\"background: #7aecec; padding: 0.45em 0.6em; margin: 0 0.25em; line-height: 1; border-radius: 0.35em; box-decoration-break: clone; -webkit-box-decoration-break: clone\">\n",
       "    Google\n",
       "    <span style=\"font-size: 0.8em; font-weight: bold; line-height: 1; border-radius: 0.35em; text-transform: uppercase; vertical-align: middle; margin-left: 0.5rem\">ORG</span>\n",
       "</mark>\n",
       " in \n",
       "<mark class=\"entity\" style=\"background: #bfe1d9; padding: 0.45em 0.6em; margin: 0 0.25em; line-height: 1; border-radius: 0.35em; box-decoration-break: clone; -webkit-box-decoration-break: clone\">\n",
       "    2007\n",
       "    <span style=\"font-size: 0.8em; font-weight: bold; line-height: 1; border-radius: 0.35em; text-transform: uppercase; vertical-align: middle; margin-left: 0.5rem\">DATE</span>\n",
       "</mark>\n",
       ", few people outside of the company took him seriously.</div>"
      ],
      "text/plain": [
       "<IPython.core.display.HTML object>"
      ]
     },
     "metadata": {},
     "output_type": "display_data"
    }
   ],
   "source": [
    "displacy.render(doc, style=\"ent\")"
   ]
  }
 ],
 "metadata": {
  "kernelspec": {
   "display_name": "hanhwa",
   "language": "python",
   "name": "python3"
  },
  "language_info": {
   "codemirror_mode": {
    "name": "ipython",
    "version": 3
   },
   "file_extension": ".py",
   "mimetype": "text/x-python",
   "name": "python",
   "nbconvert_exporter": "python",
   "pygments_lexer": "ipython3",
   "version": "3.7.16"
  }
 },
 "nbformat": 4,
 "nbformat_minor": 2
}
