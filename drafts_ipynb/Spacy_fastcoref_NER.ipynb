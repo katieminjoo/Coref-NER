{
 "cells": [
  {
   "cell_type": "code",
   "execution_count": null,
   "metadata": {},
   "outputs": [],
   "source": []
  },
  {
   "cell_type": "markdown",
   "metadata": {},
   "source": [
    "### FastCoref..."
   ]
  },
  {
   "cell_type": "code",
   "execution_count": 1,
   "metadata": {},
   "outputs": [
    {
     "name": "stdout",
     "output_type": "stream",
     "text": [
      "Collecting spacy-experimental\n",
      "  Using cached spacy_experimental-0.6.4-cp39-cp39-macosx_10_9_x86_64.whl.metadata (12 kB)\n",
      "Collecting spacy<3.8.0,>=3.3.0 (from spacy-experimental)\n",
      "  Using cached spacy-3.7.6-cp39-cp39-macosx_10_9_x86_64.whl.metadata (27 kB)\n",
      "Collecting numpy>=1.19.0 (from spacy-experimental)\n",
      "  Using cached numpy-2.0.2-cp39-cp39-macosx_14_0_x86_64.whl.metadata (60 kB)\n",
      "Collecting spacy-legacy<3.1.0,>=3.0.11 (from spacy<3.8.0,>=3.3.0->spacy-experimental)\n",
      "  Using cached spacy_legacy-3.0.12-py2.py3-none-any.whl.metadata (2.8 kB)\n",
      "Collecting spacy-loggers<2.0.0,>=1.0.0 (from spacy<3.8.0,>=3.3.0->spacy-experimental)\n",
      "  Using cached spacy_loggers-1.0.5-py3-none-any.whl.metadata (23 kB)\n",
      "Collecting murmurhash<1.1.0,>=0.28.0 (from spacy<3.8.0,>=3.3.0->spacy-experimental)\n",
      "  Using cached murmurhash-1.0.10-cp39-cp39-macosx_10_9_x86_64.whl.metadata (2.0 kB)\n",
      "Collecting cymem<2.1.0,>=2.0.2 (from spacy<3.8.0,>=3.3.0->spacy-experimental)\n",
      "  Using cached cymem-2.0.8-cp39-cp39-macosx_10_9_x86_64.whl.metadata (8.4 kB)\n",
      "Collecting preshed<3.1.0,>=3.0.2 (from spacy<3.8.0,>=3.3.0->spacy-experimental)\n",
      "  Using cached preshed-3.0.9-cp39-cp39-macosx_10_9_x86_64.whl.metadata (2.2 kB)\n",
      "Collecting thinc<8.3.0,>=8.2.2 (from spacy<3.8.0,>=3.3.0->spacy-experimental)\n",
      "  Using cached thinc-8.2.5-cp39-cp39-macosx_10_9_x86_64.whl.metadata (15 kB)\n",
      "Collecting wasabi<1.2.0,>=0.9.1 (from spacy<3.8.0,>=3.3.0->spacy-experimental)\n",
      "  Using cached wasabi-1.1.3-py3-none-any.whl.metadata (28 kB)\n",
      "Collecting srsly<3.0.0,>=2.4.3 (from spacy<3.8.0,>=3.3.0->spacy-experimental)\n",
      "  Using cached srsly-2.4.8-cp39-cp39-macosx_10_9_x86_64.whl.metadata (20 kB)\n",
      "Collecting catalogue<2.1.0,>=2.0.6 (from spacy<3.8.0,>=3.3.0->spacy-experimental)\n",
      "  Using cached catalogue-2.0.10-py3-none-any.whl.metadata (14 kB)\n",
      "Collecting weasel<0.5.0,>=0.1.0 (from spacy<3.8.0,>=3.3.0->spacy-experimental)\n",
      "  Using cached weasel-0.4.1-py3-none-any.whl.metadata (4.6 kB)\n",
      "Collecting typer<1.0.0,>=0.3.0 (from spacy<3.8.0,>=3.3.0->spacy-experimental)\n",
      "  Using cached typer-0.12.5-py3-none-any.whl.metadata (15 kB)\n",
      "Collecting tqdm<5.0.0,>=4.38.0 (from spacy<3.8.0,>=3.3.0->spacy-experimental)\n",
      "  Using cached tqdm-4.66.5-py3-none-any.whl.metadata (57 kB)\n",
      "Requirement already satisfied: requests<3.0.0,>=2.13.0 in /Users/minjoo/opt/anaconda3/envs/fastcoref2/lib/python3.9/site-packages (from spacy<3.8.0,>=3.3.0->spacy-experimental) (2.32.3)\n",
      "Collecting pydantic!=1.8,!=1.8.1,<3.0.0,>=1.7.4 (from spacy<3.8.0,>=3.3.0->spacy-experimental)\n",
      "  Using cached pydantic-2.9.0-py3-none-any.whl.metadata (146 kB)\n",
      "Requirement already satisfied: jinja2 in /Users/minjoo/opt/anaconda3/envs/fastcoref2/lib/python3.9/site-packages (from spacy<3.8.0,>=3.3.0->spacy-experimental) (3.1.4)\n",
      "Requirement already satisfied: setuptools in /Users/minjoo/opt/anaconda3/envs/fastcoref2/lib/python3.9/site-packages (from spacy<3.8.0,>=3.3.0->spacy-experimental) (72.1.0)\n",
      "Requirement already satisfied: packaging>=20.0 in /Users/minjoo/opt/anaconda3/envs/fastcoref2/lib/python3.9/site-packages (from spacy<3.8.0,>=3.3.0->spacy-experimental) (24.1)\n",
      "Collecting langcodes<4.0.0,>=3.2.0 (from spacy<3.8.0,>=3.3.0->spacy-experimental)\n",
      "  Using cached langcodes-3.4.0-py3-none-any.whl.metadata (29 kB)\n",
      "Collecting language-data>=1.2 (from langcodes<4.0.0,>=3.2.0->spacy<3.8.0,>=3.3.0->spacy-experimental)\n",
      "  Using cached language_data-1.2.0-py3-none-any.whl.metadata (4.3 kB)\n",
      "Collecting annotated-types>=0.4.0 (from pydantic!=1.8,!=1.8.1,<3.0.0,>=1.7.4->spacy<3.8.0,>=3.3.0->spacy-experimental)\n",
      "  Using cached annotated_types-0.7.0-py3-none-any.whl.metadata (15 kB)\n",
      "Collecting pydantic-core==2.23.2 (from pydantic!=1.8,!=1.8.1,<3.0.0,>=1.7.4->spacy<3.8.0,>=3.3.0->spacy-experimental)\n",
      "  Using cached pydantic_core-2.23.2-cp39-cp39-macosx_10_12_x86_64.whl.metadata (6.6 kB)\n",
      "Requirement already satisfied: typing-extensions>=4.6.1 in /Users/minjoo/opt/anaconda3/envs/fastcoref2/lib/python3.9/site-packages (from pydantic!=1.8,!=1.8.1,<3.0.0,>=1.7.4->spacy<3.8.0,>=3.3.0->spacy-experimental) (4.12.2)\n",
      "Collecting tzdata (from pydantic!=1.8,!=1.8.1,<3.0.0,>=1.7.4->spacy<3.8.0,>=3.3.0->spacy-experimental)\n",
      "  Using cached tzdata-2024.1-py2.py3-none-any.whl.metadata (1.4 kB)\n",
      "Requirement already satisfied: charset-normalizer<4,>=2 in /Users/minjoo/opt/anaconda3/envs/fastcoref2/lib/python3.9/site-packages (from requests<3.0.0,>=2.13.0->spacy<3.8.0,>=3.3.0->spacy-experimental) (3.3.2)\n",
      "Requirement already satisfied: idna<4,>=2.5 in /Users/minjoo/opt/anaconda3/envs/fastcoref2/lib/python3.9/site-packages (from requests<3.0.0,>=2.13.0->spacy<3.8.0,>=3.3.0->spacy-experimental) (3.8)\n",
      "Requirement already satisfied: urllib3<3,>=1.21.1 in /Users/minjoo/opt/anaconda3/envs/fastcoref2/lib/python3.9/site-packages (from requests<3.0.0,>=2.13.0->spacy<3.8.0,>=3.3.0->spacy-experimental) (2.2.2)\n",
      "Requirement already satisfied: certifi>=2017.4.17 in /Users/minjoo/opt/anaconda3/envs/fastcoref2/lib/python3.9/site-packages (from requests<3.0.0,>=2.13.0->spacy<3.8.0,>=3.3.0->spacy-experimental) (2024.8.30)\n",
      "Collecting blis<0.8.0,>=0.7.8 (from thinc<8.3.0,>=8.2.2->spacy<3.8.0,>=3.3.0->spacy-experimental)\n",
      "  Using cached blis-0.7.11-cp39-cp39-macosx_10_9_x86_64.whl.metadata (7.4 kB)\n",
      "Collecting confection<1.0.0,>=0.0.1 (from thinc<8.3.0,>=8.2.2->spacy<3.8.0,>=3.3.0->spacy-experimental)\n",
      "  Using cached confection-0.1.5-py3-none-any.whl.metadata (19 kB)\n",
      "Collecting numpy>=1.19.0 (from spacy-experimental)\n",
      "  Using cached numpy-1.26.4-cp39-cp39-macosx_10_9_x86_64.whl.metadata (61 kB)\n",
      "Collecting click>=8.0.0 (from typer<1.0.0,>=0.3.0->spacy<3.8.0,>=3.3.0->spacy-experimental)\n",
      "  Using cached click-8.1.7-py3-none-any.whl.metadata (3.0 kB)\n",
      "Collecting shellingham>=1.3.0 (from typer<1.0.0,>=0.3.0->spacy<3.8.0,>=3.3.0->spacy-experimental)\n",
      "  Using cached shellingham-1.5.4-py2.py3-none-any.whl.metadata (3.5 kB)\n",
      "Collecting rich>=10.11.0 (from typer<1.0.0,>=0.3.0->spacy<3.8.0,>=3.3.0->spacy-experimental)\n",
      "  Using cached rich-13.8.0-py3-none-any.whl.metadata (18 kB)\n",
      "Collecting cloudpathlib<1.0.0,>=0.7.0 (from weasel<0.5.0,>=0.1.0->spacy<3.8.0,>=3.3.0->spacy-experimental)\n",
      "  Using cached cloudpathlib-0.19.0-py3-none-any.whl.metadata (14 kB)\n",
      "Collecting smart-open<8.0.0,>=5.2.1 (from weasel<0.5.0,>=0.1.0->spacy<3.8.0,>=3.3.0->spacy-experimental)\n",
      "  Using cached smart_open-7.0.4-py3-none-any.whl.metadata (23 kB)\n",
      "Requirement already satisfied: MarkupSafe>=2.0 in /Users/minjoo/opt/anaconda3/envs/fastcoref2/lib/python3.9/site-packages (from jinja2->spacy<3.8.0,>=3.3.0->spacy-experimental) (2.1.5)\n",
      "Collecting marisa-trie>=0.7.7 (from language-data>=1.2->langcodes<4.0.0,>=3.2.0->spacy<3.8.0,>=3.3.0->spacy-experimental)\n",
      "  Using cached marisa_trie-1.2.0-cp39-cp39-macosx_10_9_x86_64.whl.metadata (8.7 kB)\n",
      "Collecting markdown-it-py>=2.2.0 (from rich>=10.11.0->typer<1.0.0,>=0.3.0->spacy<3.8.0,>=3.3.0->spacy-experimental)\n",
      "  Using cached markdown_it_py-3.0.0-py3-none-any.whl.metadata (6.9 kB)\n",
      "Requirement already satisfied: pygments<3.0.0,>=2.13.0 in /Users/minjoo/opt/anaconda3/envs/fastcoref2/lib/python3.9/site-packages (from rich>=10.11.0->typer<1.0.0,>=0.3.0->spacy<3.8.0,>=3.3.0->spacy-experimental) (2.18.0)\n",
      "Collecting wrapt (from smart-open<8.0.0,>=5.2.1->weasel<0.5.0,>=0.1.0->spacy<3.8.0,>=3.3.0->spacy-experimental)\n",
      "  Using cached wrapt-1.16.0-cp39-cp39-macosx_10_9_x86_64.whl.metadata (6.6 kB)\n",
      "Collecting mdurl~=0.1 (from markdown-it-py>=2.2.0->rich>=10.11.0->typer<1.0.0,>=0.3.0->spacy<3.8.0,>=3.3.0->spacy-experimental)\n",
      "  Using cached mdurl-0.1.2-py3-none-any.whl.metadata (1.6 kB)\n",
      "Using cached spacy_experimental-0.6.4-cp39-cp39-macosx_10_9_x86_64.whl (742 kB)\n",
      "Using cached spacy-3.7.6-cp39-cp39-macosx_10_9_x86_64.whl (6.5 MB)\n",
      "Using cached catalogue-2.0.10-py3-none-any.whl (17 kB)\n",
      "Using cached cymem-2.0.8-cp39-cp39-macosx_10_9_x86_64.whl (42 kB)\n",
      "Using cached langcodes-3.4.0-py3-none-any.whl (182 kB)\n",
      "Using cached murmurhash-1.0.10-cp39-cp39-macosx_10_9_x86_64.whl (26 kB)\n",
      "Using cached preshed-3.0.9-cp39-cp39-macosx_10_9_x86_64.whl (133 kB)\n",
      "Using cached pydantic-2.9.0-py3-none-any.whl (434 kB)\n",
      "Using cached pydantic_core-2.23.2-cp39-cp39-macosx_10_12_x86_64.whl (1.8 MB)\n",
      "Using cached spacy_legacy-3.0.12-py2.py3-none-any.whl (29 kB)\n",
      "Using cached spacy_loggers-1.0.5-py3-none-any.whl (22 kB)\n",
      "Using cached srsly-2.4.8-cp39-cp39-macosx_10_9_x86_64.whl (493 kB)\n",
      "Using cached thinc-8.2.5-cp39-cp39-macosx_10_9_x86_64.whl (847 kB)\n",
      "Using cached numpy-1.26.4-cp39-cp39-macosx_10_9_x86_64.whl (20.6 MB)\n",
      "Using cached tqdm-4.66.5-py3-none-any.whl (78 kB)\n",
      "Using cached typer-0.12.5-py3-none-any.whl (47 kB)\n",
      "Using cached wasabi-1.1.3-py3-none-any.whl (27 kB)\n",
      "Using cached weasel-0.4.1-py3-none-any.whl (50 kB)\n",
      "Using cached annotated_types-0.7.0-py3-none-any.whl (13 kB)\n",
      "Using cached blis-0.7.11-cp39-cp39-macosx_10_9_x86_64.whl (6.1 MB)\n",
      "Using cached click-8.1.7-py3-none-any.whl (97 kB)\n",
      "Using cached cloudpathlib-0.19.0-py3-none-any.whl (49 kB)\n",
      "Using cached confection-0.1.5-py3-none-any.whl (35 kB)\n",
      "Using cached language_data-1.2.0-py3-none-any.whl (5.4 MB)\n",
      "Using cached rich-13.8.0-py3-none-any.whl (241 kB)\n",
      "Using cached shellingham-1.5.4-py2.py3-none-any.whl (9.8 kB)\n",
      "Using cached smart_open-7.0.4-py3-none-any.whl (61 kB)\n",
      "Using cached tzdata-2024.1-py2.py3-none-any.whl (345 kB)\n",
      "Using cached marisa_trie-1.2.0-cp39-cp39-macosx_10_9_x86_64.whl (192 kB)\n",
      "Using cached markdown_it_py-3.0.0-py3-none-any.whl (87 kB)\n",
      "Using cached wrapt-1.16.0-cp39-cp39-macosx_10_9_x86_64.whl (37 kB)\n",
      "Using cached mdurl-0.1.2-py3-none-any.whl (10.0 kB)\n",
      "Installing collected packages: cymem, wrapt, wasabi, tzdata, tqdm, spacy-loggers, spacy-legacy, shellingham, pydantic-core, numpy, murmurhash, mdurl, marisa-trie, cloudpathlib, click, catalogue, annotated-types, srsly, smart-open, pydantic, preshed, markdown-it-py, language-data, blis, rich, langcodes, confection, typer, thinc, weasel, spacy, spacy-experimental\n",
      "Successfully installed annotated-types-0.7.0 blis-0.7.11 catalogue-2.0.10 click-8.1.7 cloudpathlib-0.19.0 confection-0.1.5 cymem-2.0.8 langcodes-3.4.0 language-data-1.2.0 marisa-trie-1.2.0 markdown-it-py-3.0.0 mdurl-0.1.2 murmurhash-1.0.10 numpy-1.26.4 preshed-3.0.9 pydantic-2.9.0 pydantic-core-2.23.2 rich-13.8.0 shellingham-1.5.4 smart-open-7.0.4 spacy-3.7.6 spacy-experimental-0.6.4 spacy-legacy-3.0.12 spacy-loggers-1.0.5 srsly-2.4.8 thinc-8.2.5 tqdm-4.66.5 typer-0.12.5 tzdata-2024.1 wasabi-1.1.3 weasel-0.4.1 wrapt-1.16.0\n"
     ]
    }
   ],
   "source": [
    "# Install Spacy\n",
    "!pip install spacy-experimental\n",
    "# !pip install spacy"
   ]
  },
  {
   "cell_type": "code",
   "execution_count": 2,
   "metadata": {},
   "outputs": [
    {
     "name": "stdout",
     "output_type": "stream",
     "text": [
      "Collecting fastcoref\n",
      "  Using cached fastcoref-2.1.6-py3-none-any.whl\n",
      "Requirement already satisfied: tqdm>=4.64.0 in /Users/minjoo/opt/anaconda3/envs/fastcoref2/lib/python3.9/site-packages (from fastcoref) (4.66.5)\n",
      "Requirement already satisfied: numpy>=1.21.6 in /Users/minjoo/opt/anaconda3/envs/fastcoref2/lib/python3.9/site-packages (from fastcoref) (1.26.4)\n",
      "Collecting scipy>=1.7.3 (from fastcoref)\n",
      "  Using cached scipy-1.13.1-cp39-cp39-macosx_10_9_x86_64.whl.metadata (60 kB)\n",
      "Requirement already satisfied: spacy>=3.0.6 in /Users/minjoo/opt/anaconda3/envs/fastcoref2/lib/python3.9/site-packages (from fastcoref) (3.7.6)\n",
      "Collecting torch>=1.10.0 (from fastcoref)\n",
      "  Using cached torch-2.2.2-cp39-none-macosx_10_9_x86_64.whl.metadata (25 kB)\n",
      "Collecting transformers>=4.11.3 (from fastcoref)\n",
      "  Using cached transformers-4.44.2-py3-none-any.whl.metadata (43 kB)\n",
      "Collecting datasets>=2.5.2 (from fastcoref)\n",
      "  Using cached datasets-2.21.0-py3-none-any.whl.metadata (21 kB)\n",
      "Collecting filelock (from datasets>=2.5.2->fastcoref)\n",
      "  Using cached filelock-3.15.4-py3-none-any.whl.metadata (2.9 kB)\n",
      "Collecting pyarrow>=15.0.0 (from datasets>=2.5.2->fastcoref)\n",
      "  Using cached pyarrow-17.0.0-cp39-cp39-macosx_10_15_x86_64.whl.metadata (3.3 kB)\n",
      "Collecting dill<0.3.9,>=0.3.0 (from datasets>=2.5.2->fastcoref)\n",
      "  Using cached dill-0.3.8-py3-none-any.whl.metadata (10 kB)\n",
      "Collecting pandas (from datasets>=2.5.2->fastcoref)\n",
      "  Using cached pandas-2.2.2-cp39-cp39-macosx_10_9_x86_64.whl.metadata (19 kB)\n",
      "Requirement already satisfied: requests>=2.32.2 in /Users/minjoo/opt/anaconda3/envs/fastcoref2/lib/python3.9/site-packages (from datasets>=2.5.2->fastcoref) (2.32.3)\n",
      "Collecting xxhash (from datasets>=2.5.2->fastcoref)\n",
      "  Using cached xxhash-3.5.0-cp39-cp39-macosx_10_9_x86_64.whl.metadata (12 kB)\n",
      "Collecting multiprocess (from datasets>=2.5.2->fastcoref)\n",
      "  Using cached multiprocess-0.70.16-py39-none-any.whl.metadata (7.2 kB)\n",
      "Collecting fsspec<=2024.6.1,>=2023.1.0 (from fsspec[http]<=2024.6.1,>=2023.1.0->datasets>=2.5.2->fastcoref)\n",
      "  Using cached fsspec-2024.6.1-py3-none-any.whl.metadata (11 kB)\n",
      "Collecting aiohttp (from datasets>=2.5.2->fastcoref)\n",
      "  Using cached aiohttp-3.10.5-cp39-cp39-macosx_10_9_x86_64.whl.metadata (7.5 kB)\n",
      "Collecting huggingface-hub>=0.21.2 (from datasets>=2.5.2->fastcoref)\n",
      "  Using cached huggingface_hub-0.24.6-py3-none-any.whl.metadata (13 kB)\n",
      "Requirement already satisfied: packaging in /Users/minjoo/opt/anaconda3/envs/fastcoref2/lib/python3.9/site-packages (from datasets>=2.5.2->fastcoref) (24.1)\n",
      "Requirement already satisfied: pyyaml>=5.1 in /Users/minjoo/opt/anaconda3/envs/fastcoref2/lib/python3.9/site-packages (from datasets>=2.5.2->fastcoref) (6.0.2)\n",
      "Requirement already satisfied: spacy-legacy<3.1.0,>=3.0.11 in /Users/minjoo/opt/anaconda3/envs/fastcoref2/lib/python3.9/site-packages (from spacy>=3.0.6->fastcoref) (3.0.12)\n",
      "Requirement already satisfied: spacy-loggers<2.0.0,>=1.0.0 in /Users/minjoo/opt/anaconda3/envs/fastcoref2/lib/python3.9/site-packages (from spacy>=3.0.6->fastcoref) (1.0.5)\n",
      "Requirement already satisfied: murmurhash<1.1.0,>=0.28.0 in /Users/minjoo/opt/anaconda3/envs/fastcoref2/lib/python3.9/site-packages (from spacy>=3.0.6->fastcoref) (1.0.10)\n",
      "Requirement already satisfied: cymem<2.1.0,>=2.0.2 in /Users/minjoo/opt/anaconda3/envs/fastcoref2/lib/python3.9/site-packages (from spacy>=3.0.6->fastcoref) (2.0.8)\n",
      "Requirement already satisfied: preshed<3.1.0,>=3.0.2 in /Users/minjoo/opt/anaconda3/envs/fastcoref2/lib/python3.9/site-packages (from spacy>=3.0.6->fastcoref) (3.0.9)\n",
      "Requirement already satisfied: thinc<8.3.0,>=8.2.2 in /Users/minjoo/opt/anaconda3/envs/fastcoref2/lib/python3.9/site-packages (from spacy>=3.0.6->fastcoref) (8.2.5)\n",
      "Requirement already satisfied: wasabi<1.2.0,>=0.9.1 in /Users/minjoo/opt/anaconda3/envs/fastcoref2/lib/python3.9/site-packages (from spacy>=3.0.6->fastcoref) (1.1.3)\n",
      "Requirement already satisfied: srsly<3.0.0,>=2.4.3 in /Users/minjoo/opt/anaconda3/envs/fastcoref2/lib/python3.9/site-packages (from spacy>=3.0.6->fastcoref) (2.4.8)\n",
      "Requirement already satisfied: catalogue<2.1.0,>=2.0.6 in /Users/minjoo/opt/anaconda3/envs/fastcoref2/lib/python3.9/site-packages (from spacy>=3.0.6->fastcoref) (2.0.10)\n",
      "Requirement already satisfied: weasel<0.5.0,>=0.1.0 in /Users/minjoo/opt/anaconda3/envs/fastcoref2/lib/python3.9/site-packages (from spacy>=3.0.6->fastcoref) (0.4.1)\n",
      "Requirement already satisfied: typer<1.0.0,>=0.3.0 in /Users/minjoo/opt/anaconda3/envs/fastcoref2/lib/python3.9/site-packages (from spacy>=3.0.6->fastcoref) (0.12.5)\n",
      "Requirement already satisfied: pydantic!=1.8,!=1.8.1,<3.0.0,>=1.7.4 in /Users/minjoo/opt/anaconda3/envs/fastcoref2/lib/python3.9/site-packages (from spacy>=3.0.6->fastcoref) (2.9.0)\n",
      "Requirement already satisfied: jinja2 in /Users/minjoo/opt/anaconda3/envs/fastcoref2/lib/python3.9/site-packages (from spacy>=3.0.6->fastcoref) (3.1.4)\n",
      "Requirement already satisfied: setuptools in /Users/minjoo/opt/anaconda3/envs/fastcoref2/lib/python3.9/site-packages (from spacy>=3.0.6->fastcoref) (72.1.0)\n",
      "Requirement already satisfied: langcodes<4.0.0,>=3.2.0 in /Users/minjoo/opt/anaconda3/envs/fastcoref2/lib/python3.9/site-packages (from spacy>=3.0.6->fastcoref) (3.4.0)\n",
      "Requirement already satisfied: typing-extensions>=4.8.0 in /Users/minjoo/opt/anaconda3/envs/fastcoref2/lib/python3.9/site-packages (from torch>=1.10.0->fastcoref) (4.12.2)\n",
      "Collecting sympy (from torch>=1.10.0->fastcoref)\n",
      "  Using cached sympy-1.13.2-py3-none-any.whl.metadata (12 kB)\n",
      "Collecting networkx (from torch>=1.10.0->fastcoref)\n",
      "  Using cached networkx-3.2.1-py3-none-any.whl.metadata (5.2 kB)\n",
      "Collecting regex!=2019.12.17 (from transformers>=4.11.3->fastcoref)\n",
      "  Using cached regex-2024.7.24-cp39-cp39-macosx_10_9_x86_64.whl.metadata (40 kB)\n",
      "Collecting safetensors>=0.4.1 (from transformers>=4.11.3->fastcoref)\n",
      "  Using cached safetensors-0.4.5-cp39-cp39-macosx_10_12_x86_64.whl.metadata (3.8 kB)\n",
      "Collecting tokenizers<0.20,>=0.19 (from transformers>=4.11.3->fastcoref)\n",
      "  Using cached tokenizers-0.19.1-cp39-cp39-macosx_10_12_x86_64.whl.metadata (6.7 kB)\n",
      "Collecting aiohappyeyeballs>=2.3.0 (from aiohttp->datasets>=2.5.2->fastcoref)\n",
      "  Using cached aiohappyeyeballs-2.4.0-py3-none-any.whl.metadata (5.9 kB)\n",
      "Collecting aiosignal>=1.1.2 (from aiohttp->datasets>=2.5.2->fastcoref)\n",
      "  Using cached aiosignal-1.3.1-py3-none-any.whl.metadata (4.0 kB)\n",
      "Requirement already satisfied: attrs>=17.3.0 in /Users/minjoo/opt/anaconda3/envs/fastcoref2/lib/python3.9/site-packages (from aiohttp->datasets>=2.5.2->fastcoref) (24.2.0)\n",
      "Collecting frozenlist>=1.1.1 (from aiohttp->datasets>=2.5.2->fastcoref)\n",
      "  Using cached frozenlist-1.4.1-cp39-cp39-macosx_10_9_x86_64.whl.metadata (12 kB)\n",
      "Collecting multidict<7.0,>=4.5 (from aiohttp->datasets>=2.5.2->fastcoref)\n",
      "  Using cached multidict-6.0.5-cp39-cp39-macosx_10_9_x86_64.whl.metadata (4.2 kB)\n",
      "Collecting yarl<2.0,>=1.0 (from aiohttp->datasets>=2.5.2->fastcoref)\n",
      "  Using cached yarl-1.10.0-cp39-cp39-macosx_10_9_x86_64.whl.metadata (45 kB)\n",
      "Collecting async-timeout<5.0,>=4.0 (from aiohttp->datasets>=2.5.2->fastcoref)\n",
      "  Using cached async_timeout-4.0.3-py3-none-any.whl.metadata (4.2 kB)\n",
      "Requirement already satisfied: language-data>=1.2 in /Users/minjoo/opt/anaconda3/envs/fastcoref2/lib/python3.9/site-packages (from langcodes<4.0.0,>=3.2.0->spacy>=3.0.6->fastcoref) (1.2.0)\n",
      "Requirement already satisfied: annotated-types>=0.4.0 in /Users/minjoo/opt/anaconda3/envs/fastcoref2/lib/python3.9/site-packages (from pydantic!=1.8,!=1.8.1,<3.0.0,>=1.7.4->spacy>=3.0.6->fastcoref) (0.7.0)\n",
      "Requirement already satisfied: pydantic-core==2.23.2 in /Users/minjoo/opt/anaconda3/envs/fastcoref2/lib/python3.9/site-packages (from pydantic!=1.8,!=1.8.1,<3.0.0,>=1.7.4->spacy>=3.0.6->fastcoref) (2.23.2)\n",
      "Requirement already satisfied: tzdata in /Users/minjoo/opt/anaconda3/envs/fastcoref2/lib/python3.9/site-packages (from pydantic!=1.8,!=1.8.1,<3.0.0,>=1.7.4->spacy>=3.0.6->fastcoref) (2024.1)\n",
      "Requirement already satisfied: charset-normalizer<4,>=2 in /Users/minjoo/opt/anaconda3/envs/fastcoref2/lib/python3.9/site-packages (from requests>=2.32.2->datasets>=2.5.2->fastcoref) (3.3.2)\n",
      "Requirement already satisfied: idna<4,>=2.5 in /Users/minjoo/opt/anaconda3/envs/fastcoref2/lib/python3.9/site-packages (from requests>=2.32.2->datasets>=2.5.2->fastcoref) (3.8)\n",
      "Requirement already satisfied: urllib3<3,>=1.21.1 in /Users/minjoo/opt/anaconda3/envs/fastcoref2/lib/python3.9/site-packages (from requests>=2.32.2->datasets>=2.5.2->fastcoref) (2.2.2)\n",
      "Requirement already satisfied: certifi>=2017.4.17 in /Users/minjoo/opt/anaconda3/envs/fastcoref2/lib/python3.9/site-packages (from requests>=2.32.2->datasets>=2.5.2->fastcoref) (2024.8.30)\n",
      "Requirement already satisfied: blis<0.8.0,>=0.7.8 in /Users/minjoo/opt/anaconda3/envs/fastcoref2/lib/python3.9/site-packages (from thinc<8.3.0,>=8.2.2->spacy>=3.0.6->fastcoref) (0.7.11)\n",
      "Requirement already satisfied: confection<1.0.0,>=0.0.1 in /Users/minjoo/opt/anaconda3/envs/fastcoref2/lib/python3.9/site-packages (from thinc<8.3.0,>=8.2.2->spacy>=3.0.6->fastcoref) (0.1.5)\n",
      "Requirement already satisfied: click>=8.0.0 in /Users/minjoo/opt/anaconda3/envs/fastcoref2/lib/python3.9/site-packages (from typer<1.0.0,>=0.3.0->spacy>=3.0.6->fastcoref) (8.1.7)\n",
      "Requirement already satisfied: shellingham>=1.3.0 in /Users/minjoo/opt/anaconda3/envs/fastcoref2/lib/python3.9/site-packages (from typer<1.0.0,>=0.3.0->spacy>=3.0.6->fastcoref) (1.5.4)\n",
      "Requirement already satisfied: rich>=10.11.0 in /Users/minjoo/opt/anaconda3/envs/fastcoref2/lib/python3.9/site-packages (from typer<1.0.0,>=0.3.0->spacy>=3.0.6->fastcoref) (13.8.0)\n",
      "Requirement already satisfied: cloudpathlib<1.0.0,>=0.7.0 in /Users/minjoo/opt/anaconda3/envs/fastcoref2/lib/python3.9/site-packages (from weasel<0.5.0,>=0.1.0->spacy>=3.0.6->fastcoref) (0.19.0)\n",
      "Requirement already satisfied: smart-open<8.0.0,>=5.2.1 in /Users/minjoo/opt/anaconda3/envs/fastcoref2/lib/python3.9/site-packages (from weasel<0.5.0,>=0.1.0->spacy>=3.0.6->fastcoref) (7.0.4)\n",
      "Requirement already satisfied: MarkupSafe>=2.0 in /Users/minjoo/opt/anaconda3/envs/fastcoref2/lib/python3.9/site-packages (from jinja2->spacy>=3.0.6->fastcoref) (2.1.5)\n",
      "Requirement already satisfied: python-dateutil>=2.8.2 in /Users/minjoo/opt/anaconda3/envs/fastcoref2/lib/python3.9/site-packages (from pandas->datasets>=2.5.2->fastcoref) (2.9.0.post0)\n",
      "Collecting pytz>=2020.1 (from pandas->datasets>=2.5.2->fastcoref)\n",
      "  Using cached pytz-2024.1-py2.py3-none-any.whl.metadata (22 kB)\n",
      "Collecting mpmath<1.4,>=1.1.0 (from sympy->torch>=1.10.0->fastcoref)\n",
      "  Using cached mpmath-1.3.0-py3-none-any.whl.metadata (8.6 kB)\n",
      "Requirement already satisfied: marisa-trie>=0.7.7 in /Users/minjoo/opt/anaconda3/envs/fastcoref2/lib/python3.9/site-packages (from language-data>=1.2->langcodes<4.0.0,>=3.2.0->spacy>=3.0.6->fastcoref) (1.2.0)\n",
      "Requirement already satisfied: six>=1.5 in /Users/minjoo/opt/anaconda3/envs/fastcoref2/lib/python3.9/site-packages (from python-dateutil>=2.8.2->pandas->datasets>=2.5.2->fastcoref) (1.16.0)\n",
      "Requirement already satisfied: markdown-it-py>=2.2.0 in /Users/minjoo/opt/anaconda3/envs/fastcoref2/lib/python3.9/site-packages (from rich>=10.11.0->typer<1.0.0,>=0.3.0->spacy>=3.0.6->fastcoref) (3.0.0)\n",
      "Requirement already satisfied: pygments<3.0.0,>=2.13.0 in /Users/minjoo/opt/anaconda3/envs/fastcoref2/lib/python3.9/site-packages (from rich>=10.11.0->typer<1.0.0,>=0.3.0->spacy>=3.0.6->fastcoref) (2.18.0)\n",
      "Requirement already satisfied: wrapt in /Users/minjoo/opt/anaconda3/envs/fastcoref2/lib/python3.9/site-packages (from smart-open<8.0.0,>=5.2.1->weasel<0.5.0,>=0.1.0->spacy>=3.0.6->fastcoref) (1.16.0)\n",
      "Requirement already satisfied: mdurl~=0.1 in /Users/minjoo/opt/anaconda3/envs/fastcoref2/lib/python3.9/site-packages (from markdown-it-py>=2.2.0->rich>=10.11.0->typer<1.0.0,>=0.3.0->spacy>=3.0.6->fastcoref) (0.1.2)\n",
      "Using cached datasets-2.21.0-py3-none-any.whl (527 kB)\n",
      "Using cached scipy-1.13.1-cp39-cp39-macosx_10_9_x86_64.whl (39.4 MB)\n",
      "Using cached torch-2.2.2-cp39-none-macosx_10_9_x86_64.whl (150.8 MB)\n",
      "Using cached transformers-4.44.2-py3-none-any.whl (9.5 MB)\n",
      "Using cached dill-0.3.8-py3-none-any.whl (116 kB)\n",
      "Using cached fsspec-2024.6.1-py3-none-any.whl (177 kB)\n",
      "Using cached aiohttp-3.10.5-cp39-cp39-macosx_10_9_x86_64.whl (398 kB)\n",
      "Using cached huggingface_hub-0.24.6-py3-none-any.whl (417 kB)\n",
      "Using cached pyarrow-17.0.0-cp39-cp39-macosx_10_15_x86_64.whl (29.0 MB)\n",
      "Using cached regex-2024.7.24-cp39-cp39-macosx_10_9_x86_64.whl (282 kB)\n",
      "Using cached safetensors-0.4.5-cp39-cp39-macosx_10_12_x86_64.whl (393 kB)\n",
      "Using cached tokenizers-0.19.1-cp39-cp39-macosx_10_12_x86_64.whl (2.5 MB)\n",
      "Using cached filelock-3.15.4-py3-none-any.whl (16 kB)\n",
      "Using cached multiprocess-0.70.16-py39-none-any.whl (133 kB)\n",
      "Using cached networkx-3.2.1-py3-none-any.whl (1.6 MB)\n",
      "Using cached pandas-2.2.2-cp39-cp39-macosx_10_9_x86_64.whl (12.6 MB)\n",
      "Using cached sympy-1.13.2-py3-none-any.whl (6.2 MB)\n",
      "Using cached xxhash-3.5.0-cp39-cp39-macosx_10_9_x86_64.whl (31 kB)\n",
      "Using cached aiohappyeyeballs-2.4.0-py3-none-any.whl (12 kB)\n",
      "Using cached aiosignal-1.3.1-py3-none-any.whl (7.6 kB)\n",
      "Using cached async_timeout-4.0.3-py3-none-any.whl (5.7 kB)\n",
      "Using cached frozenlist-1.4.1-cp39-cp39-macosx_10_9_x86_64.whl (55 kB)\n",
      "Using cached mpmath-1.3.0-py3-none-any.whl (536 kB)\n",
      "Using cached multidict-6.0.5-cp39-cp39-macosx_10_9_x86_64.whl (30 kB)\n",
      "Using cached pytz-2024.1-py2.py3-none-any.whl (505 kB)\n",
      "Using cached yarl-1.10.0-cp39-cp39-macosx_10_9_x86_64.whl (116 kB)\n",
      "Installing collected packages: pytz, mpmath, xxhash, sympy, scipy, safetensors, regex, pyarrow, networkx, multidict, fsspec, frozenlist, filelock, dill, async-timeout, aiohappyeyeballs, yarl, torch, pandas, multiprocess, huggingface-hub, aiosignal, tokenizers, aiohttp, transformers, datasets, fastcoref\n",
      "Successfully installed aiohappyeyeballs-2.4.0 aiohttp-3.10.5 aiosignal-1.3.1 async-timeout-4.0.3 datasets-2.21.0 dill-0.3.8 fastcoref-2.1.6 filelock-3.15.4 frozenlist-1.4.1 fsspec-2024.6.1 huggingface-hub-0.24.6 mpmath-1.3.0 multidict-6.0.5 multiprocess-0.70.16 networkx-3.2.1 pandas-2.2.2 pyarrow-17.0.0 pytz-2024.1 regex-2024.7.24 safetensors-0.4.5 scipy-1.13.1 sympy-1.13.2 tokenizers-0.19.1 torch-2.2.2 transformers-4.44.2 xxhash-3.5.0 yarl-1.10.0\n"
     ]
    }
   ],
   "source": [
    "!pip install fastcoref"
   ]
  },
  {
   "cell_type": "code",
   "execution_count": null,
   "metadata": {},
   "outputs": [],
   "source": [
    "# my environment name (fastcoref)\n",
    "# Python == 3.9.19\n",
    "# spacy == 3.7.6 (Latest)\n",
    "# spacy-transformers == 1.3.5\n",
    "# fastcoref == 2.1.6 (Latest)"
   ]
  },
  {
   "cell_type": "code",
   "execution_count": 11,
   "metadata": {},
   "outputs": [
    {
     "name": "stdout",
     "output_type": "stream",
     "text": [
      "Requirement already satisfied: spacy-transformers in /Users/minjoo/opt/anaconda3/envs/fastcoref2/lib/python3.9/site-packages (1.1.9)\n",
      "Requirement already satisfied: spacy<4.0.0,>=3.4.0 in /Users/minjoo/opt/anaconda3/envs/fastcoref2/lib/python3.9/site-packages (from spacy-transformers) (3.4.4)\n",
      "Requirement already satisfied: transformers<4.26.0,>=3.4.0 in /Users/minjoo/opt/anaconda3/envs/fastcoref2/lib/python3.9/site-packages (from spacy-transformers) (4.25.1)\n",
      "Requirement already satisfied: torch>=1.6.0 in /Users/minjoo/opt/anaconda3/envs/fastcoref2/lib/python3.9/site-packages (from spacy-transformers) (2.2.2)\n",
      "Requirement already satisfied: srsly<3.0.0,>=2.4.0 in /Users/minjoo/opt/anaconda3/envs/fastcoref2/lib/python3.9/site-packages (from spacy-transformers) (2.4.8)\n",
      "Requirement already satisfied: spacy-alignments<1.0.0,>=0.7.2 in /Users/minjoo/opt/anaconda3/envs/fastcoref2/lib/python3.9/site-packages (from spacy-transformers) (0.9.1)\n",
      "Requirement already satisfied: spacy-legacy<3.1.0,>=3.0.10 in /Users/minjoo/opt/anaconda3/envs/fastcoref2/lib/python3.9/site-packages (from spacy<4.0.0,>=3.4.0->spacy-transformers) (3.0.12)\n",
      "Requirement already satisfied: spacy-loggers<2.0.0,>=1.0.0 in /Users/minjoo/opt/anaconda3/envs/fastcoref2/lib/python3.9/site-packages (from spacy<4.0.0,>=3.4.0->spacy-transformers) (1.0.5)\n",
      "Requirement already satisfied: murmurhash<1.1.0,>=0.28.0 in /Users/minjoo/opt/anaconda3/envs/fastcoref2/lib/python3.9/site-packages (from spacy<4.0.0,>=3.4.0->spacy-transformers) (1.0.10)\n",
      "Requirement already satisfied: cymem<2.1.0,>=2.0.2 in /Users/minjoo/opt/anaconda3/envs/fastcoref2/lib/python3.9/site-packages (from spacy<4.0.0,>=3.4.0->spacy-transformers) (2.0.8)\n",
      "Requirement already satisfied: preshed<3.1.0,>=3.0.2 in /Users/minjoo/opt/anaconda3/envs/fastcoref2/lib/python3.9/site-packages (from spacy<4.0.0,>=3.4.0->spacy-transformers) (3.0.9)\n",
      "Requirement already satisfied: thinc<8.2.0,>=8.1.0 in /Users/minjoo/opt/anaconda3/envs/fastcoref2/lib/python3.9/site-packages (from spacy<4.0.0,>=3.4.0->spacy-transformers) (8.1.12)\n",
      "Requirement already satisfied: wasabi<1.1.0,>=0.9.1 in /Users/minjoo/opt/anaconda3/envs/fastcoref2/lib/python3.9/site-packages (from spacy<4.0.0,>=3.4.0->spacy-transformers) (0.10.1)\n",
      "Requirement already satisfied: catalogue<2.1.0,>=2.0.6 in /Users/minjoo/opt/anaconda3/envs/fastcoref2/lib/python3.9/site-packages (from spacy<4.0.0,>=3.4.0->spacy-transformers) (2.0.10)\n",
      "Requirement already satisfied: typer<0.8.0,>=0.3.0 in /Users/minjoo/opt/anaconda3/envs/fastcoref2/lib/python3.9/site-packages (from spacy<4.0.0,>=3.4.0->spacy-transformers) (0.7.0)\n",
      "Requirement already satisfied: pathy>=0.3.5 in /Users/minjoo/opt/anaconda3/envs/fastcoref2/lib/python3.9/site-packages (from spacy<4.0.0,>=3.4.0->spacy-transformers) (0.11.0)\n",
      "Requirement already satisfied: smart-open<7.0.0,>=5.2.1 in /Users/minjoo/opt/anaconda3/envs/fastcoref2/lib/python3.9/site-packages (from spacy<4.0.0,>=3.4.0->spacy-transformers) (6.4.0)\n",
      "Requirement already satisfied: tqdm<5.0.0,>=4.38.0 in /Users/minjoo/opt/anaconda3/envs/fastcoref2/lib/python3.9/site-packages (from spacy<4.0.0,>=3.4.0->spacy-transformers) (4.66.5)\n",
      "Requirement already satisfied: numpy>=1.15.0 in /Users/minjoo/opt/anaconda3/envs/fastcoref2/lib/python3.9/site-packages (from spacy<4.0.0,>=3.4.0->spacy-transformers) (1.26.4)\n",
      "Requirement already satisfied: requests<3.0.0,>=2.13.0 in /Users/minjoo/opt/anaconda3/envs/fastcoref2/lib/python3.9/site-packages (from spacy<4.0.0,>=3.4.0->spacy-transformers) (2.32.3)\n",
      "Requirement already satisfied: pydantic!=1.8,!=1.8.1,<1.11.0,>=1.7.4 in /Users/minjoo/opt/anaconda3/envs/fastcoref2/lib/python3.9/site-packages (from spacy<4.0.0,>=3.4.0->spacy-transformers) (1.10.18)\n",
      "Requirement already satisfied: jinja2 in /Users/minjoo/opt/anaconda3/envs/fastcoref2/lib/python3.9/site-packages (from spacy<4.0.0,>=3.4.0->spacy-transformers) (3.1.4)\n",
      "Requirement already satisfied: setuptools in /Users/minjoo/opt/anaconda3/envs/fastcoref2/lib/python3.9/site-packages (from spacy<4.0.0,>=3.4.0->spacy-transformers) (72.1.0)\n",
      "Requirement already satisfied: packaging>=20.0 in /Users/minjoo/opt/anaconda3/envs/fastcoref2/lib/python3.9/site-packages (from spacy<4.0.0,>=3.4.0->spacy-transformers) (24.1)\n",
      "Requirement already satisfied: langcodes<4.0.0,>=3.2.0 in /Users/minjoo/opt/anaconda3/envs/fastcoref2/lib/python3.9/site-packages (from spacy<4.0.0,>=3.4.0->spacy-transformers) (3.4.0)\n",
      "Requirement already satisfied: filelock in /Users/minjoo/opt/anaconda3/envs/fastcoref2/lib/python3.9/site-packages (from torch>=1.6.0->spacy-transformers) (3.15.4)\n",
      "Requirement already satisfied: typing-extensions>=4.8.0 in /Users/minjoo/opt/anaconda3/envs/fastcoref2/lib/python3.9/site-packages (from torch>=1.6.0->spacy-transformers) (4.12.2)\n",
      "Requirement already satisfied: sympy in /Users/minjoo/opt/anaconda3/envs/fastcoref2/lib/python3.9/site-packages (from torch>=1.6.0->spacy-transformers) (1.13.2)\n",
      "Requirement already satisfied: networkx in /Users/minjoo/opt/anaconda3/envs/fastcoref2/lib/python3.9/site-packages (from torch>=1.6.0->spacy-transformers) (3.2.1)\n",
      "Requirement already satisfied: fsspec in /Users/minjoo/opt/anaconda3/envs/fastcoref2/lib/python3.9/site-packages (from torch>=1.6.0->spacy-transformers) (2024.6.1)\n",
      "Requirement already satisfied: huggingface-hub<1.0,>=0.10.0 in /Users/minjoo/opt/anaconda3/envs/fastcoref2/lib/python3.9/site-packages (from transformers<4.26.0,>=3.4.0->spacy-transformers) (0.24.6)\n",
      "Requirement already satisfied: pyyaml>=5.1 in /Users/minjoo/opt/anaconda3/envs/fastcoref2/lib/python3.9/site-packages (from transformers<4.26.0,>=3.4.0->spacy-transformers) (6.0.2)\n",
      "Requirement already satisfied: regex!=2019.12.17 in /Users/minjoo/opt/anaconda3/envs/fastcoref2/lib/python3.9/site-packages (from transformers<4.26.0,>=3.4.0->spacy-transformers) (2024.7.24)\n",
      "Requirement already satisfied: tokenizers!=0.11.3,<0.14,>=0.11.1 in /Users/minjoo/opt/anaconda3/envs/fastcoref2/lib/python3.9/site-packages (from transformers<4.26.0,>=3.4.0->spacy-transformers) (0.13.3)\n",
      "Requirement already satisfied: language-data>=1.2 in /Users/minjoo/opt/anaconda3/envs/fastcoref2/lib/python3.9/site-packages (from langcodes<4.0.0,>=3.2.0->spacy<4.0.0,>=3.4.0->spacy-transformers) (1.2.0)\n",
      "Requirement already satisfied: pathlib-abc==0.1.1 in /Users/minjoo/opt/anaconda3/envs/fastcoref2/lib/python3.9/site-packages (from pathy>=0.3.5->spacy<4.0.0,>=3.4.0->spacy-transformers) (0.1.1)\n",
      "Requirement already satisfied: charset-normalizer<4,>=2 in /Users/minjoo/opt/anaconda3/envs/fastcoref2/lib/python3.9/site-packages (from requests<3.0.0,>=2.13.0->spacy<4.0.0,>=3.4.0->spacy-transformers) (3.3.2)\n",
      "Requirement already satisfied: idna<4,>=2.5 in /Users/minjoo/opt/anaconda3/envs/fastcoref2/lib/python3.9/site-packages (from requests<3.0.0,>=2.13.0->spacy<4.0.0,>=3.4.0->spacy-transformers) (3.8)\n",
      "Requirement already satisfied: urllib3<3,>=1.21.1 in /Users/minjoo/opt/anaconda3/envs/fastcoref2/lib/python3.9/site-packages (from requests<3.0.0,>=2.13.0->spacy<4.0.0,>=3.4.0->spacy-transformers) (2.2.2)\n",
      "Requirement already satisfied: certifi>=2017.4.17 in /Users/minjoo/opt/anaconda3/envs/fastcoref2/lib/python3.9/site-packages (from requests<3.0.0,>=2.13.0->spacy<4.0.0,>=3.4.0->spacy-transformers) (2024.8.30)\n",
      "Requirement already satisfied: blis<0.8.0,>=0.7.8 in /Users/minjoo/opt/anaconda3/envs/fastcoref2/lib/python3.9/site-packages (from thinc<8.2.0,>=8.1.0->spacy<4.0.0,>=3.4.0->spacy-transformers) (0.7.11)\n",
      "Requirement already satisfied: confection<1.0.0,>=0.0.1 in /Users/minjoo/opt/anaconda3/envs/fastcoref2/lib/python3.9/site-packages (from thinc<8.2.0,>=8.1.0->spacy<4.0.0,>=3.4.0->spacy-transformers) (0.1.5)\n",
      "Requirement already satisfied: click<9.0.0,>=7.1.1 in /Users/minjoo/opt/anaconda3/envs/fastcoref2/lib/python3.9/site-packages (from typer<0.8.0,>=0.3.0->spacy<4.0.0,>=3.4.0->spacy-transformers) (8.1.7)\n",
      "Requirement already satisfied: MarkupSafe>=2.0 in /Users/minjoo/opt/anaconda3/envs/fastcoref2/lib/python3.9/site-packages (from jinja2->spacy<4.0.0,>=3.4.0->spacy-transformers) (2.1.5)\n",
      "Requirement already satisfied: mpmath<1.4,>=1.1.0 in /Users/minjoo/opt/anaconda3/envs/fastcoref2/lib/python3.9/site-packages (from sympy->torch>=1.6.0->spacy-transformers) (1.3.0)\n",
      "Requirement already satisfied: marisa-trie>=0.7.7 in /Users/minjoo/opt/anaconda3/envs/fastcoref2/lib/python3.9/site-packages (from language-data>=1.2->langcodes<4.0.0,>=3.2.0->spacy<4.0.0,>=3.4.0->spacy-transformers) (1.2.0)\n"
     ]
    }
   ],
   "source": [
    "!pip install spacy-transformers"
   ]
  },
  {
   "cell_type": "code",
   "execution_count": 1,
   "metadata": {},
   "outputs": [
    {
     "name": "stdout",
     "output_type": "stream",
     "text": [
      "Collecting en-core-web-trf==3.4.1\n",
      "  Downloading https://github.com/explosion/spacy-models/releases/download/en_core_web_trf-3.4.1/en_core_web_trf-3.4.1-py3-none-any.whl (460.3 MB)\n",
      "\u001b[2K     \u001b[90m━━━━━━━━━━━━━━━━━━━━━━━━━━━━━━━━━━━━━━━\u001b[0m \u001b[32m460.3/460.3 MB\u001b[0m \u001b[31m2.0 MB/s\u001b[0m eta \u001b[36m0:00:00\u001b[0m00:01\u001b[0m00:05\u001b[0m\n",
      "\u001b[?25hRequirement already satisfied: spacy<3.5.0,>=3.4.1 in /Users/minjoo/opt/anaconda3/envs/fastcoref2/lib/python3.9/site-packages (from en-core-web-trf==3.4.1) (3.4.4)\n",
      "Requirement already satisfied: spacy-transformers<1.2.0,>=1.1.2 in /Users/minjoo/opt/anaconda3/envs/fastcoref2/lib/python3.9/site-packages (from en-core-web-trf==3.4.1) (1.1.9)\n",
      "Requirement already satisfied: spacy-legacy<3.1.0,>=3.0.10 in /Users/minjoo/opt/anaconda3/envs/fastcoref2/lib/python3.9/site-packages (from spacy<3.5.0,>=3.4.1->en-core-web-trf==3.4.1) (3.0.12)\n",
      "Requirement already satisfied: spacy-loggers<2.0.0,>=1.0.0 in /Users/minjoo/opt/anaconda3/envs/fastcoref2/lib/python3.9/site-packages (from spacy<3.5.0,>=3.4.1->en-core-web-trf==3.4.1) (1.0.5)\n",
      "Requirement already satisfied: murmurhash<1.1.0,>=0.28.0 in /Users/minjoo/opt/anaconda3/envs/fastcoref2/lib/python3.9/site-packages (from spacy<3.5.0,>=3.4.1->en-core-web-trf==3.4.1) (1.0.10)\n",
      "Requirement already satisfied: cymem<2.1.0,>=2.0.2 in /Users/minjoo/opt/anaconda3/envs/fastcoref2/lib/python3.9/site-packages (from spacy<3.5.0,>=3.4.1->en-core-web-trf==3.4.1) (2.0.8)\n",
      "Requirement already satisfied: preshed<3.1.0,>=3.0.2 in /Users/minjoo/opt/anaconda3/envs/fastcoref2/lib/python3.9/site-packages (from spacy<3.5.0,>=3.4.1->en-core-web-trf==3.4.1) (3.0.9)\n",
      "Requirement already satisfied: thinc<8.2.0,>=8.1.0 in /Users/minjoo/opt/anaconda3/envs/fastcoref2/lib/python3.9/site-packages (from spacy<3.5.0,>=3.4.1->en-core-web-trf==3.4.1) (8.1.12)\n",
      "Requirement already satisfied: wasabi<1.1.0,>=0.9.1 in /Users/minjoo/opt/anaconda3/envs/fastcoref2/lib/python3.9/site-packages (from spacy<3.5.0,>=3.4.1->en-core-web-trf==3.4.1) (0.10.1)\n",
      "Requirement already satisfied: srsly<3.0.0,>=2.4.3 in /Users/minjoo/opt/anaconda3/envs/fastcoref2/lib/python3.9/site-packages (from spacy<3.5.0,>=3.4.1->en-core-web-trf==3.4.1) (2.4.8)\n",
      "Requirement already satisfied: catalogue<2.1.0,>=2.0.6 in /Users/minjoo/opt/anaconda3/envs/fastcoref2/lib/python3.9/site-packages (from spacy<3.5.0,>=3.4.1->en-core-web-trf==3.4.1) (2.0.10)\n",
      "Requirement already satisfied: typer<0.8.0,>=0.3.0 in /Users/minjoo/opt/anaconda3/envs/fastcoref2/lib/python3.9/site-packages (from spacy<3.5.0,>=3.4.1->en-core-web-trf==3.4.1) (0.7.0)\n",
      "Requirement already satisfied: pathy>=0.3.5 in /Users/minjoo/opt/anaconda3/envs/fastcoref2/lib/python3.9/site-packages (from spacy<3.5.0,>=3.4.1->en-core-web-trf==3.4.1) (0.11.0)\n",
      "Requirement already satisfied: smart-open<7.0.0,>=5.2.1 in /Users/minjoo/opt/anaconda3/envs/fastcoref2/lib/python3.9/site-packages (from spacy<3.5.0,>=3.4.1->en-core-web-trf==3.4.1) (6.4.0)\n",
      "Requirement already satisfied: tqdm<5.0.0,>=4.38.0 in /Users/minjoo/opt/anaconda3/envs/fastcoref2/lib/python3.9/site-packages (from spacy<3.5.0,>=3.4.1->en-core-web-trf==3.4.1) (4.66.5)\n",
      "Requirement already satisfied: numpy>=1.15.0 in /Users/minjoo/opt/anaconda3/envs/fastcoref2/lib/python3.9/site-packages (from spacy<3.5.0,>=3.4.1->en-core-web-trf==3.4.1) (1.26.4)\n",
      "Requirement already satisfied: requests<3.0.0,>=2.13.0 in /Users/minjoo/opt/anaconda3/envs/fastcoref2/lib/python3.9/site-packages (from spacy<3.5.0,>=3.4.1->en-core-web-trf==3.4.1) (2.32.3)\n",
      "Requirement already satisfied: pydantic!=1.8,!=1.8.1,<1.11.0,>=1.7.4 in /Users/minjoo/opt/anaconda3/envs/fastcoref2/lib/python3.9/site-packages (from spacy<3.5.0,>=3.4.1->en-core-web-trf==3.4.1) (1.10.18)\n",
      "Requirement already satisfied: jinja2 in /Users/minjoo/opt/anaconda3/envs/fastcoref2/lib/python3.9/site-packages (from spacy<3.5.0,>=3.4.1->en-core-web-trf==3.4.1) (3.1.4)\n",
      "Requirement already satisfied: setuptools in /Users/minjoo/opt/anaconda3/envs/fastcoref2/lib/python3.9/site-packages (from spacy<3.5.0,>=3.4.1->en-core-web-trf==3.4.1) (72.1.0)\n",
      "Requirement already satisfied: packaging>=20.0 in /Users/minjoo/opt/anaconda3/envs/fastcoref2/lib/python3.9/site-packages (from spacy<3.5.0,>=3.4.1->en-core-web-trf==3.4.1) (24.1)\n",
      "Requirement already satisfied: langcodes<4.0.0,>=3.2.0 in /Users/minjoo/opt/anaconda3/envs/fastcoref2/lib/python3.9/site-packages (from spacy<3.5.0,>=3.4.1->en-core-web-trf==3.4.1) (3.4.0)\n",
      "Requirement already satisfied: transformers<4.26.0,>=3.4.0 in /Users/minjoo/opt/anaconda3/envs/fastcoref2/lib/python3.9/site-packages (from spacy-transformers<1.2.0,>=1.1.2->en-core-web-trf==3.4.1) (4.25.1)\n",
      "Requirement already satisfied: torch>=1.6.0 in /Users/minjoo/opt/anaconda3/envs/fastcoref2/lib/python3.9/site-packages (from spacy-transformers<1.2.0,>=1.1.2->en-core-web-trf==3.4.1) (2.2.2)\n",
      "Requirement already satisfied: spacy-alignments<1.0.0,>=0.7.2 in /Users/minjoo/opt/anaconda3/envs/fastcoref2/lib/python3.9/site-packages (from spacy-transformers<1.2.0,>=1.1.2->en-core-web-trf==3.4.1) (0.9.1)\n",
      "Requirement already satisfied: language-data>=1.2 in /Users/minjoo/opt/anaconda3/envs/fastcoref2/lib/python3.9/site-packages (from langcodes<4.0.0,>=3.2.0->spacy<3.5.0,>=3.4.1->en-core-web-trf==3.4.1) (1.2.0)\n",
      "Requirement already satisfied: pathlib-abc==0.1.1 in /Users/minjoo/opt/anaconda3/envs/fastcoref2/lib/python3.9/site-packages (from pathy>=0.3.5->spacy<3.5.0,>=3.4.1->en-core-web-trf==3.4.1) (0.1.1)\n",
      "Requirement already satisfied: typing-extensions>=4.2.0 in /Users/minjoo/opt/anaconda3/envs/fastcoref2/lib/python3.9/site-packages (from pydantic!=1.8,!=1.8.1,<1.11.0,>=1.7.4->spacy<3.5.0,>=3.4.1->en-core-web-trf==3.4.1) (4.12.2)\n",
      "Requirement already satisfied: charset-normalizer<4,>=2 in /Users/minjoo/opt/anaconda3/envs/fastcoref2/lib/python3.9/site-packages (from requests<3.0.0,>=2.13.0->spacy<3.5.0,>=3.4.1->en-core-web-trf==3.4.1) (3.3.2)\n",
      "Requirement already satisfied: idna<4,>=2.5 in /Users/minjoo/opt/anaconda3/envs/fastcoref2/lib/python3.9/site-packages (from requests<3.0.0,>=2.13.0->spacy<3.5.0,>=3.4.1->en-core-web-trf==3.4.1) (3.8)\n",
      "Requirement already satisfied: urllib3<3,>=1.21.1 in /Users/minjoo/opt/anaconda3/envs/fastcoref2/lib/python3.9/site-packages (from requests<3.0.0,>=2.13.0->spacy<3.5.0,>=3.4.1->en-core-web-trf==3.4.1) (2.2.2)\n",
      "Requirement already satisfied: certifi>=2017.4.17 in /Users/minjoo/opt/anaconda3/envs/fastcoref2/lib/python3.9/site-packages (from requests<3.0.0,>=2.13.0->spacy<3.5.0,>=3.4.1->en-core-web-trf==3.4.1) (2024.8.30)\n",
      "Requirement already satisfied: blis<0.8.0,>=0.7.8 in /Users/minjoo/opt/anaconda3/envs/fastcoref2/lib/python3.9/site-packages (from thinc<8.2.0,>=8.1.0->spacy<3.5.0,>=3.4.1->en-core-web-trf==3.4.1) (0.7.11)\n",
      "Requirement already satisfied: confection<1.0.0,>=0.0.1 in /Users/minjoo/opt/anaconda3/envs/fastcoref2/lib/python3.9/site-packages (from thinc<8.2.0,>=8.1.0->spacy<3.5.0,>=3.4.1->en-core-web-trf==3.4.1) (0.1.5)\n",
      "Requirement already satisfied: filelock in /Users/minjoo/opt/anaconda3/envs/fastcoref2/lib/python3.9/site-packages (from torch>=1.6.0->spacy-transformers<1.2.0,>=1.1.2->en-core-web-trf==3.4.1) (3.15.4)\n",
      "Requirement already satisfied: sympy in /Users/minjoo/opt/anaconda3/envs/fastcoref2/lib/python3.9/site-packages (from torch>=1.6.0->spacy-transformers<1.2.0,>=1.1.2->en-core-web-trf==3.4.1) (1.13.2)\n",
      "Requirement already satisfied: networkx in /Users/minjoo/opt/anaconda3/envs/fastcoref2/lib/python3.9/site-packages (from torch>=1.6.0->spacy-transformers<1.2.0,>=1.1.2->en-core-web-trf==3.4.1) (3.2.1)\n",
      "Requirement already satisfied: fsspec in /Users/minjoo/opt/anaconda3/envs/fastcoref2/lib/python3.9/site-packages (from torch>=1.6.0->spacy-transformers<1.2.0,>=1.1.2->en-core-web-trf==3.4.1) (2024.6.1)\n",
      "Requirement already satisfied: huggingface-hub<1.0,>=0.10.0 in /Users/minjoo/opt/anaconda3/envs/fastcoref2/lib/python3.9/site-packages (from transformers<4.26.0,>=3.4.0->spacy-transformers<1.2.0,>=1.1.2->en-core-web-trf==3.4.1) (0.24.6)\n",
      "Requirement already satisfied: pyyaml>=5.1 in /Users/minjoo/opt/anaconda3/envs/fastcoref2/lib/python3.9/site-packages (from transformers<4.26.0,>=3.4.0->spacy-transformers<1.2.0,>=1.1.2->en-core-web-trf==3.4.1) (6.0.2)\n",
      "Requirement already satisfied: regex!=2019.12.17 in /Users/minjoo/opt/anaconda3/envs/fastcoref2/lib/python3.9/site-packages (from transformers<4.26.0,>=3.4.0->spacy-transformers<1.2.0,>=1.1.2->en-core-web-trf==3.4.1) (2024.7.24)\n",
      "Requirement already satisfied: tokenizers!=0.11.3,<0.14,>=0.11.1 in /Users/minjoo/opt/anaconda3/envs/fastcoref2/lib/python3.9/site-packages (from transformers<4.26.0,>=3.4.0->spacy-transformers<1.2.0,>=1.1.2->en-core-web-trf==3.4.1) (0.13.3)\n",
      "Requirement already satisfied: click<9.0.0,>=7.1.1 in /Users/minjoo/opt/anaconda3/envs/fastcoref2/lib/python3.9/site-packages (from typer<0.8.0,>=0.3.0->spacy<3.5.0,>=3.4.1->en-core-web-trf==3.4.1) (8.1.7)\n",
      "Requirement already satisfied: MarkupSafe>=2.0 in /Users/minjoo/opt/anaconda3/envs/fastcoref2/lib/python3.9/site-packages (from jinja2->spacy<3.5.0,>=3.4.1->en-core-web-trf==3.4.1) (2.1.5)\n",
      "Requirement already satisfied: marisa-trie>=0.7.7 in /Users/minjoo/opt/anaconda3/envs/fastcoref2/lib/python3.9/site-packages (from language-data>=1.2->langcodes<4.0.0,>=3.2.0->spacy<3.5.0,>=3.4.1->en-core-web-trf==3.4.1) (1.2.0)\n",
      "Requirement already satisfied: mpmath<1.4,>=1.1.0 in /Users/minjoo/opt/anaconda3/envs/fastcoref2/lib/python3.9/site-packages (from sympy->torch>=1.6.0->spacy-transformers<1.2.0,>=1.1.2->en-core-web-trf==3.4.1) (1.3.0)\n",
      "\u001b[38;5;2m✔ Download and installation successful\u001b[0m\n",
      "You can now load the package via spacy.load('en_core_web_trf')\n"
     ]
    }
   ],
   "source": [
    "!python -m spacy download en_core_web_trf"
   ]
  },
  {
   "cell_type": "code",
   "execution_count": 3,
   "metadata": {},
   "outputs": [
    {
     "name": "stdout",
     "output_type": "stream",
     "text": [
      "Collecting en-coreference-web-trf==3.4.0a0\n",
      "  Downloading https://github.com/explosion/spacy-experimental/releases/download/v0.6.0/en_coreference_web_trf-3.4.0a0-py3-none-any.whl (490.3 MB)\n",
      "\u001b[2K     \u001b[90m━━━━━━━━━━━━━━━━━━━━━━━━━━━━━━━━━━━━━━━\u001b[0m \u001b[32m490.3/490.3 MB\u001b[0m \u001b[31m1.2 MB/s\u001b[0m eta \u001b[36m0:00:00\u001b[0m00:01\u001b[0m00:13\u001b[0m\n",
      "\u001b[?25hCollecting spacy<3.5.0,>=3.3.0 (from en-coreference-web-trf==3.4.0a0)\n",
      "  Using cached spacy-3.4.4-cp39-cp39-macosx_10_9_x86_64.whl.metadata (24 kB)\n",
      "Collecting spacy-transformers<1.2.0,>=1.1.2 (from en-coreference-web-trf==3.4.0a0)\n",
      "  Using cached spacy_transformers-1.1.9-py2.py3-none-any.whl.metadata (6.2 kB)\n",
      "Requirement already satisfied: spacy-experimental<0.7.0,>=0.6.0 in /Users/minjoo/opt/anaconda3/envs/fastcoref2/lib/python3.9/site-packages (from en-coreference-web-trf==3.4.0a0) (0.6.4)\n",
      "Requirement already satisfied: spacy-legacy<3.1.0,>=3.0.10 in /Users/minjoo/opt/anaconda3/envs/fastcoref2/lib/python3.9/site-packages (from spacy<3.5.0,>=3.3.0->en-coreference-web-trf==3.4.0a0) (3.0.12)\n",
      "Requirement already satisfied: spacy-loggers<2.0.0,>=1.0.0 in /Users/minjoo/opt/anaconda3/envs/fastcoref2/lib/python3.9/site-packages (from spacy<3.5.0,>=3.3.0->en-coreference-web-trf==3.4.0a0) (1.0.5)\n",
      "Requirement already satisfied: murmurhash<1.1.0,>=0.28.0 in /Users/minjoo/opt/anaconda3/envs/fastcoref2/lib/python3.9/site-packages (from spacy<3.5.0,>=3.3.0->en-coreference-web-trf==3.4.0a0) (1.0.10)\n",
      "Requirement already satisfied: cymem<2.1.0,>=2.0.2 in /Users/minjoo/opt/anaconda3/envs/fastcoref2/lib/python3.9/site-packages (from spacy<3.5.0,>=3.3.0->en-coreference-web-trf==3.4.0a0) (2.0.8)\n",
      "Requirement already satisfied: preshed<3.1.0,>=3.0.2 in /Users/minjoo/opt/anaconda3/envs/fastcoref2/lib/python3.9/site-packages (from spacy<3.5.0,>=3.3.0->en-coreference-web-trf==3.4.0a0) (3.0.9)\n",
      "Collecting thinc<8.2.0,>=8.1.0 (from spacy<3.5.0,>=3.3.0->en-coreference-web-trf==3.4.0a0)\n",
      "  Using cached thinc-8.1.12-cp39-cp39-macosx_10_9_x86_64.whl.metadata (15 kB)\n",
      "Collecting wasabi<1.1.0,>=0.9.1 (from spacy<3.5.0,>=3.3.0->en-coreference-web-trf==3.4.0a0)\n",
      "  Using cached wasabi-0.10.1-py3-none-any.whl.metadata (28 kB)\n",
      "Requirement already satisfied: srsly<3.0.0,>=2.4.3 in /Users/minjoo/opt/anaconda3/envs/fastcoref2/lib/python3.9/site-packages (from spacy<3.5.0,>=3.3.0->en-coreference-web-trf==3.4.0a0) (2.4.8)\n",
      "Requirement already satisfied: catalogue<2.1.0,>=2.0.6 in /Users/minjoo/opt/anaconda3/envs/fastcoref2/lib/python3.9/site-packages (from spacy<3.5.0,>=3.3.0->en-coreference-web-trf==3.4.0a0) (2.0.10)\n",
      "Collecting typer<0.8.0,>=0.3.0 (from spacy<3.5.0,>=3.3.0->en-coreference-web-trf==3.4.0a0)\n",
      "  Using cached typer-0.7.0-py3-none-any.whl.metadata (17 kB)\n",
      "Collecting pathy>=0.3.5 (from spacy<3.5.0,>=3.3.0->en-coreference-web-trf==3.4.0a0)\n",
      "  Using cached pathy-0.11.0-py3-none-any.whl.metadata (16 kB)\n",
      "Collecting smart-open<7.0.0,>=5.2.1 (from spacy<3.5.0,>=3.3.0->en-coreference-web-trf==3.4.0a0)\n",
      "  Using cached smart_open-6.4.0-py3-none-any.whl.metadata (21 kB)\n",
      "Requirement already satisfied: tqdm<5.0.0,>=4.38.0 in /Users/minjoo/opt/anaconda3/envs/fastcoref2/lib/python3.9/site-packages (from spacy<3.5.0,>=3.3.0->en-coreference-web-trf==3.4.0a0) (4.66.5)\n",
      "Requirement already satisfied: numpy>=1.15.0 in /Users/minjoo/opt/anaconda3/envs/fastcoref2/lib/python3.9/site-packages (from spacy<3.5.0,>=3.3.0->en-coreference-web-trf==3.4.0a0) (1.26.4)\n",
      "Requirement already satisfied: requests<3.0.0,>=2.13.0 in /Users/minjoo/opt/anaconda3/envs/fastcoref2/lib/python3.9/site-packages (from spacy<3.5.0,>=3.3.0->en-coreference-web-trf==3.4.0a0) (2.32.3)\n",
      "Collecting pydantic!=1.8,!=1.8.1,<1.11.0,>=1.7.4 (from spacy<3.5.0,>=3.3.0->en-coreference-web-trf==3.4.0a0)\n",
      "  Using cached pydantic-1.10.18-cp39-cp39-macosx_10_9_x86_64.whl.metadata (152 kB)\n",
      "Requirement already satisfied: jinja2 in /Users/minjoo/opt/anaconda3/envs/fastcoref2/lib/python3.9/site-packages (from spacy<3.5.0,>=3.3.0->en-coreference-web-trf==3.4.0a0) (3.1.4)\n",
      "Requirement already satisfied: setuptools in /Users/minjoo/opt/anaconda3/envs/fastcoref2/lib/python3.9/site-packages (from spacy<3.5.0,>=3.3.0->en-coreference-web-trf==3.4.0a0) (72.1.0)\n",
      "Requirement already satisfied: packaging>=20.0 in /Users/minjoo/opt/anaconda3/envs/fastcoref2/lib/python3.9/site-packages (from spacy<3.5.0,>=3.3.0->en-coreference-web-trf==3.4.0a0) (24.1)\n",
      "Requirement already satisfied: langcodes<4.0.0,>=3.2.0 in /Users/minjoo/opt/anaconda3/envs/fastcoref2/lib/python3.9/site-packages (from spacy<3.5.0,>=3.3.0->en-coreference-web-trf==3.4.0a0) (3.4.0)\n",
      "Collecting transformers<4.26.0,>=3.4.0 (from spacy-transformers<1.2.0,>=1.1.2->en-coreference-web-trf==3.4.0a0)\n",
      "  Using cached transformers-4.25.1-py3-none-any.whl.metadata (93 kB)\n",
      "Requirement already satisfied: torch>=1.6.0 in /Users/minjoo/opt/anaconda3/envs/fastcoref2/lib/python3.9/site-packages (from spacy-transformers<1.2.0,>=1.1.2->en-coreference-web-trf==3.4.0a0) (2.2.2)\n",
      "Collecting spacy-alignments<1.0.0,>=0.7.2 (from spacy-transformers<1.2.0,>=1.1.2->en-coreference-web-trf==3.4.0a0)\n",
      "  Using cached spacy_alignments-0.9.1-cp39-cp39-macosx_10_9_x86_64.whl.metadata (2.7 kB)\n",
      "Requirement already satisfied: language-data>=1.2 in /Users/minjoo/opt/anaconda3/envs/fastcoref2/lib/python3.9/site-packages (from langcodes<4.0.0,>=3.2.0->spacy<3.5.0,>=3.3.0->en-coreference-web-trf==3.4.0a0) (1.2.0)\n",
      "Collecting pathlib-abc==0.1.1 (from pathy>=0.3.5->spacy<3.5.0,>=3.3.0->en-coreference-web-trf==3.4.0a0)\n",
      "  Using cached pathlib_abc-0.1.1-py3-none-any.whl.metadata (18 kB)\n",
      "Requirement already satisfied: typing-extensions>=4.2.0 in /Users/minjoo/opt/anaconda3/envs/fastcoref2/lib/python3.9/site-packages (from pydantic!=1.8,!=1.8.1,<1.11.0,>=1.7.4->spacy<3.5.0,>=3.3.0->en-coreference-web-trf==3.4.0a0) (4.12.2)\n",
      "Requirement already satisfied: charset-normalizer<4,>=2 in /Users/minjoo/opt/anaconda3/envs/fastcoref2/lib/python3.9/site-packages (from requests<3.0.0,>=2.13.0->spacy<3.5.0,>=3.3.0->en-coreference-web-trf==3.4.0a0) (3.3.2)\n",
      "Requirement already satisfied: idna<4,>=2.5 in /Users/minjoo/opt/anaconda3/envs/fastcoref2/lib/python3.9/site-packages (from requests<3.0.0,>=2.13.0->spacy<3.5.0,>=3.3.0->en-coreference-web-trf==3.4.0a0) (3.8)\n",
      "Requirement already satisfied: urllib3<3,>=1.21.1 in /Users/minjoo/opt/anaconda3/envs/fastcoref2/lib/python3.9/site-packages (from requests<3.0.0,>=2.13.0->spacy<3.5.0,>=3.3.0->en-coreference-web-trf==3.4.0a0) (2.2.2)\n",
      "Requirement already satisfied: certifi>=2017.4.17 in /Users/minjoo/opt/anaconda3/envs/fastcoref2/lib/python3.9/site-packages (from requests<3.0.0,>=2.13.0->spacy<3.5.0,>=3.3.0->en-coreference-web-trf==3.4.0a0) (2024.8.30)\n",
      "Requirement already satisfied: blis<0.8.0,>=0.7.8 in /Users/minjoo/opt/anaconda3/envs/fastcoref2/lib/python3.9/site-packages (from thinc<8.2.0,>=8.1.0->spacy<3.5.0,>=3.3.0->en-coreference-web-trf==3.4.0a0) (0.7.11)\n",
      "Requirement already satisfied: confection<1.0.0,>=0.0.1 in /Users/minjoo/opt/anaconda3/envs/fastcoref2/lib/python3.9/site-packages (from thinc<8.2.0,>=8.1.0->spacy<3.5.0,>=3.3.0->en-coreference-web-trf==3.4.0a0) (0.1.5)\n",
      "Requirement already satisfied: filelock in /Users/minjoo/opt/anaconda3/envs/fastcoref2/lib/python3.9/site-packages (from torch>=1.6.0->spacy-transformers<1.2.0,>=1.1.2->en-coreference-web-trf==3.4.0a0) (3.15.4)\n",
      "Requirement already satisfied: sympy in /Users/minjoo/opt/anaconda3/envs/fastcoref2/lib/python3.9/site-packages (from torch>=1.6.0->spacy-transformers<1.2.0,>=1.1.2->en-coreference-web-trf==3.4.0a0) (1.13.2)\n",
      "Requirement already satisfied: networkx in /Users/minjoo/opt/anaconda3/envs/fastcoref2/lib/python3.9/site-packages (from torch>=1.6.0->spacy-transformers<1.2.0,>=1.1.2->en-coreference-web-trf==3.4.0a0) (3.2.1)\n",
      "Requirement already satisfied: fsspec in /Users/minjoo/opt/anaconda3/envs/fastcoref2/lib/python3.9/site-packages (from torch>=1.6.0->spacy-transformers<1.2.0,>=1.1.2->en-coreference-web-trf==3.4.0a0) (2024.6.1)\n",
      "Requirement already satisfied: huggingface-hub<1.0,>=0.10.0 in /Users/minjoo/opt/anaconda3/envs/fastcoref2/lib/python3.9/site-packages (from transformers<4.26.0,>=3.4.0->spacy-transformers<1.2.0,>=1.1.2->en-coreference-web-trf==3.4.0a0) (0.24.6)\n",
      "Requirement already satisfied: pyyaml>=5.1 in /Users/minjoo/opt/anaconda3/envs/fastcoref2/lib/python3.9/site-packages (from transformers<4.26.0,>=3.4.0->spacy-transformers<1.2.0,>=1.1.2->en-coreference-web-trf==3.4.0a0) (6.0.2)\n",
      "Requirement already satisfied: regex!=2019.12.17 in /Users/minjoo/opt/anaconda3/envs/fastcoref2/lib/python3.9/site-packages (from transformers<4.26.0,>=3.4.0->spacy-transformers<1.2.0,>=1.1.2->en-coreference-web-trf==3.4.0a0) (2024.7.24)\n",
      "Collecting tokenizers!=0.11.3,<0.14,>=0.11.1 (from transformers<4.26.0,>=3.4.0->spacy-transformers<1.2.0,>=1.1.2->en-coreference-web-trf==3.4.0a0)\n",
      "  Using cached tokenizers-0.13.3-cp39-cp39-macosx_10_11_x86_64.whl.metadata (6.7 kB)\n",
      "Requirement already satisfied: click<9.0.0,>=7.1.1 in /Users/minjoo/opt/anaconda3/envs/fastcoref2/lib/python3.9/site-packages (from typer<0.8.0,>=0.3.0->spacy<3.5.0,>=3.3.0->en-coreference-web-trf==3.4.0a0) (8.1.7)\n",
      "Requirement already satisfied: MarkupSafe>=2.0 in /Users/minjoo/opt/anaconda3/envs/fastcoref2/lib/python3.9/site-packages (from jinja2->spacy<3.5.0,>=3.3.0->en-coreference-web-trf==3.4.0a0) (2.1.5)\n",
      "Requirement already satisfied: marisa-trie>=0.7.7 in /Users/minjoo/opt/anaconda3/envs/fastcoref2/lib/python3.9/site-packages (from language-data>=1.2->langcodes<4.0.0,>=3.2.0->spacy<3.5.0,>=3.3.0->en-coreference-web-trf==3.4.0a0) (1.2.0)\n",
      "Requirement already satisfied: mpmath<1.4,>=1.1.0 in /Users/minjoo/opt/anaconda3/envs/fastcoref2/lib/python3.9/site-packages (from sympy->torch>=1.6.0->spacy-transformers<1.2.0,>=1.1.2->en-coreference-web-trf==3.4.0a0) (1.3.0)\n",
      "Using cached spacy-3.4.4-cp39-cp39-macosx_10_9_x86_64.whl (6.7 MB)\n",
      "Using cached spacy_transformers-1.1.9-py2.py3-none-any.whl (53 kB)\n",
      "Using cached pathy-0.11.0-py3-none-any.whl (47 kB)\n",
      "Using cached pathlib_abc-0.1.1-py3-none-any.whl (23 kB)\n",
      "Using cached pydantic-1.10.18-cp39-cp39-macosx_10_9_x86_64.whl (2.6 MB)\n",
      "Using cached smart_open-6.4.0-py3-none-any.whl (57 kB)\n",
      "Using cached spacy_alignments-0.9.1-cp39-cp39-macosx_10_9_x86_64.whl (312 kB)\n",
      "Using cached thinc-8.1.12-cp39-cp39-macosx_10_9_x86_64.whl (875 kB)\n",
      "Using cached transformers-4.25.1-py3-none-any.whl (5.8 MB)\n",
      "Using cached typer-0.7.0-py3-none-any.whl (38 kB)\n",
      "Using cached wasabi-0.10.1-py3-none-any.whl (26 kB)\n",
      "Using cached tokenizers-0.13.3-cp39-cp39-macosx_10_11_x86_64.whl (4.0 MB)\n",
      "Installing collected packages: wasabi, tokenizers, typer, spacy-alignments, smart-open, pydantic, pathlib-abc, pathy, transformers, thinc, spacy, spacy-transformers, en-coreference-web-trf\n",
      "  Attempting uninstall: wasabi\n",
      "    Found existing installation: wasabi 1.1.3\n",
      "    Uninstalling wasabi-1.1.3:\n",
      "      Successfully uninstalled wasabi-1.1.3\n",
      "  Attempting uninstall: tokenizers\n",
      "    Found existing installation: tokenizers 0.19.1\n",
      "    Uninstalling tokenizers-0.19.1:\n",
      "      Successfully uninstalled tokenizers-0.19.1\n",
      "  Attempting uninstall: typer\n",
      "    Found existing installation: typer 0.12.5\n",
      "    Uninstalling typer-0.12.5:\n",
      "      Successfully uninstalled typer-0.12.5\n",
      "  Attempting uninstall: smart-open\n",
      "    Found existing installation: smart-open 7.0.4\n",
      "    Uninstalling smart-open-7.0.4:\n",
      "      Successfully uninstalled smart-open-7.0.4\n",
      "  Attempting uninstall: pydantic\n",
      "    Found existing installation: pydantic 2.9.0\n",
      "    Uninstalling pydantic-2.9.0:\n",
      "      Successfully uninstalled pydantic-2.9.0\n",
      "  Attempting uninstall: transformers\n",
      "    Found existing installation: transformers 4.44.2\n",
      "    Uninstalling transformers-4.44.2:\n",
      "      Successfully uninstalled transformers-4.44.2\n",
      "  Attempting uninstall: thinc\n",
      "    Found existing installation: thinc 8.2.5\n",
      "    Uninstalling thinc-8.2.5:\n",
      "      Successfully uninstalled thinc-8.2.5\n",
      "  Attempting uninstall: spacy\n",
      "    Found existing installation: spacy 3.7.6\n",
      "    Uninstalling spacy-3.7.6:\n",
      "      Successfully uninstalled spacy-3.7.6\n",
      "Successfully installed en-coreference-web-trf-3.4.0a0 pathlib-abc-0.1.1 pathy-0.11.0 pydantic-1.10.18 smart-open-6.4.0 spacy-3.4.4 spacy-alignments-0.9.1 spacy-transformers-1.1.9 thinc-8.1.12 tokenizers-0.13.3 transformers-4.25.1 typer-0.7.0 wasabi-0.10.1\n"
     ]
    }
   ],
   "source": [
    "# install en_coreference_web_trf\n",
    "# !pip install https://github.com/explosion/spacy-experimental/releases/download/v0.6.0/en_coreference_web_trf-3.4.0a0-py3-none-any.whl#egg=en_coreference_web_trf"
   ]
  },
  {
   "cell_type": "code",
   "execution_count": 2,
   "metadata": {},
   "outputs": [],
   "source": [
    "import spacy\n",
    "import spacy_experimental"
   ]
  },
  {
   "cell_type": "code",
   "execution_count": 3,
   "metadata": {},
   "outputs": [
    {
     "name": "stderr",
     "output_type": "stream",
     "text": [
      "/Users/minjoo/opt/anaconda3/envs/fastcoref2/lib/python3.9/site-packages/tqdm/auto.py:21: TqdmWarning: IProgress not found. Please update jupyter and ipywidgets. See https://ipywidgets.readthedocs.io/en/stable/user_install.html\n",
      "  from .autonotebook import tqdm as notebook_tqdm\n"
     ]
    }
   ],
   "source": [
    "nlp = spacy.load(\"en_core_web_trf\")"
   ]
  },
  {
   "cell_type": "code",
   "execution_count": 21,
   "metadata": {},
   "outputs": [],
   "source": [
    "# import spacy\n",
    "# import fastcoref\n",
    "# from spacy import displacy"
   ]
  },
  {
   "cell_type": "code",
   "execution_count": 2,
   "metadata": {},
   "outputs": [
    {
     "name": "stderr",
     "output_type": "stream",
     "text": [
      "/Users/minjoo/opt/anaconda3/envs/fastcoref/lib/python3.9/site-packages/tqdm/auto.py:21: TqdmWarning: IProgress not found. Please update jupyter and ipywidgets. See https://ipywidgets.readthedocs.io/en/stable/user_install.html\n",
      "  from .autonotebook import tqdm as notebook_tqdm\n"
     ]
    }
   ],
   "source": [
    "# from fastcoref import spacy_component"
   ]
  },
  {
   "cell_type": "code",
   "execution_count": 9,
   "metadata": {},
   "outputs": [],
   "source": [
    "import fastcoref"
   ]
  },
  {
   "cell_type": "code",
   "execution_count": 13,
   "metadata": {},
   "outputs": [],
   "source": [
    "# import spacy_transformers"
   ]
  },
  {
   "cell_type": "code",
   "execution_count": 7,
   "metadata": {},
   "outputs": [],
   "source": [
    "text = \"When Sebastian Thrun started working on self-driving cars at Google in 2007, few people outside of the company took him seriously.\"\n",
    "# text = 'Alice goes down the rabbit hole. Where she would discover a new reality beyond her expectations.'"
   ]
  },
  {
   "cell_type": "code",
   "execution_count": 19,
   "metadata": {},
   "outputs": [],
   "source": [
    "# nlp = spacy.load(\"en_core_web_trf\")"
   ]
  },
  {
   "cell_type": "code",
   "execution_count": 4,
   "metadata": {},
   "outputs": [
    {
     "data": {
      "text/plain": [
       "<spacy_experimental.coref.coref_component.CoreferenceResolver at 0x7f7b21c6b0a0>"
      ]
     },
     "execution_count": 4,
     "metadata": {},
     "output_type": "execute_result"
    }
   ],
   "source": [
    "from spacy_experimental.coref.coref_component import DEFAULT_COREF_MODEL\n",
    "from spacy_experimental.coref.coref_util import DEFAULT_CLUSTER_PREFIX\n",
    "config={\n",
    "    \"model\": DEFAULT_COREF_MODEL,\n",
    "    \"span_cluster_prefix\": DEFAULT_CLUSTER_PREFIX,\n",
    "}\n",
    "nlp.add_pipe(\"experimental_coref\", config=config)"
   ]
  },
  {
   "cell_type": "code",
   "execution_count": 5,
   "metadata": {},
   "outputs": [
    {
     "ename": "ValueError",
     "evalue": "[E007] 'experimental_coref' already exists in pipeline. Existing names: ['transformer', 'tagger', 'parser', 'attribute_ruler', 'lemmatizer', 'ner', 'experimental_coref']",
     "output_type": "error",
     "traceback": [
      "\u001b[0;31m---------------------------------------------------------------------------\u001b[0m",
      "\u001b[0;31mValueError\u001b[0m                                Traceback (most recent call last)",
      "Cell \u001b[0;32mIn[5], line 2\u001b[0m\n\u001b[1;32m      1\u001b[0m \u001b[38;5;66;03m# Construction via add_pipe with default model\u001b[39;00m\n\u001b[0;32m----> 2\u001b[0m coref \u001b[38;5;241m=\u001b[39m \u001b[43mnlp\u001b[49m\u001b[38;5;241;43m.\u001b[39;49m\u001b[43madd_pipe\u001b[49m\u001b[43m(\u001b[49m\u001b[38;5;124;43m\"\u001b[39;49m\u001b[38;5;124;43mexperimental_coref\u001b[39;49m\u001b[38;5;124;43m\"\u001b[39;49m\u001b[43m)\u001b[49m\n",
      "File \u001b[0;32m~/opt/anaconda3/envs/fastcoref2/lib/python3.9/site-packages/spacy/language.py:782\u001b[0m, in \u001b[0;36mLanguage.add_pipe\u001b[0;34m(self, factory_name, name, before, after, first, last, source, config, raw_config, validate)\u001b[0m\n\u001b[1;32m    780\u001b[0m name \u001b[38;5;241m=\u001b[39m name \u001b[38;5;28;01mif\u001b[39;00m name \u001b[38;5;129;01mis\u001b[39;00m \u001b[38;5;129;01mnot\u001b[39;00m \u001b[38;5;28;01mNone\u001b[39;00m \u001b[38;5;28;01melse\u001b[39;00m factory_name\n\u001b[1;32m    781\u001b[0m \u001b[38;5;28;01mif\u001b[39;00m name \u001b[38;5;129;01min\u001b[39;00m \u001b[38;5;28mself\u001b[39m\u001b[38;5;241m.\u001b[39mcomponent_names:\n\u001b[0;32m--> 782\u001b[0m     \u001b[38;5;28;01mraise\u001b[39;00m \u001b[38;5;167;01mValueError\u001b[39;00m(Errors\u001b[38;5;241m.\u001b[39mE007\u001b[38;5;241m.\u001b[39mformat(name\u001b[38;5;241m=\u001b[39mname, opts\u001b[38;5;241m=\u001b[39m\u001b[38;5;28mself\u001b[39m\u001b[38;5;241m.\u001b[39mcomponent_names))\n\u001b[1;32m    783\u001b[0m \u001b[38;5;66;03m# Overriding pipe name in the config is not supported and will be ignored.\u001b[39;00m\n\u001b[1;32m    784\u001b[0m \u001b[38;5;28;01mif\u001b[39;00m \u001b[38;5;124m\"\u001b[39m\u001b[38;5;124mname\u001b[39m\u001b[38;5;124m\"\u001b[39m \u001b[38;5;129;01min\u001b[39;00m config:\n",
      "\u001b[0;31mValueError\u001b[0m: [E007] 'experimental_coref' already exists in pipeline. Existing names: ['transformer', 'tagger', 'parser', 'attribute_ruler', 'lemmatizer', 'ner', 'experimental_coref']"
     ]
    }
   ],
   "source": [
    "# Construction via add_pipe with default model\n",
    "coref = nlp.add_pipe(\"experimental_coref\")"
   ]
  },
  {
   "cell_type": "code",
   "execution_count": 11,
   "metadata": {},
   "outputs": [],
   "source": [
    "# # Construction via add_pipe with default model\n",
    "# coref = nlp.add_pipe(\"experimental_coref\")\n",
    "\n",
    "# # Construction via add_pipe with custom model\n",
    "# config = {\"model\": {\"@architectures\": \"my_coref.v1\"}}\n",
    "# coref = nlp.add_pipe(\"experimental_coref\", config=config)\n",
    "\n",
    "# Construction from class\n",
    "from spacy_experimental.coref.coref_component import CoreferenceResolver"
   ]
  },
  {
   "cell_type": "code",
   "execution_count": 12,
   "metadata": {},
   "outputs": [
    {
     "ename": "NameError",
     "evalue": "name 'model' is not defined",
     "output_type": "error",
     "traceback": [
      "\u001b[0;31m---------------------------------------------------------------------------\u001b[0m",
      "\u001b[0;31mNameError\u001b[0m                                 Traceback (most recent call last)",
      "Cell \u001b[0;32mIn[12], line 1\u001b[0m\n\u001b[0;32m----> 1\u001b[0m coref \u001b[38;5;241m=\u001b[39m CoreferenceResolver(nlp\u001b[38;5;241m.\u001b[39mvocab, \u001b[43mmodel\u001b[49m)\n",
      "\u001b[0;31mNameError\u001b[0m: name 'model' is not defined"
     ]
    }
   ],
   "source": [
    "coref = CoreferenceResolver(nlp.vocab, model)"
   ]
  },
  {
   "cell_type": "code",
   "execution_count": null,
   "metadata": {},
   "outputs": [],
   "source": []
  },
  {
   "cell_type": "code",
   "execution_count": 9,
   "metadata": {},
   "outputs": [
    {
     "ename": "ValueError",
     "evalue": "[E002] Can't find factory for 'fastcoref' for language English (en). This usually happens when spaCy calls `nlp.create_pipe` with a custom component name that's not registered on the current language class. If you're using a Transformer, make sure to install 'spacy-transformers'. If you're using a custom component, make sure you've added the decorator `@Language.component` (for function components) or `@Language.factory` (for class components).\n\nAvailable factories: attribute_ruler, tok2vec, merge_noun_chunks, merge_entities, merge_subtokens, token_splitter, doc_cleaner, parser, beam_parser, lemmatizer, trainable_lemmatizer, entity_linker, ner, beam_ner, entity_ruler, tagger, morphologizer, senter, sentencizer, textcat, spancat, future_entity_ruler, span_ruler, textcat_multilabel, en.lemmatizer",
     "output_type": "error",
     "traceback": [
      "\u001b[0;31m---------------------------------------------------------------------------\u001b[0m",
      "\u001b[0;31mValueError\u001b[0m                                Traceback (most recent call last)",
      "Cell \u001b[0;32mIn[9], line 1\u001b[0m\n\u001b[0;32m----> 1\u001b[0m \u001b[43mnlp\u001b[49m\u001b[38;5;241;43m.\u001b[39;49m\u001b[43madd_pipe\u001b[49m\u001b[43m(\u001b[49m\u001b[38;5;124;43m\"\u001b[39;49m\u001b[38;5;124;43mfastcoref\u001b[39;49m\u001b[38;5;124;43m\"\u001b[39;49m\u001b[43m)\u001b[49m\n",
      "File \u001b[0;32m~/opt/anaconda3/envs/fastcoref2/lib/python3.9/site-packages/spacy/language.py:801\u001b[0m, in \u001b[0;36mLanguage.add_pipe\u001b[0;34m(self, factory_name, name, before, after, first, last, source, config, raw_config, validate)\u001b[0m\n\u001b[1;32m    793\u001b[0m     \u001b[38;5;28;01mif\u001b[39;00m \u001b[38;5;129;01mnot\u001b[39;00m \u001b[38;5;28mself\u001b[39m\u001b[38;5;241m.\u001b[39mhas_factory(factory_name):\n\u001b[1;32m    794\u001b[0m         err \u001b[38;5;241m=\u001b[39m Errors\u001b[38;5;241m.\u001b[39mE002\u001b[38;5;241m.\u001b[39mformat(\n\u001b[1;32m    795\u001b[0m             name\u001b[38;5;241m=\u001b[39mfactory_name,\n\u001b[1;32m    796\u001b[0m             opts\u001b[38;5;241m=\u001b[39m\u001b[38;5;124m\"\u001b[39m\u001b[38;5;124m, \u001b[39m\u001b[38;5;124m\"\u001b[39m\u001b[38;5;241m.\u001b[39mjoin(\u001b[38;5;28mself\u001b[39m\u001b[38;5;241m.\u001b[39mfactory_names),\n\u001b[0;32m   (...)\u001b[0m\n\u001b[1;32m    799\u001b[0m             lang_code\u001b[38;5;241m=\u001b[39m\u001b[38;5;28mself\u001b[39m\u001b[38;5;241m.\u001b[39mlang,\n\u001b[1;32m    800\u001b[0m         )\n\u001b[0;32m--> 801\u001b[0m     pipe_component \u001b[38;5;241m=\u001b[39m \u001b[38;5;28;43mself\u001b[39;49m\u001b[38;5;241;43m.\u001b[39;49m\u001b[43mcreate_pipe\u001b[49m\u001b[43m(\u001b[49m\n\u001b[1;32m    802\u001b[0m \u001b[43m        \u001b[49m\u001b[43mfactory_name\u001b[49m\u001b[43m,\u001b[49m\n\u001b[1;32m    803\u001b[0m \u001b[43m        \u001b[49m\u001b[43mname\u001b[49m\u001b[38;5;241;43m=\u001b[39;49m\u001b[43mname\u001b[49m\u001b[43m,\u001b[49m\n\u001b[1;32m    804\u001b[0m \u001b[43m        \u001b[49m\u001b[43mconfig\u001b[49m\u001b[38;5;241;43m=\u001b[39;49m\u001b[43mconfig\u001b[49m\u001b[43m,\u001b[49m\n\u001b[1;32m    805\u001b[0m \u001b[43m        \u001b[49m\u001b[43mraw_config\u001b[49m\u001b[38;5;241;43m=\u001b[39;49m\u001b[43mraw_config\u001b[49m\u001b[43m,\u001b[49m\n\u001b[1;32m    806\u001b[0m \u001b[43m        \u001b[49m\u001b[43mvalidate\u001b[49m\u001b[38;5;241;43m=\u001b[39;49m\u001b[43mvalidate\u001b[49m\u001b[43m,\u001b[49m\n\u001b[1;32m    807\u001b[0m \u001b[43m    \u001b[49m\u001b[43m)\u001b[49m\n\u001b[1;32m    808\u001b[0m pipe_index \u001b[38;5;241m=\u001b[39m \u001b[38;5;28mself\u001b[39m\u001b[38;5;241m.\u001b[39m_get_pipe_index(before, after, first, last)\n\u001b[1;32m    809\u001b[0m \u001b[38;5;28mself\u001b[39m\u001b[38;5;241m.\u001b[39m_pipe_meta[name] \u001b[38;5;241m=\u001b[39m \u001b[38;5;28mself\u001b[39m\u001b[38;5;241m.\u001b[39mget_factory_meta(factory_name)\n",
      "File \u001b[0;32m~/opt/anaconda3/envs/fastcoref2/lib/python3.9/site-packages/spacy/language.py:661\u001b[0m, in \u001b[0;36mLanguage.create_pipe\u001b[0;34m(self, factory_name, name, config, raw_config, validate)\u001b[0m\n\u001b[1;32m    653\u001b[0m \u001b[38;5;28;01mif\u001b[39;00m \u001b[38;5;129;01mnot\u001b[39;00m \u001b[38;5;28mself\u001b[39m\u001b[38;5;241m.\u001b[39mhas_factory(factory_name):\n\u001b[1;32m    654\u001b[0m     err \u001b[38;5;241m=\u001b[39m Errors\u001b[38;5;241m.\u001b[39mE002\u001b[38;5;241m.\u001b[39mformat(\n\u001b[1;32m    655\u001b[0m         name\u001b[38;5;241m=\u001b[39mfactory_name,\n\u001b[1;32m    656\u001b[0m         opts\u001b[38;5;241m=\u001b[39m\u001b[38;5;124m\"\u001b[39m\u001b[38;5;124m, \u001b[39m\u001b[38;5;124m\"\u001b[39m\u001b[38;5;241m.\u001b[39mjoin(\u001b[38;5;28mself\u001b[39m\u001b[38;5;241m.\u001b[39mfactory_names),\n\u001b[0;32m   (...)\u001b[0m\n\u001b[1;32m    659\u001b[0m         lang_code\u001b[38;5;241m=\u001b[39m\u001b[38;5;28mself\u001b[39m\u001b[38;5;241m.\u001b[39mlang,\n\u001b[1;32m    660\u001b[0m     )\n\u001b[0;32m--> 661\u001b[0m     \u001b[38;5;28;01mraise\u001b[39;00m \u001b[38;5;167;01mValueError\u001b[39;00m(err)\n\u001b[1;32m    662\u001b[0m pipe_meta \u001b[38;5;241m=\u001b[39m \u001b[38;5;28mself\u001b[39m\u001b[38;5;241m.\u001b[39mget_factory_meta(factory_name)\n\u001b[1;32m    663\u001b[0m \u001b[38;5;66;03m# This is unideal, but the alternative would mean you always need to\u001b[39;00m\n\u001b[1;32m    664\u001b[0m \u001b[38;5;66;03m# specify the full config settings, which is not really viable.\u001b[39;00m\n",
      "\u001b[0;31mValueError\u001b[0m: [E002] Can't find factory for 'fastcoref' for language English (en). This usually happens when spaCy calls `nlp.create_pipe` with a custom component name that's not registered on the current language class. If you're using a Transformer, make sure to install 'spacy-transformers'. If you're using a custom component, make sure you've added the decorator `@Language.component` (for function components) or `@Language.factory` (for class components).\n\nAvailable factories: attribute_ruler, tok2vec, merge_noun_chunks, merge_entities, merge_subtokens, token_splitter, doc_cleaner, parser, beam_parser, lemmatizer, trainable_lemmatizer, entity_linker, ner, beam_ner, entity_ruler, tagger, morphologizer, senter, sentencizer, textcat, spancat, future_entity_ruler, span_ruler, textcat_multilabel, en.lemmatizer"
     ]
    }
   ],
   "source": [
    "nlp.add_pipe(\"fastcoref\")"
   ]
  },
  {
   "cell_type": "code",
   "execution_count": 14,
   "metadata": {},
   "outputs": [
    {
     "ename": "ValueError",
     "evalue": "[E955] Can't find table(s) lexeme_norm for language 'en' in spacy-lookups-data. Make sure you have the package installed or provide your own lookup tables if no default lookups are available for your language.",
     "output_type": "error",
     "traceback": [
      "\u001b[0;31m---------------------------------------------------------------------------\u001b[0m",
      "\u001b[0;31mValueError\u001b[0m                                Traceback (most recent call last)",
      "Cell \u001b[0;32mIn[14], line 1\u001b[0m\n\u001b[0;32m----> 1\u001b[0m \u001b[43mnlp\u001b[49m\u001b[38;5;241;43m.\u001b[39;49m\u001b[43minitialize\u001b[49m\u001b[43m(\u001b[49m\u001b[38;5;28;43;01mlambda\u001b[39;49;00m\u001b[43m:\u001b[49m\u001b[43m \u001b[49m\u001b[43mexamples\u001b[49m\u001b[43m)\u001b[49m\n",
      "File \u001b[0;32m~/opt/anaconda3/envs/fastcoref2/lib/python3.9/site-packages/spacy/language.py:1296\u001b[0m, in \u001b[0;36mLanguage.initialize\u001b[0;34m(self, get_examples, sgd)\u001b[0m\n\u001b[1;32m   1294\u001b[0m config \u001b[38;5;241m=\u001b[39m \u001b[38;5;28mself\u001b[39m\u001b[38;5;241m.\u001b[39mconfig\u001b[38;5;241m.\u001b[39minterpolate()\n\u001b[1;32m   1295\u001b[0m \u001b[38;5;66;03m# These are the settings provided in the [initialize] block in the config\u001b[39;00m\n\u001b[0;32m-> 1296\u001b[0m I \u001b[38;5;241m=\u001b[39m \u001b[43mregistry\u001b[49m\u001b[38;5;241;43m.\u001b[39;49m\u001b[43mresolve\u001b[49m\u001b[43m(\u001b[49m\u001b[43mconfig\u001b[49m\u001b[43m[\u001b[49m\u001b[38;5;124;43m\"\u001b[39;49m\u001b[38;5;124;43minitialize\u001b[39;49m\u001b[38;5;124;43m\"\u001b[39;49m\u001b[43m]\u001b[49m\u001b[43m,\u001b[49m\u001b[43m \u001b[49m\u001b[43mschema\u001b[49m\u001b[38;5;241;43m=\u001b[39;49m\u001b[43mConfigSchemaInit\u001b[49m\u001b[43m)\u001b[49m\n\u001b[1;32m   1297\u001b[0m before_init \u001b[38;5;241m=\u001b[39m I[\u001b[38;5;124m\"\u001b[39m\u001b[38;5;124mbefore_init\u001b[39m\u001b[38;5;124m\"\u001b[39m]\n\u001b[1;32m   1298\u001b[0m \u001b[38;5;28;01mif\u001b[39;00m before_init \u001b[38;5;129;01mis\u001b[39;00m \u001b[38;5;129;01mnot\u001b[39;00m \u001b[38;5;28;01mNone\u001b[39;00m:\n",
      "File \u001b[0;32m~/opt/anaconda3/envs/fastcoref2/lib/python3.9/site-packages/confection/__init__.py:760\u001b[0m, in \u001b[0;36mregistry.resolve\u001b[0;34m(cls, config, schema, overrides, validate)\u001b[0m\n\u001b[1;32m    751\u001b[0m \u001b[38;5;129m@classmethod\u001b[39m\n\u001b[1;32m    752\u001b[0m \u001b[38;5;28;01mdef\u001b[39;00m \u001b[38;5;21mresolve\u001b[39m(\n\u001b[1;32m    753\u001b[0m     \u001b[38;5;28mcls\u001b[39m,\n\u001b[0;32m   (...)\u001b[0m\n\u001b[1;32m    758\u001b[0m     validate: \u001b[38;5;28mbool\u001b[39m \u001b[38;5;241m=\u001b[39m \u001b[38;5;28;01mTrue\u001b[39;00m,\n\u001b[1;32m    759\u001b[0m ) \u001b[38;5;241m-\u001b[39m\u001b[38;5;241m>\u001b[39m Dict[\u001b[38;5;28mstr\u001b[39m, Any]:\n\u001b[0;32m--> 760\u001b[0m     resolved, _ \u001b[38;5;241m=\u001b[39m \u001b[38;5;28;43mcls\u001b[39;49m\u001b[38;5;241;43m.\u001b[39;49m\u001b[43m_make\u001b[49m\u001b[43m(\u001b[49m\n\u001b[1;32m    761\u001b[0m \u001b[43m        \u001b[49m\u001b[43mconfig\u001b[49m\u001b[43m,\u001b[49m\u001b[43m \u001b[49m\u001b[43mschema\u001b[49m\u001b[38;5;241;43m=\u001b[39;49m\u001b[43mschema\u001b[49m\u001b[43m,\u001b[49m\u001b[43m \u001b[49m\u001b[43moverrides\u001b[49m\u001b[38;5;241;43m=\u001b[39;49m\u001b[43moverrides\u001b[49m\u001b[43m,\u001b[49m\u001b[43m \u001b[49m\u001b[43mvalidate\u001b[49m\u001b[38;5;241;43m=\u001b[39;49m\u001b[43mvalidate\u001b[49m\u001b[43m,\u001b[49m\u001b[43m \u001b[49m\u001b[43mresolve\u001b[49m\u001b[38;5;241;43m=\u001b[39;49m\u001b[38;5;28;43;01mTrue\u001b[39;49;00m\n\u001b[1;32m    762\u001b[0m \u001b[43m    \u001b[49m\u001b[43m)\u001b[49m\n\u001b[1;32m    763\u001b[0m     \u001b[38;5;28;01mreturn\u001b[39;00m resolved\n",
      "File \u001b[0;32m~/opt/anaconda3/envs/fastcoref2/lib/python3.9/site-packages/confection/__init__.py:809\u001b[0m, in \u001b[0;36mregistry._make\u001b[0;34m(cls, config, schema, overrides, resolve, validate)\u001b[0m\n\u001b[1;32m    807\u001b[0m \u001b[38;5;28;01mif\u001b[39;00m \u001b[38;5;129;01mnot\u001b[39;00m is_interpolated:\n\u001b[1;32m    808\u001b[0m     config \u001b[38;5;241m=\u001b[39m Config(orig_config)\u001b[38;5;241m.\u001b[39minterpolate()\n\u001b[0;32m--> 809\u001b[0m filled, _, resolved \u001b[38;5;241m=\u001b[39m \u001b[38;5;28;43mcls\u001b[39;49m\u001b[38;5;241;43m.\u001b[39;49m\u001b[43m_fill\u001b[49m\u001b[43m(\u001b[49m\n\u001b[1;32m    810\u001b[0m \u001b[43m    \u001b[49m\u001b[43mconfig\u001b[49m\u001b[43m,\u001b[49m\u001b[43m \u001b[49m\u001b[43mschema\u001b[49m\u001b[43m,\u001b[49m\u001b[43m \u001b[49m\u001b[43mvalidate\u001b[49m\u001b[38;5;241;43m=\u001b[39;49m\u001b[43mvalidate\u001b[49m\u001b[43m,\u001b[49m\u001b[43m \u001b[49m\u001b[43moverrides\u001b[49m\u001b[38;5;241;43m=\u001b[39;49m\u001b[43moverrides\u001b[49m\u001b[43m,\u001b[49m\u001b[43m \u001b[49m\u001b[43mresolve\u001b[49m\u001b[38;5;241;43m=\u001b[39;49m\u001b[43mresolve\u001b[49m\n\u001b[1;32m    811\u001b[0m \u001b[43m\u001b[49m\u001b[43m)\u001b[49m\n\u001b[1;32m    812\u001b[0m filled \u001b[38;5;241m=\u001b[39m Config(filled, section_order\u001b[38;5;241m=\u001b[39msection_order)\n\u001b[1;32m    813\u001b[0m \u001b[38;5;66;03m# Check that overrides didn't include invalid properties not in config\u001b[39;00m\n",
      "File \u001b[0;32m~/opt/anaconda3/envs/fastcoref2/lib/python3.9/site-packages/confection/__init__.py:881\u001b[0m, in \u001b[0;36mregistry._fill\u001b[0;34m(cls, config, schema, validate, resolve, parent, overrides)\u001b[0m\n\u001b[1;32m    878\u001b[0m     getter \u001b[38;5;241m=\u001b[39m \u001b[38;5;28mcls\u001b[39m\u001b[38;5;241m.\u001b[39mget(reg_name, func_name)\n\u001b[1;32m    879\u001b[0m     \u001b[38;5;66;03m# We don't want to try/except this and raise our own error\u001b[39;00m\n\u001b[1;32m    880\u001b[0m     \u001b[38;5;66;03m# here, because we want the traceback if the function fails.\u001b[39;00m\n\u001b[0;32m--> 881\u001b[0m     getter_result \u001b[38;5;241m=\u001b[39m \u001b[43mgetter\u001b[49m\u001b[43m(\u001b[49m\u001b[38;5;241;43m*\u001b[39;49m\u001b[43margs\u001b[49m\u001b[43m,\u001b[49m\u001b[43m \u001b[49m\u001b[38;5;241;43m*\u001b[39;49m\u001b[38;5;241;43m*\u001b[39;49m\u001b[43mkwargs\u001b[49m\u001b[43m)\u001b[49m\n\u001b[1;32m    882\u001b[0m \u001b[38;5;28;01melse\u001b[39;00m:\n\u001b[1;32m    883\u001b[0m     \u001b[38;5;66;03m# We're not resolving and calling the function, so replace\u001b[39;00m\n\u001b[1;32m    884\u001b[0m     \u001b[38;5;66;03m# the getter_result with a Promise class\u001b[39;00m\n\u001b[1;32m    885\u001b[0m     getter_result \u001b[38;5;241m=\u001b[39m Promise(\n\u001b[1;32m    886\u001b[0m         registry\u001b[38;5;241m=\u001b[39mreg_name, name\u001b[38;5;241m=\u001b[39mfunc_name, args\u001b[38;5;241m=\u001b[39margs, kwargs\u001b[38;5;241m=\u001b[39mkwargs\n\u001b[1;32m    887\u001b[0m     )\n",
      "File \u001b[0;32m~/opt/anaconda3/envs/fastcoref2/lib/python3.9/site-packages/spacy/language.py:109\u001b[0m, in \u001b[0;36mload_lookups_data\u001b[0;34m(lang, tables)\u001b[0m\n\u001b[1;32m    106\u001b[0m \u001b[38;5;129m@registry\u001b[39m\u001b[38;5;241m.\u001b[39mmisc(\u001b[38;5;124m\"\u001b[39m\u001b[38;5;124mspacy.LookupsDataLoader.v1\u001b[39m\u001b[38;5;124m\"\u001b[39m)\n\u001b[1;32m    107\u001b[0m \u001b[38;5;28;01mdef\u001b[39;00m \u001b[38;5;21mload_lookups_data\u001b[39m(lang, tables):\n\u001b[1;32m    108\u001b[0m     util\u001b[38;5;241m.\u001b[39mlogger\u001b[38;5;241m.\u001b[39mdebug(\u001b[38;5;124mf\u001b[39m\u001b[38;5;124m\"\u001b[39m\u001b[38;5;124mLoading lookups from spacy-lookups-data: \u001b[39m\u001b[38;5;132;01m{\u001b[39;00mtables\u001b[38;5;132;01m}\u001b[39;00m\u001b[38;5;124m\"\u001b[39m)\n\u001b[0;32m--> 109\u001b[0m     lookups \u001b[38;5;241m=\u001b[39m \u001b[43mload_lookups\u001b[49m\u001b[43m(\u001b[49m\u001b[43mlang\u001b[49m\u001b[38;5;241;43m=\u001b[39;49m\u001b[43mlang\u001b[49m\u001b[43m,\u001b[49m\u001b[43m \u001b[49m\u001b[43mtables\u001b[49m\u001b[38;5;241;43m=\u001b[39;49m\u001b[43mtables\u001b[49m\u001b[43m)\u001b[49m\n\u001b[1;32m    110\u001b[0m     \u001b[38;5;28;01mreturn\u001b[39;00m lookups\n",
      "File \u001b[0;32m~/opt/anaconda3/envs/fastcoref2/lib/python3.9/site-packages/spacy/lookups.py:30\u001b[0m, in \u001b[0;36mload_lookups\u001b[0;34m(lang, tables, strict)\u001b[0m\n\u001b[1;32m     28\u001b[0m \u001b[38;5;28;01mif\u001b[39;00m lang \u001b[38;5;129;01mnot\u001b[39;00m \u001b[38;5;129;01min\u001b[39;00m registry\u001b[38;5;241m.\u001b[39mlookups:\n\u001b[1;32m     29\u001b[0m     \u001b[38;5;28;01mif\u001b[39;00m strict \u001b[38;5;129;01mand\u001b[39;00m \u001b[38;5;28mlen\u001b[39m(tables) \u001b[38;5;241m>\u001b[39m \u001b[38;5;241m0\u001b[39m:\n\u001b[0;32m---> 30\u001b[0m         \u001b[38;5;28;01mraise\u001b[39;00m \u001b[38;5;167;01mValueError\u001b[39;00m(Errors\u001b[38;5;241m.\u001b[39mE955\u001b[38;5;241m.\u001b[39mformat(table\u001b[38;5;241m=\u001b[39m\u001b[38;5;124m\"\u001b[39m\u001b[38;5;124m, \u001b[39m\u001b[38;5;124m\"\u001b[39m\u001b[38;5;241m.\u001b[39mjoin(tables), lang\u001b[38;5;241m=\u001b[39mlang))\n\u001b[1;32m     31\u001b[0m     \u001b[38;5;28;01mreturn\u001b[39;00m lookups\n\u001b[1;32m     32\u001b[0m data \u001b[38;5;241m=\u001b[39m registry\u001b[38;5;241m.\u001b[39mlookups\u001b[38;5;241m.\u001b[39mget(lang)\n",
      "\u001b[0;31mValueError\u001b[0m: [E955] Can't find table(s) lexeme_norm for language 'en' in spacy-lookups-data. Make sure you have the package installed or provide your own lookup tables if no default lookups are available for your language."
     ]
    }
   ],
   "source": [
    "nlp.initialize(lambda: examples)"
   ]
  },
  {
   "cell_type": "code",
   "execution_count": 8,
   "metadata": {},
   "outputs": [
    {
     "ename": "ValueError",
     "evalue": "[E109] Component 'experimental_coref' could not be run. Did you forget to call `initialize()`?",
     "output_type": "error",
     "traceback": [
      "\u001b[0;31m---------------------------------------------------------------------------\u001b[0m",
      "\u001b[0;31mKeyError\u001b[0m                                  Traceback (most recent call last)",
      "File \u001b[0;32m~/opt/anaconda3/envs/fastcoref2/lib/python3.9/site-packages/spacy/language.py:1026\u001b[0m, in \u001b[0;36mLanguage.__call__\u001b[0;34m(self, text, disable, component_cfg)\u001b[0m\n\u001b[1;32m   1025\u001b[0m \u001b[38;5;28;01mtry\u001b[39;00m:\n\u001b[0;32m-> 1026\u001b[0m     doc \u001b[38;5;241m=\u001b[39m \u001b[43mproc\u001b[49m\u001b[43m(\u001b[49m\u001b[43mdoc\u001b[49m\u001b[43m,\u001b[49m\u001b[43m \u001b[49m\u001b[38;5;241;43m*\u001b[39;49m\u001b[38;5;241;43m*\u001b[39;49m\u001b[43mcomponent_cfg\u001b[49m\u001b[38;5;241;43m.\u001b[39;49m\u001b[43mget\u001b[49m\u001b[43m(\u001b[49m\u001b[43mname\u001b[49m\u001b[43m,\u001b[49m\u001b[43m \u001b[49m\u001b[43m{\u001b[49m\u001b[43m}\u001b[49m\u001b[43m)\u001b[49m\u001b[43m)\u001b[49m  \u001b[38;5;66;03m# type: ignore[call-arg]\u001b[39;00m\n\u001b[1;32m   1027\u001b[0m \u001b[38;5;28;01mexcept\u001b[39;00m \u001b[38;5;167;01mKeyError\u001b[39;00m \u001b[38;5;28;01mas\u001b[39;00m e:\n\u001b[1;32m   1028\u001b[0m     \u001b[38;5;66;03m# This typically happens if a component is not initialized\u001b[39;00m\n",
      "File \u001b[0;32m~/opt/anaconda3/envs/fastcoref2/lib/python3.9/site-packages/spacy/pipeline/trainable_pipe.pyx:56\u001b[0m, in \u001b[0;36mspacy.pipeline.trainable_pipe.TrainablePipe.__call__\u001b[0;34m()\u001b[0m\n",
      "File \u001b[0;32m~/opt/anaconda3/envs/fastcoref2/lib/python3.9/site-packages/spacy/util.py:1670\u001b[0m, in \u001b[0;36mraise_error\u001b[0;34m(proc_name, proc, docs, e)\u001b[0m\n\u001b[1;32m   1669\u001b[0m \u001b[38;5;28;01mdef\u001b[39;00m \u001b[38;5;21mraise_error\u001b[39m(proc_name, proc, docs, e):\n\u001b[0;32m-> 1670\u001b[0m     \u001b[38;5;28;01mraise\u001b[39;00m e\n",
      "File \u001b[0;32m~/opt/anaconda3/envs/fastcoref2/lib/python3.9/site-packages/spacy/pipeline/trainable_pipe.pyx:52\u001b[0m, in \u001b[0;36mspacy.pipeline.trainable_pipe.TrainablePipe.__call__\u001b[0;34m()\u001b[0m\n",
      "File \u001b[0;32m~/opt/anaconda3/envs/fastcoref2/lib/python3.9/site-packages/spacy_experimental/coref/coref_component.py:153\u001b[0m, in \u001b[0;36mCoreferenceResolver.predict\u001b[0;34m(self, docs)\u001b[0m\n\u001b[1;32m    151\u001b[0m     \u001b[38;5;28;01mcontinue\u001b[39;00m\n\u001b[0;32m--> 153\u001b[0m scores, idxs \u001b[38;5;241m=\u001b[39m \u001b[38;5;28;43mself\u001b[39;49m\u001b[38;5;241;43m.\u001b[39;49m\u001b[43mmodel\u001b[49m\u001b[38;5;241;43m.\u001b[39;49m\u001b[43mpredict\u001b[49m\u001b[43m(\u001b[49m\u001b[43m[\u001b[49m\u001b[43mdoc\u001b[49m\u001b[43m]\u001b[49m\u001b[43m)\u001b[49m\n\u001b[1;32m    154\u001b[0m \u001b[38;5;66;03m# idxs is a list of mentions (start / end idxs)\u001b[39;00m\n\u001b[1;32m    155\u001b[0m \u001b[38;5;66;03m# each item in scores includes scores and a mapping from scores to mentions\u001b[39;00m\n",
      "File \u001b[0;32m~/opt/anaconda3/envs/fastcoref2/lib/python3.9/site-packages/thinc/model.py:334\u001b[0m, in \u001b[0;36mModel.predict\u001b[0;34m(self, X)\u001b[0m\n\u001b[1;32m    331\u001b[0m \u001b[38;5;250m\u001b[39m\u001b[38;5;124;03m\"\"\"Call the model's `forward` function with `is_train=False`, and return\u001b[39;00m\n\u001b[1;32m    332\u001b[0m \u001b[38;5;124;03monly the output, instead of the `(output, callback)` tuple.\u001b[39;00m\n\u001b[1;32m    333\u001b[0m \u001b[38;5;124;03m\"\"\"\u001b[39;00m\n\u001b[0;32m--> 334\u001b[0m \u001b[38;5;28;01mreturn\u001b[39;00m \u001b[38;5;28;43mself\u001b[39;49m\u001b[38;5;241;43m.\u001b[39;49m\u001b[43m_func\u001b[49m\u001b[43m(\u001b[49m\u001b[38;5;28;43mself\u001b[39;49m\u001b[43m,\u001b[49m\u001b[43m \u001b[49m\u001b[43mX\u001b[49m\u001b[43m,\u001b[49m\u001b[43m \u001b[49m\u001b[43mis_train\u001b[49m\u001b[38;5;241;43m=\u001b[39;49m\u001b[38;5;28;43;01mFalse\u001b[39;49;00m\u001b[43m)\u001b[49m[\u001b[38;5;241m0\u001b[39m]\n",
      "File \u001b[0;32m~/opt/anaconda3/envs/fastcoref2/lib/python3.9/site-packages/thinc/layers/chain.py:54\u001b[0m, in \u001b[0;36mforward\u001b[0;34m(model, X, is_train)\u001b[0m\n\u001b[1;32m     53\u001b[0m \u001b[38;5;28;01mfor\u001b[39;00m layer \u001b[38;5;129;01min\u001b[39;00m model\u001b[38;5;241m.\u001b[39mlayers:\n\u001b[0;32m---> 54\u001b[0m     Y, inc_layer_grad \u001b[38;5;241m=\u001b[39m \u001b[43mlayer\u001b[49m\u001b[43m(\u001b[49m\u001b[43mX\u001b[49m\u001b[43m,\u001b[49m\u001b[43m \u001b[49m\u001b[43mis_train\u001b[49m\u001b[38;5;241;43m=\u001b[39;49m\u001b[43mis_train\u001b[49m\u001b[43m)\u001b[49m\n\u001b[1;32m     55\u001b[0m     callbacks\u001b[38;5;241m.\u001b[39mappend(inc_layer_grad)\n",
      "File \u001b[0;32m~/opt/anaconda3/envs/fastcoref2/lib/python3.9/site-packages/thinc/model.py:310\u001b[0m, in \u001b[0;36mModel.__call__\u001b[0;34m(self, X, is_train)\u001b[0m\n\u001b[1;32m    308\u001b[0m \u001b[38;5;250m\u001b[39m\u001b[38;5;124;03m\"\"\"Call the model's `forward` function, returning the output and a\u001b[39;00m\n\u001b[1;32m    309\u001b[0m \u001b[38;5;124;03mcallback to compute the gradients via backpropagation.\"\"\"\u001b[39;00m\n\u001b[0;32m--> 310\u001b[0m \u001b[38;5;28;01mreturn\u001b[39;00m \u001b[38;5;28;43mself\u001b[39;49m\u001b[38;5;241;43m.\u001b[39;49m\u001b[43m_func\u001b[49m\u001b[43m(\u001b[49m\u001b[38;5;28;43mself\u001b[39;49m\u001b[43m,\u001b[49m\u001b[43m \u001b[49m\u001b[43mX\u001b[49m\u001b[43m,\u001b[49m\u001b[43m \u001b[49m\u001b[43mis_train\u001b[49m\u001b[38;5;241;43m=\u001b[39;49m\u001b[43mis_train\u001b[49m\u001b[43m)\u001b[49m\n",
      "File \u001b[0;32m~/opt/anaconda3/envs/fastcoref2/lib/python3.9/site-packages/thinc/layers/chain.py:54\u001b[0m, in \u001b[0;36mforward\u001b[0;34m(model, X, is_train)\u001b[0m\n\u001b[1;32m     53\u001b[0m \u001b[38;5;28;01mfor\u001b[39;00m layer \u001b[38;5;129;01min\u001b[39;00m model\u001b[38;5;241m.\u001b[39mlayers:\n\u001b[0;32m---> 54\u001b[0m     Y, inc_layer_grad \u001b[38;5;241m=\u001b[39m \u001b[43mlayer\u001b[49m\u001b[43m(\u001b[49m\u001b[43mX\u001b[49m\u001b[43m,\u001b[49m\u001b[43m \u001b[49m\u001b[43mis_train\u001b[49m\u001b[38;5;241;43m=\u001b[39;49m\u001b[43mis_train\u001b[49m\u001b[43m)\u001b[49m\n\u001b[1;32m     55\u001b[0m     callbacks\u001b[38;5;241m.\u001b[39mappend(inc_layer_grad)\n",
      "File \u001b[0;32m~/opt/anaconda3/envs/fastcoref2/lib/python3.9/site-packages/thinc/model.py:310\u001b[0m, in \u001b[0;36mModel.__call__\u001b[0;34m(self, X, is_train)\u001b[0m\n\u001b[1;32m    308\u001b[0m \u001b[38;5;250m\u001b[39m\u001b[38;5;124;03m\"\"\"Call the model's `forward` function, returning the output and a\u001b[39;00m\n\u001b[1;32m    309\u001b[0m \u001b[38;5;124;03mcallback to compute the gradients via backpropagation.\"\"\"\u001b[39;00m\n\u001b[0;32m--> 310\u001b[0m \u001b[38;5;28;01mreturn\u001b[39;00m \u001b[38;5;28;43mself\u001b[39;49m\u001b[38;5;241;43m.\u001b[39;49m\u001b[43m_func\u001b[49m\u001b[43m(\u001b[49m\u001b[38;5;28;43mself\u001b[39;49m\u001b[43m,\u001b[49m\u001b[43m \u001b[49m\u001b[43mX\u001b[49m\u001b[43m,\u001b[49m\u001b[43m \u001b[49m\u001b[43mis_train\u001b[49m\u001b[38;5;241;43m=\u001b[39;49m\u001b[43mis_train\u001b[49m\u001b[43m)\u001b[49m\n",
      "File \u001b[0;32m~/opt/anaconda3/envs/fastcoref2/lib/python3.9/site-packages/thinc/layers/chain.py:54\u001b[0m, in \u001b[0;36mforward\u001b[0;34m(model, X, is_train)\u001b[0m\n\u001b[1;32m     53\u001b[0m \u001b[38;5;28;01mfor\u001b[39;00m layer \u001b[38;5;129;01min\u001b[39;00m model\u001b[38;5;241m.\u001b[39mlayers:\n\u001b[0;32m---> 54\u001b[0m     Y, inc_layer_grad \u001b[38;5;241m=\u001b[39m \u001b[43mlayer\u001b[49m\u001b[43m(\u001b[49m\u001b[43mX\u001b[49m\u001b[43m,\u001b[49m\u001b[43m \u001b[49m\u001b[43mis_train\u001b[49m\u001b[38;5;241;43m=\u001b[39;49m\u001b[43mis_train\u001b[49m\u001b[43m)\u001b[49m\n\u001b[1;32m     55\u001b[0m     callbacks\u001b[38;5;241m.\u001b[39mappend(inc_layer_grad)\n",
      "File \u001b[0;32m~/opt/anaconda3/envs/fastcoref2/lib/python3.9/site-packages/thinc/model.py:310\u001b[0m, in \u001b[0;36mModel.__call__\u001b[0;34m(self, X, is_train)\u001b[0m\n\u001b[1;32m    308\u001b[0m \u001b[38;5;250m\u001b[39m\u001b[38;5;124;03m\"\"\"Call the model's `forward` function, returning the output and a\u001b[39;00m\n\u001b[1;32m    309\u001b[0m \u001b[38;5;124;03mcallback to compute the gradients via backpropagation.\"\"\"\u001b[39;00m\n\u001b[0;32m--> 310\u001b[0m \u001b[38;5;28;01mreturn\u001b[39;00m \u001b[38;5;28;43mself\u001b[39;49m\u001b[38;5;241;43m.\u001b[39;49m\u001b[43m_func\u001b[49m\u001b[43m(\u001b[49m\u001b[38;5;28;43mself\u001b[39;49m\u001b[43m,\u001b[49m\u001b[43m \u001b[49m\u001b[43mX\u001b[49m\u001b[43m,\u001b[49m\u001b[43m \u001b[49m\u001b[43mis_train\u001b[49m\u001b[38;5;241;43m=\u001b[39;49m\u001b[43mis_train\u001b[49m\u001b[43m)\u001b[49m\n",
      "File \u001b[0;32m~/opt/anaconda3/envs/fastcoref2/lib/python3.9/site-packages/thinc/layers/with_array.py:36\u001b[0m, in \u001b[0;36mforward\u001b[0;34m(model, Xseq, is_train)\u001b[0m\n\u001b[1;32m     35\u001b[0m \u001b[38;5;28;01mif\u001b[39;00m \u001b[38;5;28misinstance\u001b[39m(Xseq, Ragged):\n\u001b[0;32m---> 36\u001b[0m     \u001b[38;5;28;01mreturn\u001b[39;00m cast(Tuple[SeqT, Callable], \u001b[43m_ragged_forward\u001b[49m\u001b[43m(\u001b[49m\u001b[43mmodel\u001b[49m\u001b[43m,\u001b[49m\u001b[43m \u001b[49m\u001b[43mXseq\u001b[49m\u001b[43m,\u001b[49m\u001b[43m \u001b[49m\u001b[43mis_train\u001b[49m\u001b[43m)\u001b[49m)\n\u001b[1;32m     37\u001b[0m \u001b[38;5;28;01melif\u001b[39;00m \u001b[38;5;28misinstance\u001b[39m(Xseq, Padded):\n",
      "File \u001b[0;32m~/opt/anaconda3/envs/fastcoref2/lib/python3.9/site-packages/thinc/layers/with_array.py:91\u001b[0m, in \u001b[0;36m_ragged_forward\u001b[0;34m(model, Xr, is_train)\u001b[0m\n\u001b[1;32m     90\u001b[0m layer: Model[ArrayXd, ArrayXd] \u001b[38;5;241m=\u001b[39m model\u001b[38;5;241m.\u001b[39mlayers[\u001b[38;5;241m0\u001b[39m]\n\u001b[0;32m---> 91\u001b[0m Y, get_dX \u001b[38;5;241m=\u001b[39m \u001b[43mlayer\u001b[49m\u001b[43m(\u001b[49m\u001b[43mXr\u001b[49m\u001b[38;5;241;43m.\u001b[39;49m\u001b[43mdataXd\u001b[49m\u001b[43m,\u001b[49m\u001b[43m \u001b[49m\u001b[43mis_train\u001b[49m\u001b[43m)\u001b[49m\n\u001b[1;32m     93\u001b[0m \u001b[38;5;28;01mdef\u001b[39;00m \u001b[38;5;21mbackprop\u001b[39m(dYr: Ragged) \u001b[38;5;241m-\u001b[39m\u001b[38;5;241m>\u001b[39m Ragged:\n",
      "File \u001b[0;32m~/opt/anaconda3/envs/fastcoref2/lib/python3.9/site-packages/thinc/model.py:310\u001b[0m, in \u001b[0;36mModel.__call__\u001b[0;34m(self, X, is_train)\u001b[0m\n\u001b[1;32m    308\u001b[0m \u001b[38;5;250m\u001b[39m\u001b[38;5;124;03m\"\"\"Call the model's `forward` function, returning the output and a\u001b[39;00m\n\u001b[1;32m    309\u001b[0m \u001b[38;5;124;03mcallback to compute the gradients via backpropagation.\"\"\"\u001b[39;00m\n\u001b[0;32m--> 310\u001b[0m \u001b[38;5;28;01mreturn\u001b[39;00m \u001b[38;5;28;43mself\u001b[39;49m\u001b[38;5;241;43m.\u001b[39;49m\u001b[43m_func\u001b[49m\u001b[43m(\u001b[49m\u001b[38;5;28;43mself\u001b[39;49m\u001b[43m,\u001b[49m\u001b[43m \u001b[49m\u001b[43mX\u001b[49m\u001b[43m,\u001b[49m\u001b[43m \u001b[49m\u001b[43mis_train\u001b[49m\u001b[38;5;241;43m=\u001b[39;49m\u001b[43mis_train\u001b[49m\u001b[43m)\u001b[49m\n",
      "File \u001b[0;32m~/opt/anaconda3/envs/fastcoref2/lib/python3.9/site-packages/thinc/layers/concatenate.py:57\u001b[0m, in \u001b[0;36mforward\u001b[0;34m(model, X, is_train)\u001b[0m\n\u001b[1;32m     56\u001b[0m \u001b[38;5;28;01mdef\u001b[39;00m \u001b[38;5;21mforward\u001b[39m(model: Model[InT, OutT], X: InT, is_train: \u001b[38;5;28mbool\u001b[39m) \u001b[38;5;241m-\u001b[39m\u001b[38;5;241m>\u001b[39m Tuple[OutT, Callable]:\n\u001b[0;32m---> 57\u001b[0m     Ys, callbacks \u001b[38;5;241m=\u001b[39m \u001b[38;5;28mzip\u001b[39m(\u001b[38;5;241m*\u001b[39m[layer(X, is_train\u001b[38;5;241m=\u001b[39mis_train) \u001b[38;5;28;01mfor\u001b[39;00m layer \u001b[38;5;129;01min\u001b[39;00m model\u001b[38;5;241m.\u001b[39mlayers])\n\u001b[1;32m     58\u001b[0m     \u001b[38;5;28;01mif\u001b[39;00m \u001b[38;5;28misinstance\u001b[39m(Ys[\u001b[38;5;241m0\u001b[39m], \u001b[38;5;28mlist\u001b[39m):\n",
      "File \u001b[0;32m~/opt/anaconda3/envs/fastcoref2/lib/python3.9/site-packages/thinc/layers/concatenate.py:57\u001b[0m, in \u001b[0;36m<listcomp>\u001b[0;34m(.0)\u001b[0m\n\u001b[1;32m     56\u001b[0m \u001b[38;5;28;01mdef\u001b[39;00m \u001b[38;5;21mforward\u001b[39m(model: Model[InT, OutT], X: InT, is_train: \u001b[38;5;28mbool\u001b[39m) \u001b[38;5;241m-\u001b[39m\u001b[38;5;241m>\u001b[39m Tuple[OutT, Callable]:\n\u001b[0;32m---> 57\u001b[0m     Ys, callbacks \u001b[38;5;241m=\u001b[39m \u001b[38;5;28mzip\u001b[39m(\u001b[38;5;241m*\u001b[39m[\u001b[43mlayer\u001b[49m\u001b[43m(\u001b[49m\u001b[43mX\u001b[49m\u001b[43m,\u001b[49m\u001b[43m \u001b[49m\u001b[43mis_train\u001b[49m\u001b[38;5;241;43m=\u001b[39;49m\u001b[43mis_train\u001b[49m\u001b[43m)\u001b[49m \u001b[38;5;28;01mfor\u001b[39;00m layer \u001b[38;5;129;01min\u001b[39;00m model\u001b[38;5;241m.\u001b[39mlayers])\n\u001b[1;32m     58\u001b[0m     \u001b[38;5;28;01mif\u001b[39;00m \u001b[38;5;28misinstance\u001b[39m(Ys[\u001b[38;5;241m0\u001b[39m], \u001b[38;5;28mlist\u001b[39m):\n",
      "File \u001b[0;32m~/opt/anaconda3/envs/fastcoref2/lib/python3.9/site-packages/thinc/model.py:310\u001b[0m, in \u001b[0;36mModel.__call__\u001b[0;34m(self, X, is_train)\u001b[0m\n\u001b[1;32m    308\u001b[0m \u001b[38;5;250m\u001b[39m\u001b[38;5;124;03m\"\"\"Call the model's `forward` function, returning the output and a\u001b[39;00m\n\u001b[1;32m    309\u001b[0m \u001b[38;5;124;03mcallback to compute the gradients via backpropagation.\"\"\"\u001b[39;00m\n\u001b[0;32m--> 310\u001b[0m \u001b[38;5;28;01mreturn\u001b[39;00m \u001b[38;5;28;43mself\u001b[39;49m\u001b[38;5;241;43m.\u001b[39;49m\u001b[43m_func\u001b[49m\u001b[43m(\u001b[49m\u001b[38;5;28;43mself\u001b[39;49m\u001b[43m,\u001b[49m\u001b[43m \u001b[49m\u001b[43mX\u001b[49m\u001b[43m,\u001b[49m\u001b[43m \u001b[49m\u001b[43mis_train\u001b[49m\u001b[38;5;241;43m=\u001b[39;49m\u001b[43mis_train\u001b[49m\u001b[43m)\u001b[49m\n",
      "File \u001b[0;32m~/opt/anaconda3/envs/fastcoref2/lib/python3.9/site-packages/thinc/layers/chain.py:54\u001b[0m, in \u001b[0;36mforward\u001b[0;34m(model, X, is_train)\u001b[0m\n\u001b[1;32m     53\u001b[0m \u001b[38;5;28;01mfor\u001b[39;00m layer \u001b[38;5;129;01min\u001b[39;00m model\u001b[38;5;241m.\u001b[39mlayers:\n\u001b[0;32m---> 54\u001b[0m     Y, inc_layer_grad \u001b[38;5;241m=\u001b[39m \u001b[43mlayer\u001b[49m\u001b[43m(\u001b[49m\u001b[43mX\u001b[49m\u001b[43m,\u001b[49m\u001b[43m \u001b[49m\u001b[43mis_train\u001b[49m\u001b[38;5;241;43m=\u001b[39;49m\u001b[43mis_train\u001b[49m\u001b[43m)\u001b[49m\n\u001b[1;32m     55\u001b[0m     callbacks\u001b[38;5;241m.\u001b[39mappend(inc_layer_grad)\n",
      "File \u001b[0;32m~/opt/anaconda3/envs/fastcoref2/lib/python3.9/site-packages/thinc/model.py:310\u001b[0m, in \u001b[0;36mModel.__call__\u001b[0;34m(self, X, is_train)\u001b[0m\n\u001b[1;32m    308\u001b[0m \u001b[38;5;250m\u001b[39m\u001b[38;5;124;03m\"\"\"Call the model's `forward` function, returning the output and a\u001b[39;00m\n\u001b[1;32m    309\u001b[0m \u001b[38;5;124;03mcallback to compute the gradients via backpropagation.\"\"\"\u001b[39;00m\n\u001b[0;32m--> 310\u001b[0m \u001b[38;5;28;01mreturn\u001b[39;00m \u001b[38;5;28;43mself\u001b[39;49m\u001b[38;5;241;43m.\u001b[39;49m\u001b[43m_func\u001b[49m\u001b[43m(\u001b[49m\u001b[38;5;28;43mself\u001b[39;49m\u001b[43m,\u001b[49m\u001b[43m \u001b[49m\u001b[43mX\u001b[49m\u001b[43m,\u001b[49m\u001b[43m \u001b[49m\u001b[43mis_train\u001b[49m\u001b[38;5;241;43m=\u001b[39;49m\u001b[43mis_train\u001b[49m\u001b[43m)\u001b[49m\n",
      "File \u001b[0;32m~/opt/anaconda3/envs/fastcoref2/lib/python3.9/site-packages/thinc/layers/hashembed.py:62\u001b[0m, in \u001b[0;36mforward\u001b[0;34m(model, ids, is_train)\u001b[0m\n\u001b[1;32m     59\u001b[0m \u001b[38;5;28;01mdef\u001b[39;00m \u001b[38;5;21mforward\u001b[39m(\n\u001b[1;32m     60\u001b[0m     model: Model[Ints1d, OutT], ids: Ints1d, is_train: \u001b[38;5;28mbool\u001b[39m\n\u001b[1;32m     61\u001b[0m ) \u001b[38;5;241m-\u001b[39m\u001b[38;5;241m>\u001b[39m Tuple[OutT, Callable]:\n\u001b[0;32m---> 62\u001b[0m     vectors \u001b[38;5;241m=\u001b[39m cast(Floats2d, \u001b[43mmodel\u001b[49m\u001b[38;5;241;43m.\u001b[39;49m\u001b[43mget_param\u001b[49m\u001b[43m(\u001b[49m\u001b[38;5;124;43m\"\u001b[39;49m\u001b[38;5;124;43mE\u001b[39;49m\u001b[38;5;124;43m\"\u001b[39;49m\u001b[43m)\u001b[49m)\n\u001b[1;32m     63\u001b[0m     nV \u001b[38;5;241m=\u001b[39m vectors\u001b[38;5;241m.\u001b[39mshape[\u001b[38;5;241m0\u001b[39m]\n",
      "File \u001b[0;32m~/opt/anaconda3/envs/fastcoref2/lib/python3.9/site-packages/thinc/model.py:235\u001b[0m, in \u001b[0;36mModel.get_param\u001b[0;34m(self, name)\u001b[0m\n\u001b[1;32m    234\u001b[0m \u001b[38;5;28;01mif\u001b[39;00m \u001b[38;5;129;01mnot\u001b[39;00m \u001b[38;5;28mself\u001b[39m\u001b[38;5;241m.\u001b[39m_params\u001b[38;5;241m.\u001b[39mhas_param(\u001b[38;5;28mself\u001b[39m\u001b[38;5;241m.\u001b[39mid, name):\n\u001b[0;32m--> 235\u001b[0m     \u001b[38;5;28;01mraise\u001b[39;00m \u001b[38;5;167;01mKeyError\u001b[39;00m(\n\u001b[1;32m    236\u001b[0m         \u001b[38;5;124mf\u001b[39m\u001b[38;5;124m\"\u001b[39m\u001b[38;5;124mParameter \u001b[39m\u001b[38;5;124m'\u001b[39m\u001b[38;5;132;01m{\u001b[39;00mname\u001b[38;5;132;01m}\u001b[39;00m\u001b[38;5;124m'\u001b[39m\u001b[38;5;124m for model \u001b[39m\u001b[38;5;124m'\u001b[39m\u001b[38;5;132;01m{\u001b[39;00m\u001b[38;5;28mself\u001b[39m\u001b[38;5;241m.\u001b[39mname\u001b[38;5;132;01m}\u001b[39;00m\u001b[38;5;124m'\u001b[39m\u001b[38;5;124m has not been allocated yet.\u001b[39m\u001b[38;5;124m\"\u001b[39m\n\u001b[1;32m    237\u001b[0m     )\n\u001b[1;32m    238\u001b[0m \u001b[38;5;28;01mreturn\u001b[39;00m \u001b[38;5;28mself\u001b[39m\u001b[38;5;241m.\u001b[39m_params\u001b[38;5;241m.\u001b[39mget_param(\u001b[38;5;28mself\u001b[39m\u001b[38;5;241m.\u001b[39mid, name)\n",
      "\u001b[0;31mKeyError\u001b[0m: \"Parameter 'E' for model 'hashembed' has not been allocated yet.\"",
      "\nThe above exception was the direct cause of the following exception:\n",
      "\u001b[0;31mValueError\u001b[0m                                Traceback (most recent call last)",
      "Cell \u001b[0;32mIn[8], line 1\u001b[0m\n\u001b[0;32m----> 1\u001b[0m doc \u001b[38;5;241m=\u001b[39m \u001b[43mnlp\u001b[49m\u001b[43m(\u001b[49m\u001b[43mtext\u001b[49m\u001b[43m)\u001b[49m\n",
      "File \u001b[0;32m~/opt/anaconda3/envs/fastcoref2/lib/python3.9/site-packages/spacy/language.py:1029\u001b[0m, in \u001b[0;36mLanguage.__call__\u001b[0;34m(self, text, disable, component_cfg)\u001b[0m\n\u001b[1;32m   1026\u001b[0m     doc \u001b[38;5;241m=\u001b[39m proc(doc, \u001b[38;5;241m*\u001b[39m\u001b[38;5;241m*\u001b[39mcomponent_cfg\u001b[38;5;241m.\u001b[39mget(name, {}))  \u001b[38;5;66;03m# type: ignore[call-arg]\u001b[39;00m\n\u001b[1;32m   1027\u001b[0m \u001b[38;5;28;01mexcept\u001b[39;00m \u001b[38;5;167;01mKeyError\u001b[39;00m \u001b[38;5;28;01mas\u001b[39;00m e:\n\u001b[1;32m   1028\u001b[0m     \u001b[38;5;66;03m# This typically happens if a component is not initialized\u001b[39;00m\n\u001b[0;32m-> 1029\u001b[0m     \u001b[38;5;28;01mraise\u001b[39;00m \u001b[38;5;167;01mValueError\u001b[39;00m(Errors\u001b[38;5;241m.\u001b[39mE109\u001b[38;5;241m.\u001b[39mformat(name\u001b[38;5;241m=\u001b[39mname)) \u001b[38;5;28;01mfrom\u001b[39;00m \u001b[38;5;21;01me\u001b[39;00m\n\u001b[1;32m   1030\u001b[0m \u001b[38;5;28;01mexcept\u001b[39;00m \u001b[38;5;167;01mException\u001b[39;00m \u001b[38;5;28;01mas\u001b[39;00m e:\n\u001b[1;32m   1031\u001b[0m     error_handler(name, proc, [doc], e)\n",
      "\u001b[0;31mValueError\u001b[0m: [E109] Component 'experimental_coref' could not be run. Did you forget to call `initialize()`?"
     ]
    }
   ],
   "source": [
    "doc = nlp(text)"
   ]
  },
  {
   "cell_type": "code",
   "execution_count": 28,
   "metadata": {},
   "outputs": [
    {
     "data": {
      "text/plain": [
       "When"
      ]
     },
     "execution_count": 28,
     "metadata": {},
     "output_type": "execute_result"
    }
   ],
   "source": [
    "doc.spans"
   ]
  },
  {
   "cell_type": "code",
   "execution_count": null,
   "metadata": {},
   "outputs": [],
   "source": [
    "print(doc._.coref_clusters)\n",
    "print(doc._.resolved_text)\n",
    "# > [[(0, 5), (39, 42), (79, 82)]]"
   ]
  },
  {
   "cell_type": "code",
   "execution_count": 14,
   "metadata": {},
   "outputs": [],
   "source": [
    "doc = nlp(      # for multiple texts use nlp.pipe\n",
    "   text, \n",
    "   component_cfg={\"fastcoref\": {'resolve_text': True}}\n",
    ")"
   ]
  },
  {
   "cell_type": "code",
   "execution_count": 15,
   "metadata": {},
   "outputs": [
    {
     "ename": "AttributeError",
     "evalue": "[E046] Can't retrieve unregistered extension attribute 'resolved_text'. Did you forget to call the `set_extension` method?",
     "output_type": "error",
     "traceback": [
      "\u001b[0;31m---------------------------------------------------------------------------\u001b[0m",
      "\u001b[0;31mAttributeError\u001b[0m                            Traceback (most recent call last)",
      "Cell \u001b[0;32mIn[15], line 1\u001b[0m\n\u001b[0;32m----> 1\u001b[0m \u001b[43mdoc\u001b[49m\u001b[38;5;241;43m.\u001b[39;49m\u001b[43m_\u001b[49m\u001b[38;5;241;43m.\u001b[39;49m\u001b[43mresolved_text\u001b[49m\n",
      "File \u001b[0;32m~/opt/anaconda3/envs/fastcoref2/lib/python3.9/site-packages/spacy/tokens/underscore.py:47\u001b[0m, in \u001b[0;36mUnderscore.__getattr__\u001b[0;34m(self, name)\u001b[0m\n\u001b[1;32m     45\u001b[0m \u001b[38;5;28;01mdef\u001b[39;00m \u001b[38;5;21m__getattr__\u001b[39m(\u001b[38;5;28mself\u001b[39m, name: \u001b[38;5;28mstr\u001b[39m) \u001b[38;5;241m-\u001b[39m\u001b[38;5;241m>\u001b[39m Any:\n\u001b[1;32m     46\u001b[0m     \u001b[38;5;28;01mif\u001b[39;00m name \u001b[38;5;129;01mnot\u001b[39;00m \u001b[38;5;129;01min\u001b[39;00m \u001b[38;5;28mself\u001b[39m\u001b[38;5;241m.\u001b[39m_extensions:\n\u001b[0;32m---> 47\u001b[0m         \u001b[38;5;28;01mraise\u001b[39;00m \u001b[38;5;167;01mAttributeError\u001b[39;00m(Errors\u001b[38;5;241m.\u001b[39mE046\u001b[38;5;241m.\u001b[39mformat(name\u001b[38;5;241m=\u001b[39mname))\n\u001b[1;32m     48\u001b[0m     default, method, getter, setter \u001b[38;5;241m=\u001b[39m \u001b[38;5;28mself\u001b[39m\u001b[38;5;241m.\u001b[39m_extensions[name]\n\u001b[1;32m     49\u001b[0m     \u001b[38;5;28;01mif\u001b[39;00m getter \u001b[38;5;129;01mis\u001b[39;00m \u001b[38;5;129;01mnot\u001b[39;00m \u001b[38;5;28;01mNone\u001b[39;00m:\n",
      "\u001b[0;31mAttributeError\u001b[0m: [E046] Can't retrieve unregistered extension attribute 'resolved_text'. Did you forget to call the `set_extension` method?"
     ]
    }
   ],
   "source": [
    "doc._.resolved_text"
   ]
  },
  {
   "cell_type": "code",
   "execution_count": 4,
   "metadata": {},
   "outputs": [],
   "source": [
    "# Load SpaCy's English model\n",
    "nlp = spacy.load('en_core_web_md')\n",
    "\n",
    "# Add neuralcoref to SpaCy's pipeline\n",
    "neuralcoref.add_to_pipe(nlp)"
   ]
  },
  {
   "cell_type": "code",
   "execution_count": null,
   "metadata": {},
   "outputs": [],
   "source": [
    "# Input text for coreference resolution\n",
    "text = \"John asked Mary to go out. She said she was busy. John was disappointed but understood.\""
   ]
  },
  {
   "cell_type": "code",
   "execution_count": 5,
   "metadata": {},
   "outputs": [],
   "source": [
    "text2 = \"Rihanna is basically master of the fashion universe right now, so we're naturally going to pay attention to what trends she is and isn't wearing whenever she steps out of the door (or black SUV). She's having quite the epic week, first presenting her Savage x Fenty lingerie runway show then hosting her annual Diamond Ball charity event last night. Rihanna was decked out in Givenchy for the big event, but upon arrival at the venue, she wore a T-shirt, diamonds (naturally), and a scarf, leather pants, and heels in fall's biggest color trend: pistachio green.\""
   ]
  },
  {
   "cell_type": "code",
   "execution_count": 11,
   "metadata": {},
   "outputs": [],
   "source": [
    "text3 = \"When Sebastian Thrun started working on self-driving cars at Google in 2007, few people outside of the company took him seriously.\""
   ]
  },
  {
   "cell_type": "code",
   "execution_count": 12,
   "metadata": {},
   "outputs": [],
   "source": [
    "# Process the text with SpaCy\n",
    "doc = nlp(text3)"
   ]
  },
  {
   "cell_type": "markdown",
   "metadata": {},
   "source": [
    "### Coreference Resolution"
   ]
  },
  {
   "cell_type": "code",
   "execution_count": 13,
   "metadata": {},
   "outputs": [
    {
     "name": "stdout",
     "output_type": "stream",
     "text": [
      "Sebastian Thrun\n",
      "1\n",
      "3\n",
      "him\n",
      "22\n",
      "23\n",
      "Google\n",
      "11\n",
      "12\n",
      "the company\n",
      "19\n",
      "21\n"
     ]
    }
   ],
   "source": [
    "for cluster in doc._.coref_clusters:\n",
    "    for reference in cluster:\n",
    "    #each of these is a Span object in Spacy\n",
    "        print(reference)\n",
    "        #starting index of this reference in the text\n",
    "        print(reference.start) \n",
    "        #ending index of this reference in the text\n",
    "        print(reference.end)"
   ]
  },
  {
   "cell_type": "code",
   "execution_count": 14,
   "metadata": {},
   "outputs": [
    {
     "name": "stdout",
     "output_type": "stream",
     "text": [
      "Coreference cluster: Sebastian Thrun: [Sebastian Thrun, him]\n",
      "Coreference cluster: Google: [Google, the company]\n"
     ]
    }
   ],
   "source": [
    "# Print coreference clusters\n",
    "if doc._.has_coref:\n",
    "    for cluster in doc._.coref_clusters:\n",
    "        print(f\"Coreference cluster: {cluster}\")"
   ]
  },
  {
   "cell_type": "code",
   "execution_count": 16,
   "metadata": {},
   "outputs": [
    {
     "name": "stdout",
     "output_type": "stream",
     "text": [
      "Resolved document:\n",
      "When Sebastian Thrun started working on self-driving cars at Google in 2007, few people outside of Google took Sebastian Thrun seriously.\n"
     ]
    }
   ],
   "source": [
    "# Print the resolved text\n",
    "resolved_doc = doc._.coref_resolved\n",
    "print(\"Resolved document:\")\n",
    "print(resolved_doc)"
   ]
  },
  {
   "cell_type": "markdown",
   "metadata": {},
   "source": [
    "### NER"
   ]
  },
  {
   "cell_type": "code",
   "execution_count": 18,
   "metadata": {},
   "outputs": [
    {
     "name": "stdout",
     "output_type": "stream",
     "text": [
      "Sebastian Thrun(PERSON)\n",
      "Google(ORG)\n",
      "2007(DATE)\n"
     ]
    }
   ],
   "source": [
    "for entity in doc.ents : \n",
    "    print(f\"{entity.text}({entity.label_})\")"
   ]
  },
  {
   "cell_type": "code",
   "execution_count": 20,
   "metadata": {},
   "outputs": [
    {
     "data": {
      "text/html": [
       "<div class=\"entities\" style=\"line-height: 2.5; direction: ltr\">When \n",
       "<mark class=\"entity\" style=\"background: #aa9cfc; padding: 0.45em 0.6em; margin: 0 0.25em; line-height: 1; border-radius: 0.35em; box-decoration-break: clone; -webkit-box-decoration-break: clone\">\n",
       "    Sebastian Thrun\n",
       "    <span style=\"font-size: 0.8em; font-weight: bold; line-height: 1; border-radius: 0.35em; text-transform: uppercase; vertical-align: middle; margin-left: 0.5rem\">PERSON</span>\n",
       "</mark>\n",
       " started working on self-driving cars at \n",
       "<mark class=\"entity\" style=\"background: #7aecec; padding: 0.45em 0.6em; margin: 0 0.25em; line-height: 1; border-radius: 0.35em; box-decoration-break: clone; -webkit-box-decoration-break: clone\">\n",
       "    Google\n",
       "    <span style=\"font-size: 0.8em; font-weight: bold; line-height: 1; border-radius: 0.35em; text-transform: uppercase; vertical-align: middle; margin-left: 0.5rem\">ORG</span>\n",
       "</mark>\n",
       " in \n",
       "<mark class=\"entity\" style=\"background: #bfe1d9; padding: 0.45em 0.6em; margin: 0 0.25em; line-height: 1; border-radius: 0.35em; box-decoration-break: clone; -webkit-box-decoration-break: clone\">\n",
       "    2007\n",
       "    <span style=\"font-size: 0.8em; font-weight: bold; line-height: 1; border-radius: 0.35em; text-transform: uppercase; vertical-align: middle; margin-left: 0.5rem\">DATE</span>\n",
       "</mark>\n",
       ", few people outside of the company took him seriously.</div>"
      ],
      "text/plain": [
       "<IPython.core.display.HTML object>"
      ]
     },
     "metadata": {},
     "output_type": "display_data"
    }
   ],
   "source": [
    "displacy.render(doc, style=\"ent\")"
   ]
  }
 ],
 "metadata": {
  "kernelspec": {
   "display_name": "hanhwa",
   "language": "python",
   "name": "python3"
  },
  "language_info": {
   "codemirror_mode": {
    "name": "ipython",
    "version": 3
   },
   "file_extension": ".py",
   "mimetype": "text/x-python",
   "name": "python",
   "nbconvert_exporter": "python",
   "pygments_lexer": "ipython3",
   "version": "3.9.19"
  }
 },
 "nbformat": 4,
 "nbformat_minor": 2
}
