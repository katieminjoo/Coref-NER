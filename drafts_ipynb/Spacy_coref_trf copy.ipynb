{
 "cells": [
  {
   "cell_type": "markdown",
   "metadata": {},
   "source": [
    "### Coreference Resolution & NER\n",
    "* Spacy itself (en_coreference_web_trf)"
   ]
  },
  {
   "cell_type": "code",
   "execution_count": 8,
   "metadata": {},
   "outputs": [
    {
     "name": "stdout",
     "output_type": "stream",
     "text": [
      "huggingface/tokenizers: The current process just got forked, after parallelism has already been used. Disabling parallelism to avoid deadlocks...\n",
      "To disable this warning, you can either:\n",
      "\t- Avoid using `tokenizers` before the fork if possible\n",
      "\t- Explicitly set the environment variable TOKENIZERS_PARALLELISM=(true | false)\n"
     ]
    }
   ],
   "source": [
    "!pip freeze > requirements.txt"
   ]
  },
  {
   "cell_type": "code",
   "execution_count": null,
   "metadata": {},
   "outputs": [],
   "source": [
    "# my environment (fc)\n",
    "\n",
    "# Python == 3.9.19\n",
    "# spacy == 3.7.6 (Latest)\n",
    "# spacy-transformers == 1.3.5"
   ]
  },
  {
   "cell_type": "code",
   "execution_count": 7,
   "metadata": {},
   "outputs": [
    {
     "name": "stdout",
     "output_type": "stream",
     "text": [
      "Collecting en-coreference-web-trf==3.4.0a0\n",
      "  Downloading https://github.com/explosion/spacy-experimental/releases/download/v0.6.0/en_coreference_web_trf-3.4.0a0-py3-none-any.whl (490.3 MB)\n",
      "\u001b[2K     \u001b[90m━━━━━━━━━━━━━━━━━━━━━━━━━━━━━━━━━━━━━━━\u001b[0m \u001b[32m490.3/490.3 MB\u001b[0m \u001b[31m5.6 MB/s\u001b[0m eta \u001b[36m0:00:00\u001b[0m00:01\u001b[0m00:03\u001b[0m\n",
      "\u001b[?25hRequirement already satisfied: spacy<3.5.0,>=3.3.0 in /Users/minjoo/opt/anaconda3/envs/ner/lib/python3.9/site-packages (from en-coreference-web-trf==3.4.0a0) (3.4.4)\n",
      "Requirement already satisfied: spacy-transformers<1.2.0,>=1.1.2 in /Users/minjoo/opt/anaconda3/envs/ner/lib/python3.9/site-packages (from en-coreference-web-trf==3.4.0a0) (1.1.9)\n",
      "Requirement already satisfied: spacy-experimental<0.7.0,>=0.6.0 in /Users/minjoo/opt/anaconda3/envs/ner/lib/python3.9/site-packages (from en-coreference-web-trf==3.4.0a0) (0.6.4)\n",
      "Requirement already satisfied: spacy-legacy<3.1.0,>=3.0.10 in /Users/minjoo/opt/anaconda3/envs/ner/lib/python3.9/site-packages (from spacy<3.5.0,>=3.3.0->en-coreference-web-trf==3.4.0a0) (3.0.12)\n",
      "Requirement already satisfied: spacy-loggers<2.0.0,>=1.0.0 in /Users/minjoo/opt/anaconda3/envs/ner/lib/python3.9/site-packages (from spacy<3.5.0,>=3.3.0->en-coreference-web-trf==3.4.0a0) (1.0.5)\n",
      "Requirement already satisfied: murmurhash<1.1.0,>=0.28.0 in /Users/minjoo/opt/anaconda3/envs/ner/lib/python3.9/site-packages (from spacy<3.5.0,>=3.3.0->en-coreference-web-trf==3.4.0a0) (1.0.10)\n",
      "Requirement already satisfied: cymem<2.1.0,>=2.0.2 in /Users/minjoo/opt/anaconda3/envs/ner/lib/python3.9/site-packages (from spacy<3.5.0,>=3.3.0->en-coreference-web-trf==3.4.0a0) (2.0.8)\n",
      "Requirement already satisfied: preshed<3.1.0,>=3.0.2 in /Users/minjoo/opt/anaconda3/envs/ner/lib/python3.9/site-packages (from spacy<3.5.0,>=3.3.0->en-coreference-web-trf==3.4.0a0) (3.0.9)\n",
      "Requirement already satisfied: thinc<8.2.0,>=8.1.0 in /Users/minjoo/opt/anaconda3/envs/ner/lib/python3.9/site-packages (from spacy<3.5.0,>=3.3.0->en-coreference-web-trf==3.4.0a0) (8.1.12)\n",
      "Requirement already satisfied: wasabi<1.1.0,>=0.9.1 in /Users/minjoo/opt/anaconda3/envs/ner/lib/python3.9/site-packages (from spacy<3.5.0,>=3.3.0->en-coreference-web-trf==3.4.0a0) (0.10.1)\n",
      "Requirement already satisfied: srsly<3.0.0,>=2.4.3 in /Users/minjoo/opt/anaconda3/envs/ner/lib/python3.9/site-packages (from spacy<3.5.0,>=3.3.0->en-coreference-web-trf==3.4.0a0) (2.4.8)\n",
      "Requirement already satisfied: catalogue<2.1.0,>=2.0.6 in /Users/minjoo/opt/anaconda3/envs/ner/lib/python3.9/site-packages (from spacy<3.5.0,>=3.3.0->en-coreference-web-trf==3.4.0a0) (2.0.10)\n",
      "Requirement already satisfied: typer<0.8.0,>=0.3.0 in /Users/minjoo/opt/anaconda3/envs/ner/lib/python3.9/site-packages (from spacy<3.5.0,>=3.3.0->en-coreference-web-trf==3.4.0a0) (0.7.0)\n",
      "Requirement already satisfied: pathy>=0.3.5 in /Users/minjoo/opt/anaconda3/envs/ner/lib/python3.9/site-packages (from spacy<3.5.0,>=3.3.0->en-coreference-web-trf==3.4.0a0) (0.11.0)\n",
      "Requirement already satisfied: smart-open<7.0.0,>=5.2.1 in /Users/minjoo/opt/anaconda3/envs/ner/lib/python3.9/site-packages (from spacy<3.5.0,>=3.3.0->en-coreference-web-trf==3.4.0a0) (6.4.0)\n",
      "Requirement already satisfied: tqdm<5.0.0,>=4.38.0 in /Users/minjoo/opt/anaconda3/envs/ner/lib/python3.9/site-packages (from spacy<3.5.0,>=3.3.0->en-coreference-web-trf==3.4.0a0) (4.66.5)\n",
      "Requirement already satisfied: numpy>=1.15.0 in /Users/minjoo/opt/anaconda3/envs/ner/lib/python3.9/site-packages (from spacy<3.5.0,>=3.3.0->en-coreference-web-trf==3.4.0a0) (1.26.4)\n",
      "Requirement already satisfied: requests<3.0.0,>=2.13.0 in /Users/minjoo/opt/anaconda3/envs/ner/lib/python3.9/site-packages (from spacy<3.5.0,>=3.3.0->en-coreference-web-trf==3.4.0a0) (2.32.3)\n",
      "Requirement already satisfied: pydantic!=1.8,!=1.8.1,<1.11.0,>=1.7.4 in /Users/minjoo/opt/anaconda3/envs/ner/lib/python3.9/site-packages (from spacy<3.5.0,>=3.3.0->en-coreference-web-trf==3.4.0a0) (1.10.18)\n",
      "Requirement already satisfied: jinja2 in /Users/minjoo/opt/anaconda3/envs/ner/lib/python3.9/site-packages (from spacy<3.5.0,>=3.3.0->en-coreference-web-trf==3.4.0a0) (3.1.4)\n",
      "Requirement already satisfied: setuptools in /Users/minjoo/opt/anaconda3/envs/ner/lib/python3.9/site-packages (from spacy<3.5.0,>=3.3.0->en-coreference-web-trf==3.4.0a0) (72.1.0)\n",
      "Requirement already satisfied: packaging>=20.0 in /Users/minjoo/opt/anaconda3/envs/ner/lib/python3.9/site-packages (from spacy<3.5.0,>=3.3.0->en-coreference-web-trf==3.4.0a0) (24.1)\n",
      "Requirement already satisfied: langcodes<4.0.0,>=3.2.0 in /Users/minjoo/opt/anaconda3/envs/ner/lib/python3.9/site-packages (from spacy<3.5.0,>=3.3.0->en-coreference-web-trf==3.4.0a0) (3.4.0)\n",
      "Requirement already satisfied: transformers<4.26.0,>=3.4.0 in /Users/minjoo/opt/anaconda3/envs/ner/lib/python3.9/site-packages (from spacy-transformers<1.2.0,>=1.1.2->en-coreference-web-trf==3.4.0a0) (4.25.1)\n",
      "Requirement already satisfied: torch>=1.6.0 in /Users/minjoo/opt/anaconda3/envs/ner/lib/python3.9/site-packages (from spacy-transformers<1.2.0,>=1.1.2->en-coreference-web-trf==3.4.0a0) (2.2.2)\n",
      "Requirement already satisfied: spacy-alignments<1.0.0,>=0.7.2 in /Users/minjoo/opt/anaconda3/envs/ner/lib/python3.9/site-packages (from spacy-transformers<1.2.0,>=1.1.2->en-coreference-web-trf==3.4.0a0) (0.9.1)\n",
      "Requirement already satisfied: language-data>=1.2 in /Users/minjoo/opt/anaconda3/envs/ner/lib/python3.9/site-packages (from langcodes<4.0.0,>=3.2.0->spacy<3.5.0,>=3.3.0->en-coreference-web-trf==3.4.0a0) (1.2.0)\n",
      "Requirement already satisfied: pathlib-abc==0.1.1 in /Users/minjoo/opt/anaconda3/envs/ner/lib/python3.9/site-packages (from pathy>=0.3.5->spacy<3.5.0,>=3.3.0->en-coreference-web-trf==3.4.0a0) (0.1.1)\n",
      "Requirement already satisfied: typing-extensions>=4.2.0 in /Users/minjoo/opt/anaconda3/envs/ner/lib/python3.9/site-packages (from pydantic!=1.8,!=1.8.1,<1.11.0,>=1.7.4->spacy<3.5.0,>=3.3.0->en-coreference-web-trf==3.4.0a0) (4.12.2)\n",
      "Requirement already satisfied: charset-normalizer<4,>=2 in /Users/minjoo/opt/anaconda3/envs/ner/lib/python3.9/site-packages (from requests<3.0.0,>=2.13.0->spacy<3.5.0,>=3.3.0->en-coreference-web-trf==3.4.0a0) (3.3.2)\n",
      "Requirement already satisfied: idna<4,>=2.5 in /Users/minjoo/opt/anaconda3/envs/ner/lib/python3.9/site-packages (from requests<3.0.0,>=2.13.0->spacy<3.5.0,>=3.3.0->en-coreference-web-trf==3.4.0a0) (3.9)\n",
      "Requirement already satisfied: urllib3<3,>=1.21.1 in /Users/minjoo/opt/anaconda3/envs/ner/lib/python3.9/site-packages (from requests<3.0.0,>=2.13.0->spacy<3.5.0,>=3.3.0->en-coreference-web-trf==3.4.0a0) (2.2.3)\n",
      "Requirement already satisfied: certifi>=2017.4.17 in /Users/minjoo/opt/anaconda3/envs/ner/lib/python3.9/site-packages (from requests<3.0.0,>=2.13.0->spacy<3.5.0,>=3.3.0->en-coreference-web-trf==3.4.0a0) (2024.8.30)\n",
      "Requirement already satisfied: blis<0.8.0,>=0.7.8 in /Users/minjoo/opt/anaconda3/envs/ner/lib/python3.9/site-packages (from thinc<8.2.0,>=8.1.0->spacy<3.5.0,>=3.3.0->en-coreference-web-trf==3.4.0a0) (0.7.11)\n",
      "Requirement already satisfied: confection<1.0.0,>=0.0.1 in /Users/minjoo/opt/anaconda3/envs/ner/lib/python3.9/site-packages (from thinc<8.2.0,>=8.1.0->spacy<3.5.0,>=3.3.0->en-coreference-web-trf==3.4.0a0) (0.1.5)\n",
      "Requirement already satisfied: filelock in /Users/minjoo/opt/anaconda3/envs/ner/lib/python3.9/site-packages (from torch>=1.6.0->spacy-transformers<1.2.0,>=1.1.2->en-coreference-web-trf==3.4.0a0) (3.16.0)\n",
      "Requirement already satisfied: sympy in /Users/minjoo/opt/anaconda3/envs/ner/lib/python3.9/site-packages (from torch>=1.6.0->spacy-transformers<1.2.0,>=1.1.2->en-coreference-web-trf==3.4.0a0) (1.13.2)\n",
      "Requirement already satisfied: networkx in /Users/minjoo/opt/anaconda3/envs/ner/lib/python3.9/site-packages (from torch>=1.6.0->spacy-transformers<1.2.0,>=1.1.2->en-coreference-web-trf==3.4.0a0) (3.2.1)\n",
      "Requirement already satisfied: fsspec in /Users/minjoo/opt/anaconda3/envs/ner/lib/python3.9/site-packages (from torch>=1.6.0->spacy-transformers<1.2.0,>=1.1.2->en-coreference-web-trf==3.4.0a0) (2024.9.0)\n",
      "Requirement already satisfied: huggingface-hub<1.0,>=0.10.0 in /Users/minjoo/opt/anaconda3/envs/ner/lib/python3.9/site-packages (from transformers<4.26.0,>=3.4.0->spacy-transformers<1.2.0,>=1.1.2->en-coreference-web-trf==3.4.0a0) (0.24.7)\n",
      "Requirement already satisfied: pyyaml>=5.1 in /Users/minjoo/opt/anaconda3/envs/ner/lib/python3.9/site-packages (from transformers<4.26.0,>=3.4.0->spacy-transformers<1.2.0,>=1.1.2->en-coreference-web-trf==3.4.0a0) (6.0.2)\n",
      "Requirement already satisfied: regex!=2019.12.17 in /Users/minjoo/opt/anaconda3/envs/ner/lib/python3.9/site-packages (from transformers<4.26.0,>=3.4.0->spacy-transformers<1.2.0,>=1.1.2->en-coreference-web-trf==3.4.0a0) (2024.9.11)\n",
      "Requirement already satisfied: tokenizers!=0.11.3,<0.14,>=0.11.1 in /Users/minjoo/opt/anaconda3/envs/ner/lib/python3.9/site-packages (from transformers<4.26.0,>=3.4.0->spacy-transformers<1.2.0,>=1.1.2->en-coreference-web-trf==3.4.0a0) (0.13.3)\n",
      "Requirement already satisfied: click<9.0.0,>=7.1.1 in /Users/minjoo/opt/anaconda3/envs/ner/lib/python3.9/site-packages (from typer<0.8.0,>=0.3.0->spacy<3.5.0,>=3.3.0->en-coreference-web-trf==3.4.0a0) (8.1.7)\n",
      "Requirement already satisfied: MarkupSafe>=2.0 in /Users/minjoo/opt/anaconda3/envs/ner/lib/python3.9/site-packages (from jinja2->spacy<3.5.0,>=3.3.0->en-coreference-web-trf==3.4.0a0) (2.1.5)\n",
      "Requirement already satisfied: marisa-trie>=0.7.7 in /Users/minjoo/opt/anaconda3/envs/ner/lib/python3.9/site-packages (from language-data>=1.2->langcodes<4.0.0,>=3.2.0->spacy<3.5.0,>=3.3.0->en-coreference-web-trf==3.4.0a0) (1.2.0)\n",
      "Requirement already satisfied: mpmath<1.4,>=1.1.0 in /Users/minjoo/opt/anaconda3/envs/ner/lib/python3.9/site-packages (from sympy->torch>=1.6.0->spacy-transformers<1.2.0,>=1.1.2->en-coreference-web-trf==3.4.0a0) (1.3.0)\n"
     ]
    }
   ],
   "source": [
    "!pip install https://github.com/explosion/spacy-experimental/releases/download/v0.6.0/en_coreference_web_trf-3.4.0a0-py3-none-any.whl#egg=en_coreference_web_trf"
   ]
  },
  {
   "cell_type": "code",
   "execution_count": 8,
   "metadata": {},
   "outputs": [
    {
     "name": "stdout",
     "output_type": "stream",
     "text": [
      "Collecting spacy-experimental==0.6.0\n",
      "  Downloading spacy_experimental-0.6.0-cp39-cp39-macosx_10_9_x86_64.whl.metadata (12 kB)\n",
      "Requirement already satisfied: spacy<3.5.0,>=3.3.0 in /Users/minjoo/opt/anaconda3/envs/ner/lib/python3.9/site-packages (from spacy-experimental==0.6.0) (3.4.4)\n",
      "Requirement already satisfied: spacy-legacy<3.1.0,>=3.0.10 in /Users/minjoo/opt/anaconda3/envs/ner/lib/python3.9/site-packages (from spacy<3.5.0,>=3.3.0->spacy-experimental==0.6.0) (3.0.12)\n",
      "Requirement already satisfied: spacy-loggers<2.0.0,>=1.0.0 in /Users/minjoo/opt/anaconda3/envs/ner/lib/python3.9/site-packages (from spacy<3.5.0,>=3.3.0->spacy-experimental==0.6.0) (1.0.5)\n",
      "Requirement already satisfied: murmurhash<1.1.0,>=0.28.0 in /Users/minjoo/opt/anaconda3/envs/ner/lib/python3.9/site-packages (from spacy<3.5.0,>=3.3.0->spacy-experimental==0.6.0) (1.0.10)\n",
      "Requirement already satisfied: cymem<2.1.0,>=2.0.2 in /Users/minjoo/opt/anaconda3/envs/ner/lib/python3.9/site-packages (from spacy<3.5.0,>=3.3.0->spacy-experimental==0.6.0) (2.0.8)\n",
      "Requirement already satisfied: preshed<3.1.0,>=3.0.2 in /Users/minjoo/opt/anaconda3/envs/ner/lib/python3.9/site-packages (from spacy<3.5.0,>=3.3.0->spacy-experimental==0.6.0) (3.0.9)\n",
      "Requirement already satisfied: thinc<8.2.0,>=8.1.0 in /Users/minjoo/opt/anaconda3/envs/ner/lib/python3.9/site-packages (from spacy<3.5.0,>=3.3.0->spacy-experimental==0.6.0) (8.1.12)\n",
      "Requirement already satisfied: wasabi<1.1.0,>=0.9.1 in /Users/minjoo/opt/anaconda3/envs/ner/lib/python3.9/site-packages (from spacy<3.5.0,>=3.3.0->spacy-experimental==0.6.0) (0.10.1)\n",
      "Requirement already satisfied: srsly<3.0.0,>=2.4.3 in /Users/minjoo/opt/anaconda3/envs/ner/lib/python3.9/site-packages (from spacy<3.5.0,>=3.3.0->spacy-experimental==0.6.0) (2.4.8)\n",
      "Requirement already satisfied: catalogue<2.1.0,>=2.0.6 in /Users/minjoo/opt/anaconda3/envs/ner/lib/python3.9/site-packages (from spacy<3.5.0,>=3.3.0->spacy-experimental==0.6.0) (2.0.10)\n",
      "Requirement already satisfied: typer<0.8.0,>=0.3.0 in /Users/minjoo/opt/anaconda3/envs/ner/lib/python3.9/site-packages (from spacy<3.5.0,>=3.3.0->spacy-experimental==0.6.0) (0.7.0)\n",
      "Requirement already satisfied: pathy>=0.3.5 in /Users/minjoo/opt/anaconda3/envs/ner/lib/python3.9/site-packages (from spacy<3.5.0,>=3.3.0->spacy-experimental==0.6.0) (0.11.0)\n",
      "Requirement already satisfied: smart-open<7.0.0,>=5.2.1 in /Users/minjoo/opt/anaconda3/envs/ner/lib/python3.9/site-packages (from spacy<3.5.0,>=3.3.0->spacy-experimental==0.6.0) (6.4.0)\n",
      "Requirement already satisfied: tqdm<5.0.0,>=4.38.0 in /Users/minjoo/opt/anaconda3/envs/ner/lib/python3.9/site-packages (from spacy<3.5.0,>=3.3.0->spacy-experimental==0.6.0) (4.66.5)\n",
      "Requirement already satisfied: numpy>=1.15.0 in /Users/minjoo/opt/anaconda3/envs/ner/lib/python3.9/site-packages (from spacy<3.5.0,>=3.3.0->spacy-experimental==0.6.0) (1.26.4)\n",
      "Requirement already satisfied: requests<3.0.0,>=2.13.0 in /Users/minjoo/opt/anaconda3/envs/ner/lib/python3.9/site-packages (from spacy<3.5.0,>=3.3.0->spacy-experimental==0.6.0) (2.32.3)\n",
      "Requirement already satisfied: pydantic!=1.8,!=1.8.1,<1.11.0,>=1.7.4 in /Users/minjoo/opt/anaconda3/envs/ner/lib/python3.9/site-packages (from spacy<3.5.0,>=3.3.0->spacy-experimental==0.6.0) (1.10.18)\n",
      "Requirement already satisfied: jinja2 in /Users/minjoo/opt/anaconda3/envs/ner/lib/python3.9/site-packages (from spacy<3.5.0,>=3.3.0->spacy-experimental==0.6.0) (3.1.4)\n",
      "Requirement already satisfied: setuptools in /Users/minjoo/opt/anaconda3/envs/ner/lib/python3.9/site-packages (from spacy<3.5.0,>=3.3.0->spacy-experimental==0.6.0) (72.1.0)\n",
      "Requirement already satisfied: packaging>=20.0 in /Users/minjoo/opt/anaconda3/envs/ner/lib/python3.9/site-packages (from spacy<3.5.0,>=3.3.0->spacy-experimental==0.6.0) (24.1)\n",
      "Requirement already satisfied: langcodes<4.0.0,>=3.2.0 in /Users/minjoo/opt/anaconda3/envs/ner/lib/python3.9/site-packages (from spacy<3.5.0,>=3.3.0->spacy-experimental==0.6.0) (3.4.0)\n",
      "Requirement already satisfied: language-data>=1.2 in /Users/minjoo/opt/anaconda3/envs/ner/lib/python3.9/site-packages (from langcodes<4.0.0,>=3.2.0->spacy<3.5.0,>=3.3.0->spacy-experimental==0.6.0) (1.2.0)\n",
      "Requirement already satisfied: pathlib-abc==0.1.1 in /Users/minjoo/opt/anaconda3/envs/ner/lib/python3.9/site-packages (from pathy>=0.3.5->spacy<3.5.0,>=3.3.0->spacy-experimental==0.6.0) (0.1.1)\n",
      "Requirement already satisfied: typing-extensions>=4.2.0 in /Users/minjoo/opt/anaconda3/envs/ner/lib/python3.9/site-packages (from pydantic!=1.8,!=1.8.1,<1.11.0,>=1.7.4->spacy<3.5.0,>=3.3.0->spacy-experimental==0.6.0) (4.12.2)\n",
      "Requirement already satisfied: charset-normalizer<4,>=2 in /Users/minjoo/opt/anaconda3/envs/ner/lib/python3.9/site-packages (from requests<3.0.0,>=2.13.0->spacy<3.5.0,>=3.3.0->spacy-experimental==0.6.0) (3.3.2)\n",
      "Requirement already satisfied: idna<4,>=2.5 in /Users/minjoo/opt/anaconda3/envs/ner/lib/python3.9/site-packages (from requests<3.0.0,>=2.13.0->spacy<3.5.0,>=3.3.0->spacy-experimental==0.6.0) (3.9)\n",
      "Requirement already satisfied: urllib3<3,>=1.21.1 in /Users/minjoo/opt/anaconda3/envs/ner/lib/python3.9/site-packages (from requests<3.0.0,>=2.13.0->spacy<3.5.0,>=3.3.0->spacy-experimental==0.6.0) (2.2.3)\n",
      "Requirement already satisfied: certifi>=2017.4.17 in /Users/minjoo/opt/anaconda3/envs/ner/lib/python3.9/site-packages (from requests<3.0.0,>=2.13.0->spacy<3.5.0,>=3.3.0->spacy-experimental==0.6.0) (2024.8.30)\n",
      "Requirement already satisfied: blis<0.8.0,>=0.7.8 in /Users/minjoo/opt/anaconda3/envs/ner/lib/python3.9/site-packages (from thinc<8.2.0,>=8.1.0->spacy<3.5.0,>=3.3.0->spacy-experimental==0.6.0) (0.7.11)\n",
      "Requirement already satisfied: confection<1.0.0,>=0.0.1 in /Users/minjoo/opt/anaconda3/envs/ner/lib/python3.9/site-packages (from thinc<8.2.0,>=8.1.0->spacy<3.5.0,>=3.3.0->spacy-experimental==0.6.0) (0.1.5)\n",
      "Requirement already satisfied: click<9.0.0,>=7.1.1 in /Users/minjoo/opt/anaconda3/envs/ner/lib/python3.9/site-packages (from typer<0.8.0,>=0.3.0->spacy<3.5.0,>=3.3.0->spacy-experimental==0.6.0) (8.1.7)\n",
      "Requirement already satisfied: MarkupSafe>=2.0 in /Users/minjoo/opt/anaconda3/envs/ner/lib/python3.9/site-packages (from jinja2->spacy<3.5.0,>=3.3.0->spacy-experimental==0.6.0) (2.1.5)\n",
      "Requirement already satisfied: marisa-trie>=0.7.7 in /Users/minjoo/opt/anaconda3/envs/ner/lib/python3.9/site-packages (from language-data>=1.2->langcodes<4.0.0,>=3.2.0->spacy<3.5.0,>=3.3.0->spacy-experimental==0.6.0) (1.2.0)\n",
      "Downloading spacy_experimental-0.6.0-cp39-cp39-macosx_10_9_x86_64.whl (740 kB)\n",
      "\u001b[2K   \u001b[90m━━━━━━━━━━━━━━━━━━━━━━━━━━━━━━━━━━━━━━━━\u001b[0m \u001b[32m740.8/740.8 kB\u001b[0m \u001b[31m5.0 MB/s\u001b[0m eta \u001b[36m0:00:00\u001b[0m\n",
      "\u001b[?25hInstalling collected packages: spacy-experimental\n",
      "  Attempting uninstall: spacy-experimental\n",
      "    Found existing installation: spacy-experimental 0.6.4\n",
      "    Uninstalling spacy-experimental-0.6.4:\n",
      "      Successfully uninstalled spacy-experimental-0.6.4\n",
      "Successfully installed spacy-experimental-0.6.0\n"
     ]
    }
   ],
   "source": [
    "!pip install spacy-experimental==0.6.0"
   ]
  },
  {
   "cell_type": "code",
   "execution_count": 13,
   "metadata": {},
   "outputs": [
    {
     "name": "stdout",
     "output_type": "stream",
     "text": [
      "Requirement already satisfied: spacy-transformers in /Users/minjoo/opt/anaconda3/envs/ner/lib/python3.9/site-packages (1.1.9)\n",
      "Requirement already satisfied: spacy<4.0.0,>=3.4.0 in /Users/minjoo/opt/anaconda3/envs/ner/lib/python3.9/site-packages (from spacy-transformers) (3.4.4)\n",
      "Requirement already satisfied: transformers<4.26.0,>=3.4.0 in /Users/minjoo/opt/anaconda3/envs/ner/lib/python3.9/site-packages (from spacy-transformers) (4.25.1)\n",
      "Requirement already satisfied: torch>=1.6.0 in /Users/minjoo/opt/anaconda3/envs/ner/lib/python3.9/site-packages (from spacy-transformers) (2.2.2)\n",
      "Requirement already satisfied: srsly<3.0.0,>=2.4.0 in /Users/minjoo/opt/anaconda3/envs/ner/lib/python3.9/site-packages (from spacy-transformers) (2.4.8)\n",
      "Requirement already satisfied: spacy-alignments<1.0.0,>=0.7.2 in /Users/minjoo/opt/anaconda3/envs/ner/lib/python3.9/site-packages (from spacy-transformers) (0.9.1)\n",
      "Requirement already satisfied: spacy-legacy<3.1.0,>=3.0.10 in /Users/minjoo/opt/anaconda3/envs/ner/lib/python3.9/site-packages (from spacy<4.0.0,>=3.4.0->spacy-transformers) (3.0.12)\n",
      "Requirement already satisfied: spacy-loggers<2.0.0,>=1.0.0 in /Users/minjoo/opt/anaconda3/envs/ner/lib/python3.9/site-packages (from spacy<4.0.0,>=3.4.0->spacy-transformers) (1.0.5)\n",
      "Requirement already satisfied: murmurhash<1.1.0,>=0.28.0 in /Users/minjoo/opt/anaconda3/envs/ner/lib/python3.9/site-packages (from spacy<4.0.0,>=3.4.0->spacy-transformers) (1.0.10)\n",
      "Requirement already satisfied: cymem<2.1.0,>=2.0.2 in /Users/minjoo/opt/anaconda3/envs/ner/lib/python3.9/site-packages (from spacy<4.0.0,>=3.4.0->spacy-transformers) (2.0.8)\n",
      "Requirement already satisfied: preshed<3.1.0,>=3.0.2 in /Users/minjoo/opt/anaconda3/envs/ner/lib/python3.9/site-packages (from spacy<4.0.0,>=3.4.0->spacy-transformers) (3.0.9)\n",
      "Requirement already satisfied: thinc<8.2.0,>=8.1.0 in /Users/minjoo/opt/anaconda3/envs/ner/lib/python3.9/site-packages (from spacy<4.0.0,>=3.4.0->spacy-transformers) (8.1.12)\n",
      "Requirement already satisfied: wasabi<1.1.0,>=0.9.1 in /Users/minjoo/opt/anaconda3/envs/ner/lib/python3.9/site-packages (from spacy<4.0.0,>=3.4.0->spacy-transformers) (0.10.1)\n",
      "Requirement already satisfied: catalogue<2.1.0,>=2.0.6 in /Users/minjoo/opt/anaconda3/envs/ner/lib/python3.9/site-packages (from spacy<4.0.0,>=3.4.0->spacy-transformers) (2.0.10)\n",
      "Requirement already satisfied: typer<0.8.0,>=0.3.0 in /Users/minjoo/opt/anaconda3/envs/ner/lib/python3.9/site-packages (from spacy<4.0.0,>=3.4.0->spacy-transformers) (0.7.0)\n",
      "Requirement already satisfied: pathy>=0.3.5 in /Users/minjoo/opt/anaconda3/envs/ner/lib/python3.9/site-packages (from spacy<4.0.0,>=3.4.0->spacy-transformers) (0.11.0)\n",
      "Requirement already satisfied: smart-open<7.0.0,>=5.2.1 in /Users/minjoo/opt/anaconda3/envs/ner/lib/python3.9/site-packages (from spacy<4.0.0,>=3.4.0->spacy-transformers) (6.4.0)\n",
      "Requirement already satisfied: tqdm<5.0.0,>=4.38.0 in /Users/minjoo/opt/anaconda3/envs/ner/lib/python3.9/site-packages (from spacy<4.0.0,>=3.4.0->spacy-transformers) (4.66.5)\n",
      "Requirement already satisfied: numpy>=1.15.0 in /Users/minjoo/opt/anaconda3/envs/ner/lib/python3.9/site-packages (from spacy<4.0.0,>=3.4.0->spacy-transformers) (1.26.4)\n",
      "Requirement already satisfied: requests<3.0.0,>=2.13.0 in /Users/minjoo/opt/anaconda3/envs/ner/lib/python3.9/site-packages (from spacy<4.0.0,>=3.4.0->spacy-transformers) (2.32.3)\n",
      "Requirement already satisfied: pydantic!=1.8,!=1.8.1,<1.11.0,>=1.7.4 in /Users/minjoo/opt/anaconda3/envs/ner/lib/python3.9/site-packages (from spacy<4.0.0,>=3.4.0->spacy-transformers) (1.10.18)\n",
      "Requirement already satisfied: jinja2 in /Users/minjoo/opt/anaconda3/envs/ner/lib/python3.9/site-packages (from spacy<4.0.0,>=3.4.0->spacy-transformers) (3.1.4)\n",
      "Requirement already satisfied: setuptools in /Users/minjoo/opt/anaconda3/envs/ner/lib/python3.9/site-packages (from spacy<4.0.0,>=3.4.0->spacy-transformers) (72.1.0)\n",
      "Requirement already satisfied: packaging>=20.0 in /Users/minjoo/opt/anaconda3/envs/ner/lib/python3.9/site-packages (from spacy<4.0.0,>=3.4.0->spacy-transformers) (24.1)\n",
      "Requirement already satisfied: langcodes<4.0.0,>=3.2.0 in /Users/minjoo/opt/anaconda3/envs/ner/lib/python3.9/site-packages (from spacy<4.0.0,>=3.4.0->spacy-transformers) (3.4.0)\n",
      "Requirement already satisfied: filelock in /Users/minjoo/opt/anaconda3/envs/ner/lib/python3.9/site-packages (from torch>=1.6.0->spacy-transformers) (3.16.0)\n",
      "Requirement already satisfied: typing-extensions>=4.8.0 in /Users/minjoo/opt/anaconda3/envs/ner/lib/python3.9/site-packages (from torch>=1.6.0->spacy-transformers) (4.12.2)\n",
      "Requirement already satisfied: sympy in /Users/minjoo/opt/anaconda3/envs/ner/lib/python3.9/site-packages (from torch>=1.6.0->spacy-transformers) (1.13.2)\n",
      "Requirement already satisfied: networkx in /Users/minjoo/opt/anaconda3/envs/ner/lib/python3.9/site-packages (from torch>=1.6.0->spacy-transformers) (3.2.1)\n",
      "Requirement already satisfied: fsspec in /Users/minjoo/opt/anaconda3/envs/ner/lib/python3.9/site-packages (from torch>=1.6.0->spacy-transformers) (2024.9.0)\n",
      "Requirement already satisfied: huggingface-hub<1.0,>=0.10.0 in /Users/minjoo/opt/anaconda3/envs/ner/lib/python3.9/site-packages (from transformers<4.26.0,>=3.4.0->spacy-transformers) (0.24.7)\n",
      "Requirement already satisfied: pyyaml>=5.1 in /Users/minjoo/opt/anaconda3/envs/ner/lib/python3.9/site-packages (from transformers<4.26.0,>=3.4.0->spacy-transformers) (6.0.2)\n",
      "Requirement already satisfied: regex!=2019.12.17 in /Users/minjoo/opt/anaconda3/envs/ner/lib/python3.9/site-packages (from transformers<4.26.0,>=3.4.0->spacy-transformers) (2024.9.11)\n",
      "Requirement already satisfied: tokenizers!=0.11.3,<0.14,>=0.11.1 in /Users/minjoo/opt/anaconda3/envs/ner/lib/python3.9/site-packages (from transformers<4.26.0,>=3.4.0->spacy-transformers) (0.13.3)\n",
      "Requirement already satisfied: language-data>=1.2 in /Users/minjoo/opt/anaconda3/envs/ner/lib/python3.9/site-packages (from langcodes<4.0.0,>=3.2.0->spacy<4.0.0,>=3.4.0->spacy-transformers) (1.2.0)\n",
      "Requirement already satisfied: pathlib-abc==0.1.1 in /Users/minjoo/opt/anaconda3/envs/ner/lib/python3.9/site-packages (from pathy>=0.3.5->spacy<4.0.0,>=3.4.0->spacy-transformers) (0.1.1)\n",
      "Requirement already satisfied: charset-normalizer<4,>=2 in /Users/minjoo/opt/anaconda3/envs/ner/lib/python3.9/site-packages (from requests<3.0.0,>=2.13.0->spacy<4.0.0,>=3.4.0->spacy-transformers) (3.3.2)\n",
      "Requirement already satisfied: idna<4,>=2.5 in /Users/minjoo/opt/anaconda3/envs/ner/lib/python3.9/site-packages (from requests<3.0.0,>=2.13.0->spacy<4.0.0,>=3.4.0->spacy-transformers) (3.9)\n",
      "Requirement already satisfied: urllib3<3,>=1.21.1 in /Users/minjoo/opt/anaconda3/envs/ner/lib/python3.9/site-packages (from requests<3.0.0,>=2.13.0->spacy<4.0.0,>=3.4.0->spacy-transformers) (2.2.3)\n",
      "Requirement already satisfied: certifi>=2017.4.17 in /Users/minjoo/opt/anaconda3/envs/ner/lib/python3.9/site-packages (from requests<3.0.0,>=2.13.0->spacy<4.0.0,>=3.4.0->spacy-transformers) (2024.8.30)\n",
      "Requirement already satisfied: blis<0.8.0,>=0.7.8 in /Users/minjoo/opt/anaconda3/envs/ner/lib/python3.9/site-packages (from thinc<8.2.0,>=8.1.0->spacy<4.0.0,>=3.4.0->spacy-transformers) (0.7.11)\n",
      "Requirement already satisfied: confection<1.0.0,>=0.0.1 in /Users/minjoo/opt/anaconda3/envs/ner/lib/python3.9/site-packages (from thinc<8.2.0,>=8.1.0->spacy<4.0.0,>=3.4.0->spacy-transformers) (0.1.5)\n",
      "Requirement already satisfied: click<9.0.0,>=7.1.1 in /Users/minjoo/opt/anaconda3/envs/ner/lib/python3.9/site-packages (from typer<0.8.0,>=0.3.0->spacy<4.0.0,>=3.4.0->spacy-transformers) (8.1.7)\n",
      "Requirement already satisfied: MarkupSafe>=2.0 in /Users/minjoo/opt/anaconda3/envs/ner/lib/python3.9/site-packages (from jinja2->spacy<4.0.0,>=3.4.0->spacy-transformers) (2.1.5)\n",
      "Requirement already satisfied: mpmath<1.4,>=1.1.0 in /Users/minjoo/opt/anaconda3/envs/ner/lib/python3.9/site-packages (from sympy->torch>=1.6.0->spacy-transformers) (1.3.0)\n",
      "Requirement already satisfied: marisa-trie>=0.7.7 in /Users/minjoo/opt/anaconda3/envs/ner/lib/python3.9/site-packages (from language-data>=1.2->langcodes<4.0.0,>=3.2.0->spacy<4.0.0,>=3.4.0->spacy-transformers) (1.2.0)\n"
     ]
    }
   ],
   "source": [
    "!pip install spacy-transformers"
   ]
  },
  {
   "cell_type": "code",
   "execution_count": 1,
   "metadata": {},
   "outputs": [],
   "source": [
    "import spacy\n",
    "import spacy_experimental\n",
    "from spacy import displacy\n",
    "from wasabi import msg"
   ]
  },
  {
   "cell_type": "code",
   "execution_count": 2,
   "metadata": {},
   "outputs": [
    {
     "name": "stderr",
     "output_type": "stream",
     "text": [
      "/Users/minjoo/opt/anaconda3/envs/ner/lib/python3.9/site-packages/tqdm/auto.py:21: TqdmWarning: IProgress not found. Please update jupyter and ipywidgets. See https://ipywidgets.readthedocs.io/en/stable/user_install.html\n",
      "  from .autonotebook import tqdm as notebook_tqdm\n"
     ]
    }
   ],
   "source": [
    "nlp = spacy.load(\"en_coreference_web_trf\")"
   ]
  },
  {
   "cell_type": "code",
   "execution_count": 3,
   "metadata": {},
   "outputs": [
    {
     "name": "stdout",
     "output_type": "stream",
     "text": [
      "\u001b[2K\u001b[38;5;2m✔ Loaded compatibility table\u001b[0m\n",
      "\u001b[1m\n",
      "================= Installed pipeline packages (spaCy v3.4.4) =================\u001b[0m\n",
      "\u001b[38;5;4mℹ spaCy installation:\n",
      "/Users/minjoo/opt/anaconda3/envs/ner/lib/python3.9/site-packages/spacy\u001b[0m\n",
      "\n",
      "NAME                     SPACY            VERSION                              \n",
      "en_core_web_sm           >=3.4.0,<3.5.0   \u001b[38;5;2m3.4.1\u001b[0m     \u001b[38;5;2m✔\u001b[0m\n",
      "en_coreference_web_trf   >=3.3.0,<3.5.0   \u001b[38;5;2m3.4.0a0\u001b[0m   \u001b[38;5;2m✔\u001b[0m\n",
      "\n"
     ]
    }
   ],
   "source": [
    "!python -m spacy validate"
   ]
  },
  {
   "cell_type": "code",
   "execution_count": 4,
   "metadata": {},
   "outputs": [],
   "source": [
    "# Input text for coreference resolution\n",
    "text3 = \"When Sebastian Thrun started working on self-driving cars at Google in 2007, few people outside of the company took him seriously.\""
   ]
  },
  {
   "cell_type": "code",
   "execution_count": 5,
   "metadata": {},
   "outputs": [],
   "source": [
    "# Process the text with SpaCy\n",
    "doc = nlp(text3)"
   ]
  },
  {
   "cell_type": "code",
   "execution_count": 6,
   "metadata": {},
   "outputs": [
    {
     "name": "stdout",
     "output_type": "stream",
     "text": [
      "\u001b[38;5;4mℹ Found clusters\u001b[0m\n",
      "coref_clusters_1: [Google, the company]\n",
      "coref_clusters_2: [Sebastian Thrun, him]\n"
     ]
    }
   ],
   "source": [
    "# Print out clusters -> Coreference Resolution OK\n",
    "msg.info(\"Found clusters\")\n",
    "for cluster in doc.spans:\n",
    "    print(f\"{cluster}: {doc.spans[cluster]}\")"
   ]
  },
  {
   "cell_type": "code",
   "execution_count": 6,
   "metadata": {},
   "outputs": [],
   "source": [
    "# since Spacy doesn't have direct coreference resolver\n",
    "# we define lightweight function for resolving references in text\n",
    "def resolve_references(doc) -> str:\n",
    "    \"\"\"\n",
    "    Function for resolving references with the coref ouput\n",
    "    doc (Doc): The Doc object processed by the coref pipeline\n",
    "    RETURNS (str): The Doc string with resolved references\n",
    "    \"\"\"\n",
    "    # token.idx : token.text\n",
    "    token_mention_mapper = {}\n",
    "    output_string = \"\"\n",
    "    clusters = [\n",
    "    val for key, val in doc.spans.items() if key.startswith(\"coref_cluster\")\n",
    "        ]\n",
    "\n",
    "    # Iterate through every found cluster\n",
    "    for cluster in clusters:\n",
    "        first_mention = cluster[0]\n",
    "        # Iterate through every other span in the cluster\n",
    "        for mention_span in list(cluster)[1:]:\n",
    "            # Set first_mention as value for the first token in mention_span in the token_mention_mapper\n",
    "            token_mention_mapper[mention_span[0].idx] = first_mention.text + mention_span[0].whitespace_\n",
    "            for token in mention_span[1:]:\n",
    "                # Set empty string for all the other tokens in mention_span\n",
    "                token_mention_mapper[token.idx] = \"\"\n",
    "    # Iterate through every token in the Doc\n",
    "    for token in doc:\n",
    "        # Check if token exists in token_mention_mapper\n",
    "        if token.idx in token_mention_mapper:\n",
    "            output_string += token_mention_mapper[token.idx]\n",
    "        # Else add original token text\n",
    "        else:\n",
    "            output_string += token.text + token.whitespace_\n",
    "    return output_string"
   ]
  },
  {
   "cell_type": "code",
   "execution_count": 9,
   "metadata": {},
   "outputs": [
    {
     "name": "stdout",
     "output_type": "stream",
     "text": [
      "\u001b[38;5;4mℹ Document with resolved references --> Looks Great!\u001b[0m\n",
      "When Sebastian Thrun started working on self-driving cars at Google in 2007, few people outside of Google in Sebastian Thrun started .\n"
     ]
    }
   ],
   "source": [
    "msg.info(\"Document with resolved references --> Looks Great!\")\n",
    "print(resolve_references(doc))"
   ]
  },
  {
   "cell_type": "code",
   "execution_count": 10,
   "metadata": {},
   "outputs": [
    {
     "name": "stdout",
     "output_type": "stream",
     "text": [
      "\u001b[38;5;4mℹ Pipeline components\u001b[0m\n",
      "0: sentencizer\n",
      "1: transformer\n",
      "2: coref\n",
      "3: span_resolver\n",
      "4: span_cleaner\n"
     ]
    }
   ],
   "source": [
    "# Print out component names -> since there's no NER tagger, we can't directly use this for Named Entity Recognition.\n",
    "\n",
    "msg.info(\"Pipeline components\")\n",
    "for i, pipe in enumerate(nlp.pipe_names):\n",
    "    print(f\"{i}: {pipe}\")"
   ]
  },
  {
   "cell_type": "code",
   "execution_count": 12,
   "metadata": {},
   "outputs": [
    {
     "name": "stdout",
     "output_type": "stream",
     "text": [
      "Collecting en-core-web-sm==3.4.1\n",
      "  Downloading https://github.com/explosion/spacy-models/releases/download/en_core_web_sm-3.4.1/en_core_web_sm-3.4.1-py3-none-any.whl (12.8 MB)\n",
      "\u001b[2K     \u001b[90m━━━━━━━━━━━━━━━━━━━━━━━━━━━━━━━━━━━━━━━━\u001b[0m \u001b[32m12.8/12.8 MB\u001b[0m \u001b[31m5.4 MB/s\u001b[0m eta \u001b[36m0:00:00\u001b[0ma \u001b[36m0:00:01\u001b[0m\n",
      "\u001b[?25hRequirement already satisfied: spacy<3.5.0,>=3.4.0 in /Users/minjoo/opt/anaconda3/envs/ner/lib/python3.9/site-packages (from en-core-web-sm==3.4.1) (3.4.4)\n",
      "Requirement already satisfied: spacy-legacy<3.1.0,>=3.0.10 in /Users/minjoo/opt/anaconda3/envs/ner/lib/python3.9/site-packages (from spacy<3.5.0,>=3.4.0->en-core-web-sm==3.4.1) (3.0.12)\n",
      "Requirement already satisfied: spacy-loggers<2.0.0,>=1.0.0 in /Users/minjoo/opt/anaconda3/envs/ner/lib/python3.9/site-packages (from spacy<3.5.0,>=3.4.0->en-core-web-sm==3.4.1) (1.0.5)\n",
      "Requirement already satisfied: murmurhash<1.1.0,>=0.28.0 in /Users/minjoo/opt/anaconda3/envs/ner/lib/python3.9/site-packages (from spacy<3.5.0,>=3.4.0->en-core-web-sm==3.4.1) (1.0.10)\n",
      "Requirement already satisfied: cymem<2.1.0,>=2.0.2 in /Users/minjoo/opt/anaconda3/envs/ner/lib/python3.9/site-packages (from spacy<3.5.0,>=3.4.0->en-core-web-sm==3.4.1) (2.0.8)\n",
      "Requirement already satisfied: preshed<3.1.0,>=3.0.2 in /Users/minjoo/opt/anaconda3/envs/ner/lib/python3.9/site-packages (from spacy<3.5.0,>=3.4.0->en-core-web-sm==3.4.1) (3.0.9)\n",
      "Requirement already satisfied: thinc<8.2.0,>=8.1.0 in /Users/minjoo/opt/anaconda3/envs/ner/lib/python3.9/site-packages (from spacy<3.5.0,>=3.4.0->en-core-web-sm==3.4.1) (8.1.12)\n",
      "Requirement already satisfied: wasabi<1.1.0,>=0.9.1 in /Users/minjoo/opt/anaconda3/envs/ner/lib/python3.9/site-packages (from spacy<3.5.0,>=3.4.0->en-core-web-sm==3.4.1) (0.10.1)\n",
      "Requirement already satisfied: srsly<3.0.0,>=2.4.3 in /Users/minjoo/opt/anaconda3/envs/ner/lib/python3.9/site-packages (from spacy<3.5.0,>=3.4.0->en-core-web-sm==3.4.1) (2.4.8)\n",
      "Requirement already satisfied: catalogue<2.1.0,>=2.0.6 in /Users/minjoo/opt/anaconda3/envs/ner/lib/python3.9/site-packages (from spacy<3.5.0,>=3.4.0->en-core-web-sm==3.4.1) (2.0.10)\n",
      "Requirement already satisfied: typer<0.8.0,>=0.3.0 in /Users/minjoo/opt/anaconda3/envs/ner/lib/python3.9/site-packages (from spacy<3.5.0,>=3.4.0->en-core-web-sm==3.4.1) (0.7.0)\n",
      "Requirement already satisfied: pathy>=0.3.5 in /Users/minjoo/opt/anaconda3/envs/ner/lib/python3.9/site-packages (from spacy<3.5.0,>=3.4.0->en-core-web-sm==3.4.1) (0.11.0)\n",
      "Requirement already satisfied: smart-open<7.0.0,>=5.2.1 in /Users/minjoo/opt/anaconda3/envs/ner/lib/python3.9/site-packages (from spacy<3.5.0,>=3.4.0->en-core-web-sm==3.4.1) (6.4.0)\n",
      "Requirement already satisfied: tqdm<5.0.0,>=4.38.0 in /Users/minjoo/opt/anaconda3/envs/ner/lib/python3.9/site-packages (from spacy<3.5.0,>=3.4.0->en-core-web-sm==3.4.1) (4.66.5)\n",
      "Requirement already satisfied: numpy>=1.15.0 in /Users/minjoo/opt/anaconda3/envs/ner/lib/python3.9/site-packages (from spacy<3.5.0,>=3.4.0->en-core-web-sm==3.4.1) (1.26.4)\n",
      "Requirement already satisfied: requests<3.0.0,>=2.13.0 in /Users/minjoo/opt/anaconda3/envs/ner/lib/python3.9/site-packages (from spacy<3.5.0,>=3.4.0->en-core-web-sm==3.4.1) (2.32.3)\n",
      "Requirement already satisfied: pydantic!=1.8,!=1.8.1,<1.11.0,>=1.7.4 in /Users/minjoo/opt/anaconda3/envs/ner/lib/python3.9/site-packages (from spacy<3.5.0,>=3.4.0->en-core-web-sm==3.4.1) (1.10.18)\n",
      "Requirement already satisfied: jinja2 in /Users/minjoo/opt/anaconda3/envs/ner/lib/python3.9/site-packages (from spacy<3.5.0,>=3.4.0->en-core-web-sm==3.4.1) (3.1.4)\n",
      "Requirement already satisfied: setuptools in /Users/minjoo/opt/anaconda3/envs/ner/lib/python3.9/site-packages (from spacy<3.5.0,>=3.4.0->en-core-web-sm==3.4.1) (72.1.0)\n",
      "Requirement already satisfied: packaging>=20.0 in /Users/minjoo/opt/anaconda3/envs/ner/lib/python3.9/site-packages (from spacy<3.5.0,>=3.4.0->en-core-web-sm==3.4.1) (24.1)\n",
      "Requirement already satisfied: langcodes<4.0.0,>=3.2.0 in /Users/minjoo/opt/anaconda3/envs/ner/lib/python3.9/site-packages (from spacy<3.5.0,>=3.4.0->en-core-web-sm==3.4.1) (3.4.0)\n",
      "Requirement already satisfied: language-data>=1.2 in /Users/minjoo/opt/anaconda3/envs/ner/lib/python3.9/site-packages (from langcodes<4.0.0,>=3.2.0->spacy<3.5.0,>=3.4.0->en-core-web-sm==3.4.1) (1.2.0)\n",
      "Requirement already satisfied: pathlib-abc==0.1.1 in /Users/minjoo/opt/anaconda3/envs/ner/lib/python3.9/site-packages (from pathy>=0.3.5->spacy<3.5.0,>=3.4.0->en-core-web-sm==3.4.1) (0.1.1)\n",
      "Requirement already satisfied: typing-extensions>=4.2.0 in /Users/minjoo/opt/anaconda3/envs/ner/lib/python3.9/site-packages (from pydantic!=1.8,!=1.8.1,<1.11.0,>=1.7.4->spacy<3.5.0,>=3.4.0->en-core-web-sm==3.4.1) (4.12.2)\n",
      "Requirement already satisfied: charset-normalizer<4,>=2 in /Users/minjoo/opt/anaconda3/envs/ner/lib/python3.9/site-packages (from requests<3.0.0,>=2.13.0->spacy<3.5.0,>=3.4.0->en-core-web-sm==3.4.1) (3.3.2)\n",
      "Requirement already satisfied: idna<4,>=2.5 in /Users/minjoo/opt/anaconda3/envs/ner/lib/python3.9/site-packages (from requests<3.0.0,>=2.13.0->spacy<3.5.0,>=3.4.0->en-core-web-sm==3.4.1) (3.9)\n",
      "Requirement already satisfied: urllib3<3,>=1.21.1 in /Users/minjoo/opt/anaconda3/envs/ner/lib/python3.9/site-packages (from requests<3.0.0,>=2.13.0->spacy<3.5.0,>=3.4.0->en-core-web-sm==3.4.1) (2.2.3)\n",
      "Requirement already satisfied: certifi>=2017.4.17 in /Users/minjoo/opt/anaconda3/envs/ner/lib/python3.9/site-packages (from requests<3.0.0,>=2.13.0->spacy<3.5.0,>=3.4.0->en-core-web-sm==3.4.1) (2024.8.30)\n",
      "Requirement already satisfied: blis<0.8.0,>=0.7.8 in /Users/minjoo/opt/anaconda3/envs/ner/lib/python3.9/site-packages (from thinc<8.2.0,>=8.1.0->spacy<3.5.0,>=3.4.0->en-core-web-sm==3.4.1) (0.7.11)\n",
      "Requirement already satisfied: confection<1.0.0,>=0.0.1 in /Users/minjoo/opt/anaconda3/envs/ner/lib/python3.9/site-packages (from thinc<8.2.0,>=8.1.0->spacy<3.5.0,>=3.4.0->en-core-web-sm==3.4.1) (0.1.5)\n",
      "Requirement already satisfied: click<9.0.0,>=7.1.1 in /Users/minjoo/opt/anaconda3/envs/ner/lib/python3.9/site-packages (from typer<0.8.0,>=0.3.0->spacy<3.5.0,>=3.4.0->en-core-web-sm==3.4.1) (8.1.7)\n",
      "Requirement already satisfied: MarkupSafe>=2.0 in /Users/minjoo/opt/anaconda3/envs/ner/lib/python3.9/site-packages (from jinja2->spacy<3.5.0,>=3.4.0->en-core-web-sm==3.4.1) (2.1.5)\n",
      "Requirement already satisfied: marisa-trie>=0.7.7 in /Users/minjoo/opt/anaconda3/envs/ner/lib/python3.9/site-packages (from language-data>=1.2->langcodes<4.0.0,>=3.2.0->spacy<3.5.0,>=3.4.0->en-core-web-sm==3.4.1) (1.2.0)\n",
      "Installing collected packages: en-core-web-sm\n",
      "Successfully installed en-core-web-sm-3.4.1\n",
      "\u001b[38;5;2m✔ Download and installation successful\u001b[0m\n",
      "You can now load the package via spacy.load('en_core_web_sm')\n"
     ]
    }
   ],
   "source": [
    "!python -m spacy download en_core_web_sm"
   ]
  },
  {
   "cell_type": "code",
   "execution_count": 11,
   "metadata": {},
   "outputs": [
    {
     "ename": "OSError",
     "evalue": "[E050] Can't find model 'en_core_web_sm'. It doesn't seem to be a Python package or a valid path to a data directory.",
     "output_type": "error",
     "traceback": [
      "\u001b[0;31m---------------------------------------------------------------------------\u001b[0m",
      "\u001b[0;31mOSError\u001b[0m                                   Traceback (most recent call last)",
      "Cell \u001b[0;32mIn[11], line 1\u001b[0m\n\u001b[0;32m----> 1\u001b[0m test_model \u001b[38;5;241m=\u001b[39m \u001b[43mspacy\u001b[49m\u001b[38;5;241;43m.\u001b[39;49m\u001b[43mload\u001b[49m\u001b[43m(\u001b[49m\u001b[38;5;124;43m'\u001b[39;49m\u001b[38;5;124;43men_core_web_sm\u001b[39;49m\u001b[38;5;124;43m'\u001b[39;49m\u001b[43m)\u001b[49m\n",
      "File \u001b[0;32m~/opt/anaconda3/envs/ner/lib/python3.9/site-packages/spacy/__init__.py:51\u001b[0m, in \u001b[0;36mload\u001b[0;34m(name, vocab, disable, enable, exclude, config)\u001b[0m\n\u001b[1;32m     27\u001b[0m \u001b[38;5;28;01mdef\u001b[39;00m \u001b[38;5;21mload\u001b[39m(\n\u001b[1;32m     28\u001b[0m     name: Union[\u001b[38;5;28mstr\u001b[39m, Path],\n\u001b[1;32m     29\u001b[0m     \u001b[38;5;241m*\u001b[39m,\n\u001b[0;32m   (...)\u001b[0m\n\u001b[1;32m     34\u001b[0m     config: Union[Dict[\u001b[38;5;28mstr\u001b[39m, Any], Config] \u001b[38;5;241m=\u001b[39m util\u001b[38;5;241m.\u001b[39mSimpleFrozenDict(),\n\u001b[1;32m     35\u001b[0m ) \u001b[38;5;241m-\u001b[39m\u001b[38;5;241m>\u001b[39m Language:\n\u001b[1;32m     36\u001b[0m \u001b[38;5;250m    \u001b[39m\u001b[38;5;124;03m\"\"\"Load a spaCy model from an installed package or a local path.\u001b[39;00m\n\u001b[1;32m     37\u001b[0m \n\u001b[1;32m     38\u001b[0m \u001b[38;5;124;03m    name (str): Package name or model path.\u001b[39;00m\n\u001b[0;32m   (...)\u001b[0m\n\u001b[1;32m     49\u001b[0m \u001b[38;5;124;03m    RETURNS (Language): The loaded nlp object.\u001b[39;00m\n\u001b[1;32m     50\u001b[0m \u001b[38;5;124;03m    \"\"\"\u001b[39;00m\n\u001b[0;32m---> 51\u001b[0m     \u001b[38;5;28;01mreturn\u001b[39;00m \u001b[43mutil\u001b[49m\u001b[38;5;241;43m.\u001b[39;49m\u001b[43mload_model\u001b[49m\u001b[43m(\u001b[49m\n\u001b[1;32m     52\u001b[0m \u001b[43m        \u001b[49m\u001b[43mname\u001b[49m\u001b[43m,\u001b[49m\n\u001b[1;32m     53\u001b[0m \u001b[43m        \u001b[49m\u001b[43mvocab\u001b[49m\u001b[38;5;241;43m=\u001b[39;49m\u001b[43mvocab\u001b[49m\u001b[43m,\u001b[49m\n\u001b[1;32m     54\u001b[0m \u001b[43m        \u001b[49m\u001b[43mdisable\u001b[49m\u001b[38;5;241;43m=\u001b[39;49m\u001b[43mdisable\u001b[49m\u001b[43m,\u001b[49m\n\u001b[1;32m     55\u001b[0m \u001b[43m        \u001b[49m\u001b[43menable\u001b[49m\u001b[38;5;241;43m=\u001b[39;49m\u001b[43menable\u001b[49m\u001b[43m,\u001b[49m\n\u001b[1;32m     56\u001b[0m \u001b[43m        \u001b[49m\u001b[43mexclude\u001b[49m\u001b[38;5;241;43m=\u001b[39;49m\u001b[43mexclude\u001b[49m\u001b[43m,\u001b[49m\n\u001b[1;32m     57\u001b[0m \u001b[43m        \u001b[49m\u001b[43mconfig\u001b[49m\u001b[38;5;241;43m=\u001b[39;49m\u001b[43mconfig\u001b[49m\u001b[43m,\u001b[49m\n\u001b[1;32m     58\u001b[0m \u001b[43m    \u001b[49m\u001b[43m)\u001b[49m\n",
      "File \u001b[0;32m~/opt/anaconda3/envs/ner/lib/python3.9/site-packages/spacy/util.py:472\u001b[0m, in \u001b[0;36mload_model\u001b[0;34m(name, vocab, disable, enable, exclude, config)\u001b[0m\n\u001b[1;32m    470\u001b[0m \u001b[38;5;28;01mif\u001b[39;00m name \u001b[38;5;129;01min\u001b[39;00m OLD_MODEL_SHORTCUTS:\n\u001b[1;32m    471\u001b[0m     \u001b[38;5;28;01mraise\u001b[39;00m \u001b[38;5;167;01mIOError\u001b[39;00m(Errors\u001b[38;5;241m.\u001b[39mE941\u001b[38;5;241m.\u001b[39mformat(name\u001b[38;5;241m=\u001b[39mname, full\u001b[38;5;241m=\u001b[39mOLD_MODEL_SHORTCUTS[name]))  \u001b[38;5;66;03m# type: ignore[index]\u001b[39;00m\n\u001b[0;32m--> 472\u001b[0m \u001b[38;5;28;01mraise\u001b[39;00m \u001b[38;5;167;01mIOError\u001b[39;00m(Errors\u001b[38;5;241m.\u001b[39mE050\u001b[38;5;241m.\u001b[39mformat(name\u001b[38;5;241m=\u001b[39mname))\n",
      "\u001b[0;31mOSError\u001b[0m: [E050] Can't find model 'en_core_web_sm'. It doesn't seem to be a Python package or a valid path to a data directory."
     ]
    }
   ],
   "source": [
    "test_model = spacy.load('en_core_web_sm')"
   ]
  },
  {
   "cell_type": "code",
   "execution_count": 23,
   "metadata": {},
   "outputs": [
    {
     "name": "stdout",
     "output_type": "stream",
     "text": [
      "\u001b[38;5;4mℹ if we check the components from the pipeline, we can see there's no\n",
      "transformer and coref in the basic model\u001b[0m\n",
      "0: tok2vec\n",
      "1: tagger\n",
      "2: parser\n",
      "3: attribute_ruler\n",
      "4: lemmatizer\n",
      "5: ner\n"
     ]
    }
   ],
   "source": [
    "msg.info(\"if we check the components from the pipeline, we can see there's no transformer and coref in the basic model\")\n",
    "for i, pipe in enumerate(test_model.pipe_names):\n",
    "    print(f\"{i}: {pipe}\")"
   ]
  },
  {
   "cell_type": "code",
   "execution_count": 14,
   "metadata": {},
   "outputs": [
    {
     "name": "stdout",
     "output_type": "stream",
     "text": [
      "huggingface/tokenizers: The current process just got forked, after parallelism has already been used. Disabling parallelism to avoid deadlocks...\n",
      "To disable this warning, you can either:\n",
      "\t- Avoid using `tokenizers` before the fork if possible\n",
      "\t- Explicitly set the environment variable TOKENIZERS_PARALLELISM=(true | false)\n",
      "Collecting en-core-web-md==3.4.1\n",
      "  Downloading https://github.com/explosion/spacy-models/releases/download/en_core_web_md-3.4.1/en_core_web_md-3.4.1-py3-none-any.whl (42.8 MB)\n",
      "\u001b[2K     \u001b[90m━━━━━━━━━━━━━━━━━━━━━━━━━━━━━━━━━━━━━━━━\u001b[0m \u001b[32m42.8/42.8 MB\u001b[0m \u001b[31m7.8 MB/s\u001b[0m eta \u001b[36m0:00:00\u001b[0m00:01\u001b[0m00:01\u001b[0m\n",
      "\u001b[?25hRequirement already satisfied: spacy<3.5.0,>=3.4.0 in /Users/minjoo/opt/anaconda3/envs/fastcoref2/lib/python3.9/site-packages (from en-core-web-md==3.4.1) (3.4.4)\n",
      "Requirement already satisfied: spacy-legacy<3.1.0,>=3.0.10 in /Users/minjoo/opt/anaconda3/envs/fastcoref2/lib/python3.9/site-packages (from spacy<3.5.0,>=3.4.0->en-core-web-md==3.4.1) (3.0.12)\n",
      "Requirement already satisfied: spacy-loggers<2.0.0,>=1.0.0 in /Users/minjoo/opt/anaconda3/envs/fastcoref2/lib/python3.9/site-packages (from spacy<3.5.0,>=3.4.0->en-core-web-md==3.4.1) (1.0.5)\n",
      "Requirement already satisfied: murmurhash<1.1.0,>=0.28.0 in /Users/minjoo/opt/anaconda3/envs/fastcoref2/lib/python3.9/site-packages (from spacy<3.5.0,>=3.4.0->en-core-web-md==3.4.1) (1.0.10)\n",
      "Requirement already satisfied: cymem<2.1.0,>=2.0.2 in /Users/minjoo/opt/anaconda3/envs/fastcoref2/lib/python3.9/site-packages (from spacy<3.5.0,>=3.4.0->en-core-web-md==3.4.1) (2.0.8)\n",
      "Requirement already satisfied: preshed<3.1.0,>=3.0.2 in /Users/minjoo/opt/anaconda3/envs/fastcoref2/lib/python3.9/site-packages (from spacy<3.5.0,>=3.4.0->en-core-web-md==3.4.1) (3.0.9)\n",
      "Requirement already satisfied: thinc<8.2.0,>=8.1.0 in /Users/minjoo/opt/anaconda3/envs/fastcoref2/lib/python3.9/site-packages (from spacy<3.5.0,>=3.4.0->en-core-web-md==3.4.1) (8.1.12)\n",
      "Requirement already satisfied: wasabi<1.1.0,>=0.9.1 in /Users/minjoo/opt/anaconda3/envs/fastcoref2/lib/python3.9/site-packages (from spacy<3.5.0,>=3.4.0->en-core-web-md==3.4.1) (0.10.1)\n",
      "Requirement already satisfied: srsly<3.0.0,>=2.4.3 in /Users/minjoo/opt/anaconda3/envs/fastcoref2/lib/python3.9/site-packages (from spacy<3.5.0,>=3.4.0->en-core-web-md==3.4.1) (2.4.8)\n",
      "Requirement already satisfied: catalogue<2.1.0,>=2.0.6 in /Users/minjoo/opt/anaconda3/envs/fastcoref2/lib/python3.9/site-packages (from spacy<3.5.0,>=3.4.0->en-core-web-md==3.4.1) (2.0.10)\n",
      "Requirement already satisfied: typer<0.8.0,>=0.3.0 in /Users/minjoo/opt/anaconda3/envs/fastcoref2/lib/python3.9/site-packages (from spacy<3.5.0,>=3.4.0->en-core-web-md==3.4.1) (0.7.0)\n",
      "Requirement already satisfied: pathy>=0.3.5 in /Users/minjoo/opt/anaconda3/envs/fastcoref2/lib/python3.9/site-packages (from spacy<3.5.0,>=3.4.0->en-core-web-md==3.4.1) (0.11.0)\n",
      "Requirement already satisfied: smart-open<7.0.0,>=5.2.1 in /Users/minjoo/opt/anaconda3/envs/fastcoref2/lib/python3.9/site-packages (from spacy<3.5.0,>=3.4.0->en-core-web-md==3.4.1) (6.4.0)\n",
      "Requirement already satisfied: tqdm<5.0.0,>=4.38.0 in /Users/minjoo/opt/anaconda3/envs/fastcoref2/lib/python3.9/site-packages (from spacy<3.5.0,>=3.4.0->en-core-web-md==3.4.1) (4.66.5)\n",
      "Requirement already satisfied: numpy>=1.15.0 in /Users/minjoo/opt/anaconda3/envs/fastcoref2/lib/python3.9/site-packages (from spacy<3.5.0,>=3.4.0->en-core-web-md==3.4.1) (1.26.4)\n",
      "Requirement already satisfied: requests<3.0.0,>=2.13.0 in /Users/minjoo/opt/anaconda3/envs/fastcoref2/lib/python3.9/site-packages (from spacy<3.5.0,>=3.4.0->en-core-web-md==3.4.1) (2.32.3)\n",
      "Requirement already satisfied: pydantic!=1.8,!=1.8.1,<1.11.0,>=1.7.4 in /Users/minjoo/opt/anaconda3/envs/fastcoref2/lib/python3.9/site-packages (from spacy<3.5.0,>=3.4.0->en-core-web-md==3.4.1) (1.10.18)\n",
      "Requirement already satisfied: jinja2 in /Users/minjoo/opt/anaconda3/envs/fastcoref2/lib/python3.9/site-packages (from spacy<3.5.0,>=3.4.0->en-core-web-md==3.4.1) (3.1.4)\n",
      "Requirement already satisfied: setuptools in /Users/minjoo/opt/anaconda3/envs/fastcoref2/lib/python3.9/site-packages (from spacy<3.5.0,>=3.4.0->en-core-web-md==3.4.1) (72.1.0)\n",
      "Requirement already satisfied: packaging>=20.0 in /Users/minjoo/opt/anaconda3/envs/fastcoref2/lib/python3.9/site-packages (from spacy<3.5.0,>=3.4.0->en-core-web-md==3.4.1) (24.1)\n",
      "Requirement already satisfied: langcodes<4.0.0,>=3.2.0 in /Users/minjoo/opt/anaconda3/envs/fastcoref2/lib/python3.9/site-packages (from spacy<3.5.0,>=3.4.0->en-core-web-md==3.4.1) (3.4.0)\n",
      "Requirement already satisfied: language-data>=1.2 in /Users/minjoo/opt/anaconda3/envs/fastcoref2/lib/python3.9/site-packages (from langcodes<4.0.0,>=3.2.0->spacy<3.5.0,>=3.4.0->en-core-web-md==3.4.1) (1.2.0)\n",
      "Requirement already satisfied: pathlib-abc==0.1.1 in /Users/minjoo/opt/anaconda3/envs/fastcoref2/lib/python3.9/site-packages (from pathy>=0.3.5->spacy<3.5.0,>=3.4.0->en-core-web-md==3.4.1) (0.1.1)\n",
      "Requirement already satisfied: typing-extensions>=4.2.0 in /Users/minjoo/opt/anaconda3/envs/fastcoref2/lib/python3.9/site-packages (from pydantic!=1.8,!=1.8.1,<1.11.0,>=1.7.4->spacy<3.5.0,>=3.4.0->en-core-web-md==3.4.1) (4.12.2)\n",
      "Requirement already satisfied: charset-normalizer<4,>=2 in /Users/minjoo/opt/anaconda3/envs/fastcoref2/lib/python3.9/site-packages (from requests<3.0.0,>=2.13.0->spacy<3.5.0,>=3.4.0->en-core-web-md==3.4.1) (3.3.2)\n",
      "Requirement already satisfied: idna<4,>=2.5 in /Users/minjoo/opt/anaconda3/envs/fastcoref2/lib/python3.9/site-packages (from requests<3.0.0,>=2.13.0->spacy<3.5.0,>=3.4.0->en-core-web-md==3.4.1) (3.8)\n",
      "Requirement already satisfied: urllib3<3,>=1.21.1 in /Users/minjoo/opt/anaconda3/envs/fastcoref2/lib/python3.9/site-packages (from requests<3.0.0,>=2.13.0->spacy<3.5.0,>=3.4.0->en-core-web-md==3.4.1) (2.2.2)\n",
      "Requirement already satisfied: certifi>=2017.4.17 in /Users/minjoo/opt/anaconda3/envs/fastcoref2/lib/python3.9/site-packages (from requests<3.0.0,>=2.13.0->spacy<3.5.0,>=3.4.0->en-core-web-md==3.4.1) (2024.8.30)\n",
      "Requirement already satisfied: blis<0.8.0,>=0.7.8 in /Users/minjoo/opt/anaconda3/envs/fastcoref2/lib/python3.9/site-packages (from thinc<8.2.0,>=8.1.0->spacy<3.5.0,>=3.4.0->en-core-web-md==3.4.1) (0.7.11)\n",
      "Requirement already satisfied: confection<1.0.0,>=0.0.1 in /Users/minjoo/opt/anaconda3/envs/fastcoref2/lib/python3.9/site-packages (from thinc<8.2.0,>=8.1.0->spacy<3.5.0,>=3.4.0->en-core-web-md==3.4.1) (0.1.5)\n",
      "Requirement already satisfied: click<9.0.0,>=7.1.1 in /Users/minjoo/opt/anaconda3/envs/fastcoref2/lib/python3.9/site-packages (from typer<0.8.0,>=0.3.0->spacy<3.5.0,>=3.4.0->en-core-web-md==3.4.1) (8.1.7)\n",
      "Requirement already satisfied: MarkupSafe>=2.0 in /Users/minjoo/opt/anaconda3/envs/fastcoref2/lib/python3.9/site-packages (from jinja2->spacy<3.5.0,>=3.4.0->en-core-web-md==3.4.1) (2.1.5)\n",
      "Requirement already satisfied: marisa-trie>=0.7.7 in /Users/minjoo/opt/anaconda3/envs/fastcoref2/lib/python3.9/site-packages (from language-data>=1.2->langcodes<4.0.0,>=3.2.0->spacy<3.5.0,>=3.4.0->en-core-web-md==3.4.1) (1.2.0)\n",
      "Installing collected packages: en-core-web-md\n",
      "Successfully installed en-core-web-md-3.4.1\n",
      "\u001b[38;5;2m✔ Download and installation successful\u001b[0m\n",
      "You can now load the package via spacy.load('en_core_web_md')\n"
     ]
    },
    {
     "name": "stderr",
     "output_type": "stream",
     "text": [
      "/Users/minjoo/opt/anaconda3/envs/fastcoref2/lib/python3.9/site-packages/spacy/language.py:716: UserWarning: [W113] Sourced component 'coref' may not work as expected: source vectors are not identical to current pipeline vectors.\n",
      "  warnings.warn(Warnings.W113.format(name=source_name))\n",
      "/Users/minjoo/opt/anaconda3/envs/fastcoref2/lib/python3.9/site-packages/spacy/language.py:716: UserWarning: [W113] Sourced component 'span_resolver' may not work as expected: source vectors are not identical to current pipeline vectors.\n",
      "  warnings.warn(Warnings.W113.format(name=source_name))\n"
     ]
    },
    {
     "data": {
      "text/plain": [
       "<spacy_experimental.coref.span_resolver_component.SpanResolver at 0x7f892900fa60>"
      ]
     },
     "execution_count": 14,
     "metadata": {},
     "output_type": "execute_result"
    }
   ],
   "source": [
    "# So we are going to combine two different models\n",
    "\n",
    "# This base model (nlp) can be anything from Spacy\n",
    "!python -m spacy download en_core_web_md\n",
    "# nlp = spacy.load(\"en_core_web_trf\")\n",
    "nlp = spacy.load(\"en_core_web_md\")\n",
    "# nlp = spacy.load(\"en_core_web_sm\")\n",
    "\n",
    "nlp_coref = spacy.load(\"en_coreference_web_trf\")\n",
    "\n",
    "# use replace_listeners for the coref components\n",
    "nlp_coref.replace_listeners(\"transformer\", \"coref\", [\"model.tok2vec\"])\n",
    "nlp_coref.replace_listeners(\"transformer\", \"span_resolver\", [\"model.tok2vec\"])\n",
    "\n",
    "# we won't copy over the span cleaner\n",
    "nlp.add_pipe(\"coref\", source=nlp_coref)\n",
    "nlp.add_pipe(\"span_resolver\", source=nlp_coref)"
   ]
  },
  {
   "cell_type": "code",
   "execution_count": 28,
   "metadata": {},
   "outputs": [],
   "source": [
    "doc2= nlp(text3)"
   ]
  },
  {
   "cell_type": "code",
   "execution_count": 29,
   "metadata": {},
   "outputs": [
    {
     "name": "stdout",
     "output_type": "stream",
     "text": [
      "\u001b[38;5;4mℹ Pipeline components : Now we have NER on the 5th!\u001b[0m\n",
      "0: tok2vec\n",
      "1: tagger\n",
      "2: parser\n",
      "3: attribute_ruler\n",
      "4: lemmatizer\n",
      "5: ner\n",
      "6: coref\n",
      "7: span_resolver\n"
     ]
    }
   ],
   "source": [
    "# Print out component names\n",
    "# Now we have NER on the 5th!\n",
    "\n",
    "msg.info(\"Pipeline components : Now we have NER on the 5th!\")\n",
    "for i, pipe in enumerate(nlp.pipe_names):\n",
    "    print(f\"{i}: {pipe}\")"
   ]
  },
  {
   "cell_type": "code",
   "execution_count": 30,
   "metadata": {},
   "outputs": [
    {
     "name": "stdout",
     "output_type": "stream",
     "text": [
      "\u001b[38;5;4mℹ Document with resolved references --> Still looking good with the new\n",
      "model\u001b[0m\n",
      "When Sebastian Thrun started working on self-driving cars at Google in 2007, few people outside of Google in Sebastian Thrun started .\n"
     ]
    }
   ],
   "source": [
    "msg.info(\"Document with resolved references --> Still looking good with the new model\")\n",
    "print(resolve_references(doc2))"
   ]
  },
  {
   "cell_type": "code",
   "execution_count": 31,
   "metadata": {},
   "outputs": [],
   "source": [
    "resolved_doc = nlp(resolve_references(doc2))"
   ]
  },
  {
   "cell_type": "code",
   "execution_count": 33,
   "metadata": {},
   "outputs": [
    {
     "name": "stdout",
     "output_type": "stream",
     "text": [
      "\u001b[38;5;4mℹ NER looking good too!\u001b[0m\n"
     ]
    },
    {
     "data": {
      "text/html": [
       "<span class=\"tex2jax_ignore\"><div class=\"entities\" style=\"line-height: 2.5; direction: ltr\">When \n",
       "<mark class=\"entity\" style=\"background: #aa9cfc; padding: 0.45em 0.6em; margin: 0 0.25em; line-height: 1; border-radius: 0.35em;\">\n",
       "    Sebastian Thrun\n",
       "    <span style=\"font-size: 0.8em; font-weight: bold; line-height: 1; border-radius: 0.35em; vertical-align: middle; margin-left: 0.5rem\">PERSON</span>\n",
       "</mark>\n",
       " started working on self-driving cars at \n",
       "<mark class=\"entity\" style=\"background: #7aecec; padding: 0.45em 0.6em; margin: 0 0.25em; line-height: 1; border-radius: 0.35em;\">\n",
       "    Google\n",
       "    <span style=\"font-size: 0.8em; font-weight: bold; line-height: 1; border-radius: 0.35em; vertical-align: middle; margin-left: 0.5rem\">ORG</span>\n",
       "</mark>\n",
       " in \n",
       "<mark class=\"entity\" style=\"background: #bfe1d9; padding: 0.45em 0.6em; margin: 0 0.25em; line-height: 1; border-radius: 0.35em;\">\n",
       "    2007\n",
       "    <span style=\"font-size: 0.8em; font-weight: bold; line-height: 1; border-radius: 0.35em; vertical-align: middle; margin-left: 0.5rem\">DATE</span>\n",
       "</mark>\n",
       ", few people outside of \n",
       "<mark class=\"entity\" style=\"background: #7aecec; padding: 0.45em 0.6em; margin: 0 0.25em; line-height: 1; border-radius: 0.35em;\">\n",
       "    Google\n",
       "    <span style=\"font-size: 0.8em; font-weight: bold; line-height: 1; border-radius: 0.35em; vertical-align: middle; margin-left: 0.5rem\">ORG</span>\n",
       "</mark>\n",
       " in \n",
       "<mark class=\"entity\" style=\"background: #feca74; padding: 0.45em 0.6em; margin: 0 0.25em; line-height: 1; border-radius: 0.35em;\">\n",
       "    Sebastian Thrun\n",
       "    <span style=\"font-size: 0.8em; font-weight: bold; line-height: 1; border-radius: 0.35em; vertical-align: middle; margin-left: 0.5rem\">GPE</span>\n",
       "</mark>\n",
       " started .</div></span>"
      ],
      "text/plain": [
       "<IPython.core.display.HTML object>"
      ]
     },
     "metadata": {},
     "output_type": "display_data"
    }
   ],
   "source": [
    "msg.info(\"NER looking good too!\")\n",
    "displacy.render(resolved_doc, style=\"ent\")"
   ]
  },
  {
   "cell_type": "code",
   "execution_count": null,
   "metadata": {},
   "outputs": [],
   "source": []
  }
 ],
 "metadata": {
  "kernelspec": {
   "display_name": "hanhwa",
   "language": "python",
   "name": "python3"
  },
  "language_info": {
   "codemirror_mode": {
    "name": "ipython",
    "version": 3
   },
   "file_extension": ".py",
   "mimetype": "text/x-python",
   "name": "python",
   "nbconvert_exporter": "python",
   "pygments_lexer": "ipython3",
   "version": "3.9.19"
  }
 },
 "nbformat": 4,
 "nbformat_minor": 2
}
