{
 "cells": [
  {
   "cell_type": "code",
   "execution_count": 1,
   "id": "f00f8648-2087-4ceb-9538-1032aebd573e",
   "metadata": {},
   "outputs": [],
   "source": [
    "import spacy\n",
    "import spacy_experimental"
   ]
  },
  {
   "cell_type": "markdown",
   "id": "46d3363d-409c-43a8-a5dc-ae54f739183a",
   "metadata": {},
   "source": [
    "# First Example without Heads"
   ]
  },
  {
   "cell_type": "code",
   "execution_count": 2,
   "id": "bd192c55-6feb-4122-ba96-605c1cfd138a",
   "metadata": {},
   "outputs": [
    {
     "name": "stdout",
     "output_type": "stream",
     "text": [
      "Collecting spacy-experimental\n",
      "  Downloading spacy_experimental-0.6.4-cp38-cp38-macosx_10_9_x86_64.whl (719 kB)\n",
      "\u001b[2K     \u001b[90m━━━━━━━━━━━━━━━━━━━━━━━━━━━━━━━━━━━━━━\u001b[0m \u001b[32m719.2/719.2 kB\u001b[0m \u001b[31m14.8 MB/s\u001b[0m eta \u001b[36m0:00:00\u001b[0ma \u001b[36m0:00:01\u001b[0m\n",
      "\u001b[?25hCollecting spacy<3.8.0,>=3.3.0\n",
      "  Using cached spacy-3.7.6-cp38-cp38-macosx_10_9_x86_64.whl\n",
      "Requirement already satisfied: numpy>=1.15.0 in /Users/minjoo/opt/anaconda3/envs/hanhwa/lib/python3.8/site-packages (from spacy-experimental) (1.24.4)\n",
      "Requirement already satisfied: packaging>=20.0 in /Users/minjoo/opt/anaconda3/envs/hanhwa/lib/python3.8/site-packages (from spacy<3.8.0,>=3.3.0->spacy-experimental) (21.3)\n",
      "Requirement already satisfied: setuptools in /Users/minjoo/opt/anaconda3/envs/hanhwa/lib/python3.8/site-packages (from spacy<3.8.0,>=3.3.0->spacy-experimental) (59.8.0)\n",
      "Collecting srsly<3.0.0,>=2.4.3\n",
      "  Downloading srsly-2.4.8-cp38-cp38-macosx_10_9_x86_64.whl (490 kB)\n",
      "\u001b[2K     \u001b[90m━━━━━━━━━━━━━━━━━━━━━━━━━━━━━━━━━━━━━━\u001b[0m \u001b[32m490.9/490.9 kB\u001b[0m \u001b[31m13.1 MB/s\u001b[0m eta \u001b[36m0:00:00\u001b[0m\n",
      "\u001b[?25hRequirement already satisfied: requests<3.0.0,>=2.13.0 in /Users/minjoo/opt/anaconda3/envs/hanhwa/lib/python3.8/site-packages (from spacy<3.8.0,>=3.3.0->spacy-experimental) (2.28.1)\n",
      "Collecting weasel<0.5.0,>=0.1.0\n",
      "  Downloading weasel-0.4.1-py3-none-any.whl (50 kB)\n",
      "\u001b[2K     \u001b[90m━━━━━━━━━━━━━━━━━━━━━━━━━━━━━━━━━━━━━━━━\u001b[0m \u001b[32m50.3/50.3 kB\u001b[0m \u001b[31m7.1 MB/s\u001b[0m eta \u001b[36m0:00:00\u001b[0m\n",
      "\u001b[?25hRequirement already satisfied: preshed<3.1.0,>=3.0.2 in /Users/minjoo/opt/anaconda3/envs/hanhwa/lib/python3.8/site-packages (from spacy<3.8.0,>=3.3.0->spacy-experimental) (3.0.8)\n",
      "Collecting spacy-loggers<2.0.0,>=1.0.0\n",
      "  Downloading spacy_loggers-1.0.5-py3-none-any.whl (22 kB)\n",
      "Collecting spacy-legacy<3.1.0,>=3.0.11\n",
      "  Downloading spacy_legacy-3.0.12-py2.py3-none-any.whl (29 kB)\n",
      "Requirement already satisfied: murmurhash<1.1.0,>=0.28.0 in /Users/minjoo/opt/anaconda3/envs/hanhwa/lib/python3.8/site-packages (from spacy<3.8.0,>=3.3.0->spacy-experimental) (1.0.9)\n",
      "Requirement already satisfied: jinja2 in /Users/minjoo/opt/anaconda3/envs/hanhwa/lib/python3.8/site-packages (from spacy<3.8.0,>=3.3.0->spacy-experimental) (3.0.3)\n",
      "Requirement already satisfied: wasabi<1.2.0,>=0.9.1 in /Users/minjoo/opt/anaconda3/envs/hanhwa/lib/python3.8/site-packages (from spacy<3.8.0,>=3.3.0->spacy-experimental) (0.10.1)\n",
      "Collecting langcodes<4.0.0,>=3.2.0\n",
      "  Downloading langcodes-3.4.0-py3-none-any.whl (182 kB)\n",
      "\u001b[2K     \u001b[90m━━━━━━━━━━━━━━━━━━━━━━━━━━━━━━━━━━━━━━\u001b[0m \u001b[32m182.0/182.0 kB\u001b[0m \u001b[31m17.0 MB/s\u001b[0m eta \u001b[36m0:00:00\u001b[0m\n",
      "\u001b[?25hRequirement already satisfied: pydantic!=1.8,!=1.8.1,<3.0.0,>=1.7.4 in /Users/minjoo/opt/anaconda3/envs/hanhwa/lib/python3.8/site-packages (from spacy<3.8.0,>=3.3.0->spacy-experimental) (1.9.2)\n",
      "Collecting catalogue<2.1.0,>=2.0.6\n",
      "  Downloading catalogue-2.0.10-py3-none-any.whl (17 kB)\n",
      "Collecting thinc<8.3.0,>=8.2.2\n",
      "  Using cached thinc-8.2.5-cp38-cp38-macosx_10_9_x86_64.whl\n",
      "Collecting typer<1.0.0,>=0.3.0\n",
      "  Downloading typer-0.12.5-py3-none-any.whl (47 kB)\n",
      "\u001b[2K     \u001b[90m━━━━━━━━━━━━━━━━━━━━━━━━━━━━━━━━━━━━━━━━\u001b[0m \u001b[32m47.3/47.3 kB\u001b[0m \u001b[31m4.8 MB/s\u001b[0m eta \u001b[36m0:00:00\u001b[0m\n",
      "\u001b[?25hRequirement already satisfied: tqdm<5.0.0,>=4.38.0 in /Users/minjoo/opt/anaconda3/envs/hanhwa/lib/python3.8/site-packages (from spacy<3.8.0,>=3.3.0->spacy-experimental) (4.56.0)\n",
      "Requirement already satisfied: cymem<2.1.0,>=2.0.2 in /Users/minjoo/opt/anaconda3/envs/hanhwa/lib/python3.8/site-packages (from spacy<3.8.0,>=3.3.0->spacy-experimental) (2.0.7)\n",
      "Collecting language-data>=1.2\n",
      "  Downloading language_data-1.2.0-py3-none-any.whl (5.4 MB)\n",
      "\u001b[2K     \u001b[90m━━━━━━━━━━━━━━━━━━━━━━━━━━━━━━━━━━━━━━━━\u001b[0m \u001b[32m5.4/5.4 MB\u001b[0m \u001b[31m20.5 MB/s\u001b[0m eta \u001b[36m0:00:00\u001b[0m00:01\u001b[0m00:01\u001b[0m\n",
      "\u001b[?25hRequirement already satisfied: pyparsing!=3.0.5,>=2.0.2 in /Users/minjoo/opt/anaconda3/envs/hanhwa/lib/python3.8/site-packages (from packaging>=20.0->spacy<3.8.0,>=3.3.0->spacy-experimental) (3.0.9)\n",
      "Requirement already satisfied: typing-extensions>=3.7.4.3 in /Users/minjoo/opt/anaconda3/envs/hanhwa/lib/python3.8/site-packages (from pydantic!=1.8,!=1.8.1,<3.0.0,>=1.7.4->spacy<3.8.0,>=3.3.0->spacy-experimental) (4.12.2)\n",
      "Requirement already satisfied: idna<4,>=2.5 in /Users/minjoo/opt/anaconda3/envs/hanhwa/lib/python3.8/site-packages (from requests<3.0.0,>=2.13.0->spacy<3.8.0,>=3.3.0->spacy-experimental) (3.3)\n",
      "Requirement already satisfied: urllib3<1.27,>=1.21.1 in /Users/minjoo/opt/anaconda3/envs/hanhwa/lib/python3.8/site-packages (from requests<3.0.0,>=2.13.0->spacy<3.8.0,>=3.3.0->spacy-experimental) (1.26.11)\n",
      "Requirement already satisfied: charset-normalizer<3,>=2 in /Users/minjoo/opt/anaconda3/envs/hanhwa/lib/python3.8/site-packages (from requests<3.0.0,>=2.13.0->spacy<3.8.0,>=3.3.0->spacy-experimental) (2.0.4)\n",
      "Requirement already satisfied: certifi>=2017.4.17 in /Users/minjoo/opt/anaconda3/envs/hanhwa/lib/python3.8/site-packages (from requests<3.0.0,>=2.13.0->spacy<3.8.0,>=3.3.0->spacy-experimental) (2022.9.24)\n",
      "Requirement already satisfied: blis<0.8.0,>=0.7.8 in /Users/minjoo/opt/anaconda3/envs/hanhwa/lib/python3.8/site-packages (from thinc<8.3.0,>=8.2.2->spacy<3.8.0,>=3.3.0->spacy-experimental) (0.7.8)\n",
      "Collecting confection<1.0.0,>=0.0.1\n",
      "  Downloading confection-0.1.5-py3-none-any.whl (35 kB)\n",
      "Collecting rich>=10.11.0\n",
      "  Downloading rich-13.8.0-py3-none-any.whl (241 kB)\n",
      "\u001b[2K     \u001b[90m━━━━━━━━━━━━━━━━━━━━━━━━━━━━━━━━━━━━━━\u001b[0m \u001b[32m241.6/241.6 kB\u001b[0m \u001b[31m16.6 MB/s\u001b[0m eta \u001b[36m0:00:00\u001b[0m\n",
      "\u001b[?25hRequirement already satisfied: click>=8.0.0 in /Users/minjoo/opt/anaconda3/envs/hanhwa/lib/python3.8/site-packages (from typer<1.0.0,>=0.3.0->spacy<3.8.0,>=3.3.0->spacy-experimental) (8.0.4)\n",
      "Collecting shellingham>=1.3.0\n",
      "  Downloading shellingham-1.5.4-py2.py3-none-any.whl (9.8 kB)\n",
      "Collecting cloudpathlib<1.0.0,>=0.7.0\n",
      "  Downloading cloudpathlib-0.19.0-py3-none-any.whl (49 kB)\n",
      "\u001b[2K     \u001b[90m━━━━━━━━━━━━━━━━━━━━━━━━━━━━━━━━━━━━━━━━\u001b[0m \u001b[32m49.4/49.4 kB\u001b[0m \u001b[31m7.7 MB/s\u001b[0m eta \u001b[36m0:00:00\u001b[0m\n",
      "\u001b[?25hRequirement already satisfied: smart-open<8.0.0,>=5.2.1 in /Users/minjoo/opt/anaconda3/envs/hanhwa/lib/python3.8/site-packages (from weasel<0.5.0,>=0.1.0->spacy<3.8.0,>=3.3.0->spacy-experimental) (6.2.0)\n",
      "Requirement already satisfied: MarkupSafe>=2.0 in /Users/minjoo/opt/anaconda3/envs/hanhwa/lib/python3.8/site-packages (from jinja2->spacy<3.8.0,>=3.3.0->spacy-experimental) (2.1.1)\n",
      "Collecting marisa-trie>=0.7.7\n",
      "  Downloading marisa_trie-1.2.0-cp38-cp38-macosx_10_9_x86_64.whl (191 kB)\n",
      "\u001b[2K     \u001b[90m━━━━━━━━━━━━━━━━━━━━━━━━━━━━━━━━━━━━━━\u001b[0m \u001b[32m191.4/191.4 kB\u001b[0m \u001b[31m18.9 MB/s\u001b[0m eta \u001b[36m0:00:00\u001b[0m\n",
      "\u001b[?25hCollecting markdown-it-py>=2.2.0\n",
      "  Downloading markdown_it_py-3.0.0-py3-none-any.whl (87 kB)\n",
      "\u001b[2K     \u001b[90m━━━━━━━━━━━━━━━━━━━━━━━━━━━━━━━━━━━━━━━━\u001b[0m \u001b[32m87.5/87.5 kB\u001b[0m \u001b[31m10.9 MB/s\u001b[0m eta \u001b[36m0:00:00\u001b[0m\n",
      "\u001b[?25hCollecting pygments<3.0.0,>=2.13.0\n",
      "  Downloading pygments-2.18.0-py3-none-any.whl (1.2 MB)\n",
      "\u001b[2K     \u001b[90m━━━━━━━━━━━━━━━━━━━━━━━━━━━━━━━━━━━━━━━━\u001b[0m \u001b[32m1.2/1.2 MB\u001b[0m \u001b[31m41.4 MB/s\u001b[0m eta \u001b[36m0:00:00\u001b[0m\n",
      "\u001b[?25hRequirement already satisfied: mdurl~=0.1 in /Users/minjoo/opt/anaconda3/envs/hanhwa/lib/python3.8/site-packages (from markdown-it-py>=2.2.0->rich>=10.11.0->typer<1.0.0,>=0.3.0->spacy<3.8.0,>=3.3.0->spacy-experimental) (0.1.2)\n",
      "Installing collected packages: spacy-loggers, spacy-legacy, shellingham, pygments, markdown-it-py, marisa-trie, cloudpathlib, catalogue, srsly, rich, language-data, typer, langcodes, confection, weasel, thinc, spacy, spacy-experimental\n",
      "  Attempting uninstall: pygments\n",
      "    Found existing installation: Pygments 2.11.2\n",
      "    Uninstalling Pygments-2.11.2:\n",
      "      Successfully uninstalled Pygments-2.11.2\n",
      "  Attempting uninstall: markdown-it-py\n",
      "    Found existing installation: markdown-it-py 2.1.0\n",
      "    Uninstalling markdown-it-py-2.1.0:\n",
      "      Successfully uninstalled markdown-it-py-2.1.0\n",
      "  Attempting uninstall: catalogue\n",
      "    Found existing installation: catalogue 1.0.1\n",
      "    Uninstalling catalogue-1.0.1:\n",
      "      Successfully uninstalled catalogue-1.0.1\n",
      "  Attempting uninstall: srsly\n",
      "    Found existing installation: srsly 1.0.5\n",
      "    Uninstalling srsly-1.0.5:\n",
      "      Successfully uninstalled srsly-1.0.5\n",
      "  Attempting uninstall: thinc\n",
      "    Found existing installation: thinc 7.4.5\n",
      "    Uninstalling thinc-7.4.5:\n",
      "      Successfully uninstalled thinc-7.4.5\n",
      "  Attempting uninstall: spacy\n",
      "    Found existing installation: spacy 2.3.7\n",
      "    Uninstalling spacy-2.3.7:\n",
      "      Successfully uninstalled spacy-2.3.7\n",
      "\u001b[31mERROR: pip's dependency resolver does not currently take into account all the packages that are installed. This behaviour is the source of the following dependency conflicts.\n",
      "pycaret 2.3.10 requires spacy<2.4.0, but you have spacy 3.7.6 which is incompatible.\n",
      "mdit-py-plugins 0.3.1 requires markdown-it-py<3.0.0,>=1.0.0, but you have markdown-it-py 3.0.0 which is incompatible.\n",
      "en-core-web-sm 2.3.1 requires spacy<2.4.0,>=2.3.0, but you have spacy 3.7.6 which is incompatible.\n",
      "en-core-web-md 2.3.1 requires spacy<2.4.0,>=2.3.0, but you have spacy 3.7.6 which is incompatible.\n",
      "en-core-web-lg 2.3.1 requires spacy<2.4.0,>=2.3.0, but you have spacy 3.7.6 which is incompatible.\u001b[0m\u001b[31m\n",
      "\u001b[0mSuccessfully installed catalogue-2.0.10 cloudpathlib-0.19.0 confection-0.1.5 langcodes-3.4.0 language-data-1.2.0 marisa-trie-1.2.0 markdown-it-py-3.0.0 pygments-2.18.0 rich-13.8.0 shellingham-1.5.4 spacy-3.7.6 spacy-experimental-0.6.4 spacy-legacy-3.0.12 spacy-loggers-1.0.5 srsly-2.4.8 thinc-8.2.5 typer-0.12.5 weasel-0.4.1\n"
     ]
    }
   ],
   "source": [
    "!pip install spacy-experimental"
   ]
  },
  {
   "cell_type": "code",
   "execution_count": 3,
   "id": "4b02bb44-ff78-4714-b081-84a3f4df92a5",
   "metadata": {},
   "outputs": [
    {
     "name": "stdout",
     "output_type": "stream",
     "text": [
      "Name: spacy\n",
      "Version: 3.7.6\n",
      "Summary: Industrial-strength Natural Language Processing (NLP) in Python\n",
      "Home-page: https://spacy.io\n",
      "Author: Explosion\n",
      "Author-email: contact@explosion.ai\n",
      "License: MIT\n",
      "Location: /Users/minjoo/opt/anaconda3/envs/hanhwa/lib/python3.8/site-packages\n",
      "Requires: catalogue, cymem, jinja2, langcodes, murmurhash, numpy, packaging, preshed, pydantic, requests, setuptools, spacy-legacy, spacy-loggers, srsly, thinc, tqdm, typer, wasabi, weasel\n",
      "Required-by: en-core-web-lg, en-core-web-sm, en_core_web_md, neuralcoref, pycaret, spacy-experimental\n"
     ]
    }
   ],
   "source": [
    "!pip show spacy"
   ]
  },
  {
   "cell_type": "code",
   "execution_count": 4,
   "id": "2c8c38ef-5d2b-4f65-bff0-b7163d52220f",
   "metadata": {},
   "outputs": [
    {
     "name": "stdout",
     "output_type": "stream",
     "text": [
      "Collecting en-coreference-web-trf==3.4.0a0\n",
      "  Downloading https://github.com/explosion/spacy-experimental/releases/download/v0.6.0/en_coreference_web_trf-3.4.0a0-py3-none-any.whl (490.3 MB)\n",
      "\u001b[2K     \u001b[90m━━━━━━━━━━━━━━━━━━━━━━━━━━━━━━━━━━━━━━━\u001b[0m \u001b[32m490.3/490.3 MB\u001b[0m \u001b[31m3.5 MB/s\u001b[0m eta \u001b[36m0:00:00\u001b[0m00:01\u001b[0m00:03\u001b[0m\n",
      "\u001b[?25hCollecting spacy-transformers<1.2.0,>=1.1.2\n",
      "  Downloading spacy_transformers-1.1.9-py2.py3-none-any.whl (53 kB)\n",
      "\u001b[2K     \u001b[90m━━━━━━━━━━━━━━━━━━━━━━━━━━━━━━━━━━━━━━━━\u001b[0m \u001b[32m53.5/53.5 kB\u001b[0m \u001b[31m4.4 MB/s\u001b[0m eta \u001b[36m0:00:00\u001b[0m\n",
      "\u001b[?25hCollecting spacy<3.5.0,>=3.3.0\n",
      "  Downloading spacy-3.4.4-cp38-cp38-macosx_10_9_x86_64.whl (6.6 MB)\n",
      "\u001b[2K     \u001b[90m━━━━━━━━━━━━━━━━━━━━━━━━━━━━━━━━━━━━━━━━\u001b[0m \u001b[32m6.6/6.6 MB\u001b[0m \u001b[31m51.2 MB/s\u001b[0m eta \u001b[36m0:00:00\u001b[0m00:01\u001b[0m00:01\u001b[0m\n",
      "\u001b[?25hRequirement already satisfied: spacy-experimental<0.7.0,>=0.6.0 in /Users/minjoo/opt/anaconda3/envs/hanhwa/lib/python3.8/site-packages (from en-coreference-web-trf==3.4.0a0) (0.6.4)\n",
      "Requirement already satisfied: jinja2 in /Users/minjoo/opt/anaconda3/envs/hanhwa/lib/python3.8/site-packages (from spacy<3.5.0,>=3.3.0->en-coreference-web-trf==3.4.0a0) (3.0.3)\n",
      "Requirement already satisfied: smart-open<7.0.0,>=5.2.1 in /Users/minjoo/opt/anaconda3/envs/hanhwa/lib/python3.8/site-packages (from spacy<3.5.0,>=3.3.0->en-coreference-web-trf==3.4.0a0) (6.2.0)\n",
      "Requirement already satisfied: murmurhash<1.1.0,>=0.28.0 in /Users/minjoo/opt/anaconda3/envs/hanhwa/lib/python3.8/site-packages (from spacy<3.5.0,>=3.3.0->en-coreference-web-trf==3.4.0a0) (1.0.9)\n",
      "Collecting pathy>=0.3.5\n",
      "  Downloading pathy-0.11.0-py3-none-any.whl (47 kB)\n",
      "\u001b[2K     \u001b[90m━━━━━━━━━━━━━━━━━━━━━━━━━━━━━━━━━━━━━━━━\u001b[0m \u001b[32m47.3/47.3 kB\u001b[0m \u001b[31m5.1 MB/s\u001b[0m eta \u001b[36m0:00:00\u001b[0m\n",
      "\u001b[?25hRequirement already satisfied: requests<3.0.0,>=2.13.0 in /Users/minjoo/opt/anaconda3/envs/hanhwa/lib/python3.8/site-packages (from spacy<3.5.0,>=3.3.0->en-coreference-web-trf==3.4.0a0) (2.28.1)\n",
      "Requirement already satisfied: langcodes<4.0.0,>=3.2.0 in /Users/minjoo/opt/anaconda3/envs/hanhwa/lib/python3.8/site-packages (from spacy<3.5.0,>=3.3.0->en-coreference-web-trf==3.4.0a0) (3.4.0)\n",
      "Requirement already satisfied: spacy-legacy<3.1.0,>=3.0.10 in /Users/minjoo/opt/anaconda3/envs/hanhwa/lib/python3.8/site-packages (from spacy<3.5.0,>=3.3.0->en-coreference-web-trf==3.4.0a0) (3.0.12)\n",
      "Collecting typer<0.8.0,>=0.3.0\n",
      "  Downloading typer-0.7.0-py3-none-any.whl (38 kB)\n",
      "Requirement already satisfied: preshed<3.1.0,>=3.0.2 in /Users/minjoo/opt/anaconda3/envs/hanhwa/lib/python3.8/site-packages (from spacy<3.5.0,>=3.3.0->en-coreference-web-trf==3.4.0a0) (3.0.8)\n",
      "Requirement already satisfied: catalogue<2.1.0,>=2.0.6 in /Users/minjoo/opt/anaconda3/envs/hanhwa/lib/python3.8/site-packages (from spacy<3.5.0,>=3.3.0->en-coreference-web-trf==3.4.0a0) (2.0.10)\n",
      "Requirement already satisfied: setuptools in /Users/minjoo/opt/anaconda3/envs/hanhwa/lib/python3.8/site-packages (from spacy<3.5.0,>=3.3.0->en-coreference-web-trf==3.4.0a0) (59.8.0)\n",
      "Requirement already satisfied: cymem<2.1.0,>=2.0.2 in /Users/minjoo/opt/anaconda3/envs/hanhwa/lib/python3.8/site-packages (from spacy<3.5.0,>=3.3.0->en-coreference-web-trf==3.4.0a0) (2.0.7)\n",
      "Requirement already satisfied: numpy>=1.15.0 in /Users/minjoo/opt/anaconda3/envs/hanhwa/lib/python3.8/site-packages (from spacy<3.5.0,>=3.3.0->en-coreference-web-trf==3.4.0a0) (1.24.4)\n",
      "Requirement already satisfied: packaging>=20.0 in /Users/minjoo/opt/anaconda3/envs/hanhwa/lib/python3.8/site-packages (from spacy<3.5.0,>=3.3.0->en-coreference-web-trf==3.4.0a0) (21.3)\n",
      "Requirement already satisfied: srsly<3.0.0,>=2.4.3 in /Users/minjoo/opt/anaconda3/envs/hanhwa/lib/python3.8/site-packages (from spacy<3.5.0,>=3.3.0->en-coreference-web-trf==3.4.0a0) (2.4.8)\n",
      "Requirement already satisfied: spacy-loggers<2.0.0,>=1.0.0 in /Users/minjoo/opt/anaconda3/envs/hanhwa/lib/python3.8/site-packages (from spacy<3.5.0,>=3.3.0->en-coreference-web-trf==3.4.0a0) (1.0.5)\n",
      "Collecting thinc<8.2.0,>=8.1.0\n",
      "  Downloading thinc-8.1.12-cp38-cp38-macosx_10_9_x86_64.whl (857 kB)\n",
      "\u001b[2K     \u001b[90m━━━━━━━━━━━━━━━━━━━━━━━━━━━━━━━━━━━━━━\u001b[0m \u001b[32m857.6/857.6 kB\u001b[0m \u001b[31m37.2 MB/s\u001b[0m eta \u001b[36m0:00:00\u001b[0m\n",
      "\u001b[?25hRequirement already satisfied: wasabi<1.1.0,>=0.9.1 in /Users/minjoo/opt/anaconda3/envs/hanhwa/lib/python3.8/site-packages (from spacy<3.5.0,>=3.3.0->en-coreference-web-trf==3.4.0a0) (0.10.1)\n",
      "Requirement already satisfied: tqdm<5.0.0,>=4.38.0 in /Users/minjoo/opt/anaconda3/envs/hanhwa/lib/python3.8/site-packages (from spacy<3.5.0,>=3.3.0->en-coreference-web-trf==3.4.0a0) (4.56.0)\n",
      "Requirement already satisfied: pydantic!=1.8,!=1.8.1,<1.11.0,>=1.7.4 in /Users/minjoo/opt/anaconda3/envs/hanhwa/lib/python3.8/site-packages (from spacy<3.5.0,>=3.3.0->en-coreference-web-trf==3.4.0a0) (1.9.2)\n",
      "Collecting spacy-alignments<1.0.0,>=0.7.2\n",
      "  Downloading spacy_alignments-0.9.1-cp38-cp38-macosx_10_9_x86_64.whl (312 kB)\n",
      "\u001b[2K     \u001b[90m━━━━━━━━━━━━━━━━━━━━━━━━━━━━━━━━━━━━━━\u001b[0m \u001b[32m312.0/312.0 kB\u001b[0m \u001b[31m15.1 MB/s\u001b[0m eta \u001b[36m0:00:00\u001b[0m\n",
      "\u001b[?25hCollecting transformers<4.26.0,>=3.4.0\n",
      "  Downloading transformers-4.25.1-py3-none-any.whl (5.8 MB)\n",
      "\u001b[2K     \u001b[90m━━━━━━━━━━━━━━━━━━━━━━━━━━━━━━━━━━━━━━━━\u001b[0m \u001b[32m5.8/5.8 MB\u001b[0m \u001b[31m20.9 MB/s\u001b[0m eta \u001b[36m0:00:00\u001b[0m00:01\u001b[0m00:01\u001b[0m\n",
      "\u001b[?25hRequirement already satisfied: torch>=1.6.0 in /Users/minjoo/opt/anaconda3/envs/hanhwa/lib/python3.8/site-packages (from spacy-transformers<1.2.0,>=1.1.2->en-coreference-web-trf==3.4.0a0) (2.2.2)\n",
      "Requirement already satisfied: language-data>=1.2 in /Users/minjoo/opt/anaconda3/envs/hanhwa/lib/python3.8/site-packages (from langcodes<4.0.0,>=3.2.0->spacy<3.5.0,>=3.3.0->en-coreference-web-trf==3.4.0a0) (1.2.0)\n",
      "Requirement already satisfied: pyparsing!=3.0.5,>=2.0.2 in /Users/minjoo/opt/anaconda3/envs/hanhwa/lib/python3.8/site-packages (from packaging>=20.0->spacy<3.5.0,>=3.3.0->en-coreference-web-trf==3.4.0a0) (3.0.9)\n",
      "Collecting pathlib-abc==0.1.1\n",
      "  Downloading pathlib_abc-0.1.1-py3-none-any.whl (23 kB)\n",
      "Requirement already satisfied: typing-extensions>=3.7.4.3 in /Users/minjoo/opt/anaconda3/envs/hanhwa/lib/python3.8/site-packages (from pydantic!=1.8,!=1.8.1,<1.11.0,>=1.7.4->spacy<3.5.0,>=3.3.0->en-coreference-web-trf==3.4.0a0) (4.12.2)\n",
      "Requirement already satisfied: certifi>=2017.4.17 in /Users/minjoo/opt/anaconda3/envs/hanhwa/lib/python3.8/site-packages (from requests<3.0.0,>=2.13.0->spacy<3.5.0,>=3.3.0->en-coreference-web-trf==3.4.0a0) (2022.9.24)\n",
      "Requirement already satisfied: charset-normalizer<3,>=2 in /Users/minjoo/opt/anaconda3/envs/hanhwa/lib/python3.8/site-packages (from requests<3.0.0,>=2.13.0->spacy<3.5.0,>=3.3.0->en-coreference-web-trf==3.4.0a0) (2.0.4)\n",
      "Requirement already satisfied: urllib3<1.27,>=1.21.1 in /Users/minjoo/opt/anaconda3/envs/hanhwa/lib/python3.8/site-packages (from requests<3.0.0,>=2.13.0->spacy<3.5.0,>=3.3.0->en-coreference-web-trf==3.4.0a0) (1.26.11)\n",
      "Requirement already satisfied: idna<4,>=2.5 in /Users/minjoo/opt/anaconda3/envs/hanhwa/lib/python3.8/site-packages (from requests<3.0.0,>=2.13.0->spacy<3.5.0,>=3.3.0->en-coreference-web-trf==3.4.0a0) (3.3)\n",
      "Requirement already satisfied: blis<0.8.0,>=0.7.8 in /Users/minjoo/opt/anaconda3/envs/hanhwa/lib/python3.8/site-packages (from thinc<8.2.0,>=8.1.0->spacy<3.5.0,>=3.3.0->en-coreference-web-trf==3.4.0a0) (0.7.8)\n",
      "Requirement already satisfied: confection<1.0.0,>=0.0.1 in /Users/minjoo/opt/anaconda3/envs/hanhwa/lib/python3.8/site-packages (from thinc<8.2.0,>=8.1.0->spacy<3.5.0,>=3.3.0->en-coreference-web-trf==3.4.0a0) (0.1.5)\n",
      "Requirement already satisfied: networkx in /Users/minjoo/opt/anaconda3/envs/hanhwa/lib/python3.8/site-packages (from torch>=1.6.0->spacy-transformers<1.2.0,>=1.1.2->en-coreference-web-trf==3.4.0a0) (2.8.7)\n",
      "Requirement already satisfied: filelock in /Users/minjoo/opt/anaconda3/envs/hanhwa/lib/python3.8/site-packages (from torch>=1.6.0->spacy-transformers<1.2.0,>=1.1.2->en-coreference-web-trf==3.4.0a0) (3.8.0)\n",
      "Requirement already satisfied: fsspec in /Users/minjoo/opt/anaconda3/envs/hanhwa/lib/python3.8/site-packages (from torch>=1.6.0->spacy-transformers<1.2.0,>=1.1.2->en-coreference-web-trf==3.4.0a0) (2024.9.0)\n",
      "Requirement already satisfied: sympy in /Users/minjoo/opt/anaconda3/envs/hanhwa/lib/python3.8/site-packages (from torch>=1.6.0->spacy-transformers<1.2.0,>=1.1.2->en-coreference-web-trf==3.4.0a0) (1.13.2)\n",
      "Requirement already satisfied: regex!=2019.12.17 in /Users/minjoo/opt/anaconda3/envs/hanhwa/lib/python3.8/site-packages (from transformers<4.26.0,>=3.4.0->spacy-transformers<1.2.0,>=1.1.2->en-coreference-web-trf==3.4.0a0) (2022.9.13)\n",
      "Requirement already satisfied: pyyaml>=5.1 in /Users/minjoo/opt/anaconda3/envs/hanhwa/lib/python3.8/site-packages (from transformers<4.26.0,>=3.4.0->spacy-transformers<1.2.0,>=1.1.2->en-coreference-web-trf==3.4.0a0) (5.3.1)\n",
      "Collecting tokenizers!=0.11.3,<0.14,>=0.11.1\n",
      "  Downloading tokenizers-0.13.3-cp38-cp38-macosx_10_11_x86_64.whl (4.0 MB)\n",
      "\u001b[2K     \u001b[90m━━━━━━━━━━━━━━━━━━━━━━━━━━━━━━━━━━━━━━━━\u001b[0m \u001b[32m4.0/4.0 MB\u001b[0m \u001b[31m21.4 MB/s\u001b[0m eta \u001b[36m0:00:00\u001b[0ma \u001b[36m0:00:01\u001b[0m\n",
      "\u001b[?25hRequirement already satisfied: huggingface-hub<1.0,>=0.10.0 in /Users/minjoo/opt/anaconda3/envs/hanhwa/lib/python3.8/site-packages (from transformers<4.26.0,>=3.4.0->spacy-transformers<1.2.0,>=1.1.2->en-coreference-web-trf==3.4.0a0) (0.24.6)\n",
      "Requirement already satisfied: click<9.0.0,>=7.1.1 in /Users/minjoo/opt/anaconda3/envs/hanhwa/lib/python3.8/site-packages (from typer<0.8.0,>=0.3.0->spacy<3.5.0,>=3.3.0->en-coreference-web-trf==3.4.0a0) (8.0.4)\n",
      "Requirement already satisfied: MarkupSafe>=2.0 in /Users/minjoo/opt/anaconda3/envs/hanhwa/lib/python3.8/site-packages (from jinja2->spacy<3.5.0,>=3.3.0->en-coreference-web-trf==3.4.0a0) (2.1.1)\n",
      "Requirement already satisfied: marisa-trie>=0.7.7 in /Users/minjoo/opt/anaconda3/envs/hanhwa/lib/python3.8/site-packages (from language-data>=1.2->langcodes<4.0.0,>=3.2.0->spacy<3.5.0,>=3.3.0->en-coreference-web-trf==3.4.0a0) (1.2.0)\n",
      "Requirement already satisfied: mpmath<1.4,>=1.1.0 in /Users/minjoo/opt/anaconda3/envs/hanhwa/lib/python3.8/site-packages (from sympy->torch>=1.6.0->spacy-transformers<1.2.0,>=1.1.2->en-coreference-web-trf==3.4.0a0) (1.3.0)\n",
      "Installing collected packages: tokenizers, typer, spacy-alignments, pathlib-abc, pathy, transformers, thinc, spacy, spacy-transformers, en-coreference-web-trf\n",
      "  Attempting uninstall: tokenizers\n",
      "    Found existing installation: tokenizers 0.19.1\n",
      "    Uninstalling tokenizers-0.19.1:\n",
      "      Successfully uninstalled tokenizers-0.19.1\n",
      "  Attempting uninstall: typer\n",
      "    Found existing installation: typer 0.12.5\n",
      "    Uninstalling typer-0.12.5:\n",
      "      Successfully uninstalled typer-0.12.5\n",
      "  Attempting uninstall: transformers\n",
      "    Found existing installation: transformers 4.44.2\n",
      "    Uninstalling transformers-4.44.2:\n",
      "      Successfully uninstalled transformers-4.44.2\n",
      "  Attempting uninstall: thinc\n",
      "    Found existing installation: thinc 8.2.5\n",
      "    Uninstalling thinc-8.2.5:\n",
      "      Successfully uninstalled thinc-8.2.5\n",
      "  Attempting uninstall: spacy\n",
      "    Found existing installation: spacy 3.7.6\n",
      "    Uninstalling spacy-3.7.6:\n",
      "      Successfully uninstalled spacy-3.7.6\n",
      "\u001b[31mERROR: pip's dependency resolver does not currently take into account all the packages that are installed. This behaviour is the source of the following dependency conflicts.\n",
      "pycaret 2.3.10 requires spacy<2.4.0, but you have spacy 3.4.4 which is incompatible.\n",
      "gliner 0.2.10 requires transformers>=4.38.2, but you have transformers 4.25.1 which is incompatible.\n",
      "en-core-web-sm 2.3.1 requires spacy<2.4.0,>=2.3.0, but you have spacy 3.4.4 which is incompatible.\n",
      "en-core-web-md 2.3.1 requires spacy<2.4.0,>=2.3.0, but you have spacy 3.4.4 which is incompatible.\n",
      "en-core-web-lg 2.3.1 requires spacy<2.4.0,>=2.3.0, but you have spacy 3.4.4 which is incompatible.\u001b[0m\u001b[31m\n",
      "\u001b[0mSuccessfully installed en-coreference-web-trf-3.4.0a0 pathlib-abc-0.1.1 pathy-0.11.0 spacy-3.4.4 spacy-alignments-0.9.1 spacy-transformers-1.1.9 thinc-8.1.12 tokenizers-0.13.3 transformers-4.25.1 typer-0.7.0\n"
     ]
    }
   ],
   "source": [
    "!pip install https://github.com/explosion/spacy-experimental/releases/download/v0.6.0/en_coreference_web_trf-3.4.0a0-py3-none-any.whl#egg=en_coreference_web_trf"
   ]
  },
  {
   "cell_type": "code",
   "execution_count": 2,
   "id": "6f772f61-130e-418d-bfc9-eb75002dcdc4",
   "metadata": {},
   "outputs": [
    {
     "name": "stderr",
     "output_type": "stream",
     "text": [
      "/Users/minjoo/opt/anaconda3/envs/ner/lib/python3.9/site-packages/tqdm/auto.py:21: TqdmWarning: IProgress not found. Please update jupyter and ipywidgets. See https://ipywidgets.readthedocs.io/en/stable/user_install.html\n",
      "  from .autonotebook import tqdm as notebook_tqdm\n"
     ]
    }
   ],
   "source": [
    "nlp = spacy.load(\"en_coreference_web_trf\")"
   ]
  },
  {
   "cell_type": "code",
   "execution_count": 13,
   "id": "1744e69f-d8c9-4128-a472-bffcccde8195",
   "metadata": {},
   "outputs": [],
   "source": [
    "doc = nlp(\"The cats were startled by the dog as it growled at them.\")"
   ]
  },
  {
   "cell_type": "code",
   "execution_count": 14,
   "id": "f86d1e39-7244-4916-9d5e-2a31723ab978",
   "metadata": {},
   "outputs": [
    {
     "data": {
      "text/plain": [
       "{'coref_clusters_1': [the dog as, it growled], 'coref_clusters_2': [The cats were, them.]}"
      ]
     },
     "execution_count": 14,
     "metadata": {},
     "output_type": "execute_result"
    }
   ],
   "source": [
    "doc.spans"
   ]
  },
  {
   "cell_type": "markdown",
   "id": "33816b8e-d0e9-4de6-b934-53a7ed6bd601",
   "metadata": {},
   "source": [
    "# Second Example with Heads"
   ]
  },
  {
   "cell_type": "code",
   "execution_count": 6,
   "id": "f672886f-de3d-4dfb-bd41-0ee1880bd177",
   "metadata": {},
   "outputs": [
    {
     "ename": "OSError",
     "evalue": "[E049] Can't find spaCy data directory: 'None'. Check your installation and permissions, or use spacy.util.set_data_path to customise the location if necessary.",
     "output_type": "error",
     "traceback": [
      "\u001b[0;31m---------------------------------------------------------------------------\u001b[0m",
      "\u001b[0;31mOSError\u001b[0m                                   Traceback (most recent call last)",
      "Input \u001b[0;32mIn [6]\u001b[0m, in \u001b[0;36m<cell line: 1>\u001b[0;34m()\u001b[0m\n\u001b[0;32m----> 1\u001b[0m nlp \u001b[38;5;241m=\u001b[39m \u001b[43mspacy\u001b[49m\u001b[38;5;241;43m.\u001b[39;49m\u001b[43mload\u001b[49m\u001b[43m(\u001b[49m\u001b[38;5;124;43m\"\u001b[39;49m\u001b[38;5;124;43men_core_web_sm\u001b[39;49m\u001b[38;5;124;43m\"\u001b[39;49m\u001b[43m)\u001b[49m\n\u001b[1;32m      2\u001b[0m nlp_coref \u001b[38;5;241m=\u001b[39m spacy\u001b[38;5;241m.\u001b[39mload(\u001b[38;5;124m\"\u001b[39m\u001b[38;5;124men_coreference_web_trf\u001b[39m\u001b[38;5;124m\"\u001b[39m)\n\u001b[1;32m      4\u001b[0m \u001b[38;5;66;03m# use replace_listeners for the coref components\u001b[39;00m\n",
      "File \u001b[0;32m~/opt/anaconda3/envs/hanhwa/lib/python3.8/site-packages/spacy/__init__.py:30\u001b[0m, in \u001b[0;36mload\u001b[0;34m(name, **overrides)\u001b[0m\n\u001b[1;32m     26\u001b[0m \u001b[38;5;28;01mif\u001b[39;00m sys\u001b[38;5;241m.\u001b[39mmaxunicode \u001b[38;5;241m==\u001b[39m \u001b[38;5;241m65535\u001b[39m:\n\u001b[1;32m     27\u001b[0m     \u001b[38;5;28;01mraise\u001b[39;00m \u001b[38;5;167;01mSystemError\u001b[39;00m(Errors\u001b[38;5;241m.\u001b[39mE130)\n\u001b[0;32m---> 30\u001b[0m \u001b[38;5;28;01mdef\u001b[39;00m \u001b[38;5;21mload\u001b[39m(\n\u001b[1;32m     31\u001b[0m     name: Union[\u001b[38;5;28mstr\u001b[39m, Path],\n\u001b[1;32m     32\u001b[0m     \u001b[38;5;241m*\u001b[39m,\n\u001b[1;32m     33\u001b[0m     vocab: Union[Vocab, \u001b[38;5;28mbool\u001b[39m] \u001b[38;5;241m=\u001b[39m \u001b[38;5;28;01mTrue\u001b[39;00m,\n\u001b[1;32m     34\u001b[0m     disable: Union[\u001b[38;5;28mstr\u001b[39m, Iterable[\u001b[38;5;28mstr\u001b[39m]] \u001b[38;5;241m=\u001b[39m util\u001b[38;5;241m.\u001b[39m_DEFAULT_EMPTY_PIPES,\n\u001b[1;32m     35\u001b[0m     enable: Union[\u001b[38;5;28mstr\u001b[39m, Iterable[\u001b[38;5;28mstr\u001b[39m]] \u001b[38;5;241m=\u001b[39m util\u001b[38;5;241m.\u001b[39m_DEFAULT_EMPTY_PIPES,\n\u001b[1;32m     36\u001b[0m     exclude: Union[\u001b[38;5;28mstr\u001b[39m, Iterable[\u001b[38;5;28mstr\u001b[39m]] \u001b[38;5;241m=\u001b[39m util\u001b[38;5;241m.\u001b[39m_DEFAULT_EMPTY_PIPES,\n\u001b[1;32m     37\u001b[0m     config: Union[Dict[\u001b[38;5;28mstr\u001b[39m, Any], Config] \u001b[38;5;241m=\u001b[39m util\u001b[38;5;241m.\u001b[39mSimpleFrozenDict(),\n\u001b[1;32m     38\u001b[0m ) \u001b[38;5;241m-\u001b[39m\u001b[38;5;241m>\u001b[39m Language:\n\u001b[1;32m     39\u001b[0m     \u001b[38;5;124;03m\"\"\"Load a spaCy model from an installed package or a local path.\u001b[39;00m\n\u001b[1;32m     40\u001b[0m \n\u001b[1;32m     41\u001b[0m \u001b[38;5;124;03m    name (str): Package name or model path.\u001b[39;00m\n\u001b[0;32m   (...)\u001b[0m\n\u001b[1;32m     52\u001b[0m \u001b[38;5;124;03m    RETURNS (Language): The loaded nlp object.\u001b[39;00m\n\u001b[1;32m     53\u001b[0m \u001b[38;5;124;03m    \"\"\"\u001b[39;00m\n\u001b[1;32m     54\u001b[0m     \u001b[38;5;28;01mreturn\u001b[39;00m util\u001b[38;5;241m.\u001b[39mload_model(\n\u001b[1;32m     55\u001b[0m         name,\n\u001b[1;32m     56\u001b[0m         vocab\u001b[38;5;241m=\u001b[39mvocab,\n\u001b[0;32m   (...)\u001b[0m\n\u001b[1;32m     60\u001b[0m         config\u001b[38;5;241m=\u001b[39mconfig,\n\u001b[1;32m     61\u001b[0m     )\n",
      "File \u001b[0;32m~/opt/anaconda3/envs/hanhwa/lib/python3.8/site-packages/spacy/util.py:163\u001b[0m, in \u001b[0;36mload_model\u001b[0;34m(name, **overrides)\u001b[0m\n\u001b[1;32m    161\u001b[0m         \u001b[38;5;28;01mreturn\u001b[39;00m reg\u001b[38;5;241m.\u001b[39mfind(legacy_name)\n\u001b[1;32m    162\u001b[0m     \u001b[38;5;28;01mexcept\u001b[39;00m catalogue\u001b[38;5;241m.\u001b[39mRegistryError:\n\u001b[0;32m--> 163\u001b[0m         \u001b[38;5;28;01mpass\u001b[39;00m\n\u001b[1;32m    164\u001b[0m available \u001b[38;5;241m=\u001b[39m \u001b[38;5;124m\"\u001b[39m\u001b[38;5;124m, \u001b[39m\u001b[38;5;124m\"\u001b[39m\u001b[38;5;241m.\u001b[39mjoin(\u001b[38;5;28msorted\u001b[39m(reg\u001b[38;5;241m.\u001b[39mget_all()\u001b[38;5;241m.\u001b[39mkeys())) \u001b[38;5;129;01mor\u001b[39;00m \u001b[38;5;124m\"\u001b[39m\u001b[38;5;124mnone\u001b[39m\u001b[38;5;124m\"\u001b[39m\n\u001b[1;32m    165\u001b[0m \u001b[38;5;28;01mraise\u001b[39;00m RegistryError(\n\u001b[1;32m    166\u001b[0m     Errors\u001b[38;5;241m.\u001b[39mE893\u001b[38;5;241m.\u001b[39mformat(\n\u001b[1;32m    167\u001b[0m         name\u001b[38;5;241m=\u001b[39mfunc_name, reg_name\u001b[38;5;241m=\u001b[39mregistry_name, available\u001b[38;5;241m=\u001b[39mavailable\n\u001b[1;32m    168\u001b[0m     )\n\u001b[1;32m    169\u001b[0m ) \u001b[38;5;28;01mfrom\u001b[39;00m \u001b[38;5;28mNone\u001b[39m\n",
      "\u001b[0;31mOSError\u001b[0m: [E049] Can't find spaCy data directory: 'None'. Check your installation and permissions, or use spacy.util.set_data_path to customise the location if necessary."
     ]
    }
   ],
   "source": [
    "nlp = spacy.load(\"en_core_web_sm\")\n",
    "nlp_coref = spacy.load(\"en_coreference_web_trf\")\n",
    "\n",
    "# use replace_listeners for the coref components\n",
    "nlp_coref.replace_listeners(\"transformer\", \"coref\", [\"model.tok2vec\"])\n",
    "nlp_coref.replace_listeners(\"transformer\", \"span_resolver\", [\"model.tok2vec\"])\n",
    "\n",
    "# we won't copy over the span cleaner\n",
    "nlp.add_pipe(\"coref\", source=nlp_coref)\n",
    "nlp.add_pipe(\"span_resolver\", source=nlp_coref)\n",
    "\n",
    "doc = nlp(\"The cats were startled by the dog as it growled at them.\") \n",
    "\n",
    "# print(doc.spans)"
   ]
  },
  {
   "cell_type": "code",
   "execution_count": 16,
   "id": "73670e27-1f48-4396-8f22-79f0654872dd",
   "metadata": {},
   "outputs": [
    {
     "data": {
      "text/plain": [
       "{'coref_head_clusters_1': [dog, it], 'coref_head_clusters_2': [cats, them], 'coref_clusters_1': [the dog as, it growled], 'coref_clusters_2': [The cats were, them.]}"
      ]
     },
     "execution_count": 16,
     "metadata": {},
     "output_type": "execute_result"
    }
   ],
   "source": [
    "doc.spans"
   ]
  },
  {
   "cell_type": "code",
   "execution_count": null,
   "id": "b3a50cb4-d5f5-48f7-ae9d-84915be00dba",
   "metadata": {},
   "outputs": [],
   "source": []
  }
 ],
 "metadata": {
  "kernelspec": {
   "display_name": "Python 3 (ipykernel)",
   "language": "python",
   "name": "python3"
  },
  "language_info": {
   "codemirror_mode": {
    "name": "ipython",
    "version": 3
   },
   "file_extension": ".py",
   "mimetype": "text/x-python",
   "name": "python",
   "nbconvert_exporter": "python",
   "pygments_lexer": "ipython3",
   "version": "3.9.19"
  }
 },
 "nbformat": 4,
 "nbformat_minor": 5
}
